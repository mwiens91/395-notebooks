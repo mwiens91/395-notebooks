{
 "cells": [
  {
   "cell_type": "code",
   "execution_count": null,
   "metadata": {},
   "outputs": [],
   "source": [
    "%matplotlib inline"
   ]
  },
  {
   "cell_type": "code",
   "execution_count": null,
   "metadata": {
    "scrolled": true
   },
   "outputs": [],
   "source": [
    "import itertools\n",
    "import matplotlib.pyplot as plt\n",
    "import numpy as np\n",
    "import pandas as pd"
   ]
  },
  {
   "cell_type": "markdown",
   "metadata": {},
   "source": [
    "# PHYS 395 - week 7\n",
    "\n",
    "**Matt Wiens - #301294492**\n",
    "\n",
    "This notebook will be organized similarly to the lab script, with major headings corresponding to the headings on the lab script.\n",
    "\n",
    "*The TA's name (Ignacio) will be shortened to \"IC\" whenever used.*"
   ]
  },
  {
   "cell_type": "markdown",
   "metadata": {},
   "source": [
    "## Setup "
   ]
  },
  {
   "cell_type": "code",
   "execution_count": null,
   "metadata": {},
   "outputs": [],
   "source": [
    "# Set default plot size\n",
    "plt.rcParams[\"figure.figsize\"] = (12, 9)"
   ]
  },
  {
   "cell_type": "code",
   "execution_count": null,
   "metadata": {},
   "outputs": [],
   "source": [
    "%%javascript\n",
    "IPython.OutputArea.auto_scroll_threshold = 9999"
   ]
  },
  {
   "cell_type": "markdown",
   "metadata": {},
   "source": [
    "# Monte Carlo simulation of the Ising model"
   ]
  },
  {
   "cell_type": "markdown",
   "metadata": {},
   "source": [
    "## Metropolis simulation"
   ]
  },
  {
   "cell_type": "markdown",
   "metadata": {},
   "source": [
    "First we'll define a function which performs the Metropolis algorithm. Note that we are taking $J = 1$."
   ]
  },
  {
   "cell_type": "code",
   "execution_count": null,
   "metadata": {},
   "outputs": [],
   "source": [
    "def metropolis(\n",
    "    T: float,\n",
    "    L: int,\n",
    "    num_equilibrium_sweeps: int = 200,\n",
    "    num_sample_sweeps: int = 50,\n",
    "    num_samples: int = 300,\n",
    ") -> np.ndarray:\n",
    "    \"\"\"Perform Metropolis algorithm\n",
    "\n",
    "    Returns a 2 x num_samples array, where the\n",
    "    first row contains energy values for each sample and\n",
    "    the second row contains magnitization values for each\n",
    "    sample.\n",
    "    \"\"\"\n",
    "    # Set up a bunch of convenience functions\n",
    "    left = lambda pos: (pos[0], pos[1] - 1)\n",
    "    right = lambda pos: (pos[0], (pos[1] + 1) % L)\n",
    "    top = lambda pos: (pos[0] - 1, pos[1])\n",
    "    bottom = lambda pos: ((pos[0] + 1) % L, pos[1])\n",
    "\n",
    "    random_pos = lambda: tuple(np.random.randint(L, size=2))\n",
    "\n",
    "    def get_total_energy() -> float:\n",
    "        \"\"\"Get total energy of the lattice.\"\"\"\n",
    "        total = 0\n",
    "\n",
    "        for pos in itertools.product(range(L), range(L)):\n",
    "            total += (\n",
    "                lattice[pos] * lattice[left(pos)]\n",
    "                + lattice[pos] * lattice[right(pos)]\n",
    "                + lattice[pos] * lattice[top(pos)]\n",
    "                + lattice[pos] * lattice[bottom(pos)]\n",
    "            )\n",
    "\n",
    "        return -0.5 * total\n",
    "\n",
    "    def get_change_in_energy(pos) -> float:\n",
    "        \"\"\"Get change in energy due to flipping one spin.\"\"\"\n",
    "        pos_total = (\n",
    "            lattice[pos] * lattice[left(pos)]\n",
    "            + lattice[pos] * lattice[right(pos)]\n",
    "            + lattice[pos] * lattice[top(pos)]\n",
    "            + lattice[pos] * lattice[bottom(pos)]\n",
    "        )\n",
    "\n",
    "        return 2 * pos_total\n",
    "\n",
    "    def get_total_magnetization() -> int:\n",
    "        \"\"\"Get the total magnetization of the lattice.\n",
    "        \n",
    "        Note that we don't bother with changes in\n",
    "        magnetization (like we do with energy) since this\n",
    "        calculation is very efficient.\n",
    "        \"\"\"\n",
    "        return np.sum(lattice)\n",
    "\n",
    "    def change_is_accepted(dE: float) -> bool:\n",
    "        \"\"\"Determine if the change is accepted.\"\"\"\n",
    "        return np.exp(-dE / T) >= np.random.rand()\n",
    "\n",
    "    def perform_sweep() -> None:\n",
    "        \"\"\"Randomly flip spins L^2 times according to Boltzmann weights.\"\"\"\n",
    "        nonlocal energy, lattice\n",
    "\n",
    "        for _ in range(L ** 2):\n",
    "            # Develop a candidate flip\n",
    "            pos = random_pos()\n",
    "            dE = get_change_in_energy(pos)\n",
    "\n",
    "            # If accepted, make the flip\n",
    "            if change_is_accepted(dE):\n",
    "                energy += dE\n",
    "                lattice[pos] = -lattice[pos]\n",
    "\n",
    "    # Initialize the lattice with random spin orientations\n",
    "    lattice = np.random.choice([-1, 1], size=(L, L))\n",
    "    energy = get_total_energy()\n",
    "\n",
    "    # Perform equilibrium sweeps\n",
    "    for _ in range(num_equilibrium_sweeps):\n",
    "        perform_sweep()\n",
    "\n",
    "    # Now take samples\n",
    "    data = np.zeros((2, num_samples))\n",
    "    data[:, 0] = [energy, get_total_magnetization()]\n",
    "\n",
    "    for i in range(1, num_samples):\n",
    "        # Sweep a number of times\n",
    "        for _ in range(num_sample_sweeps):\n",
    "            perform_sweep()\n",
    "\n",
    "        data[:, i] = [energy, get_total_magnetization()]\n",
    "\n",
    "    # Return data\n",
    "    return data"
   ]
  },
  {
   "cell_type": "markdown",
   "metadata": {},
   "source": [
    "## Data generation"
   ]
  },
  {
   "cell_type": "markdown",
   "metadata": {},
   "source": [
    "We will consider data for simulations using the following values of temperatures $T$ and lattice lengths $L$."
   ]
  },
  {
   "cell_type": "code",
   "execution_count": null,
   "metadata": {},
   "outputs": [],
   "source": [
    "Ts = np.array([1.5, 2.0, 2.1, 2.2, 2.25, 2.26, 2.27, 2.28, 2.29, 2.3, 2.5, 3.0])\n",
    "Ls = np.array([10, 15, 20, 25])"
   ]
  },
  {
   "cell_type": "markdown",
   "metadata": {},
   "source": [
    "Now we'll either generate data **OR** load data we already have saved."
   ]
  },
  {
   "cell_type": "code",
   "execution_count": null,
   "metadata": {},
   "outputs": [],
   "source": [
    "load_existing_data = True"
   ]
  },
  {
   "cell_type": "markdown",
   "metadata": {},
   "source": [
    "Now we'll generate the data (if the above option is `False`). Each simulations data will be saved to a file `Lxx_Txxx.npy` file where an example filename would be `L25_T250.npy` which corresponds to $L = 25, T = 2.50$."
   ]
  },
  {
   "cell_type": "code",
   "execution_count": null,
   "metadata": {},
   "outputs": [],
   "source": [
    "if not load_existing_data:\n",
    "    for T, L in itertools.product(Ts, Ls):\n",
    "        data = metropolis(T, L)\n",
    "\n",
    "        filename = \"L%02d_T%03d.npy\" % (L, int(round(T * 100)))\n",
    "        np.save(filename, data)"
   ]
  },
  {
   "cell_type": "markdown",
   "metadata": {},
   "source": [
    "## Analysis"
   ]
  },
  {
   "cell_type": "markdown",
   "metadata": {},
   "source": [
    "Now that we have the data we need, let's compute the ensemble averages."
   ]
  },
  {
   "cell_type": "code",
   "execution_count": null,
   "metadata": {},
   "outputs": [],
   "source": [
    "average_abs_Ms = np.zeros((len(Ls), len(Ts)))\n",
    "average_M_squareds = np.zeros((len(Ls), len(Ts)))\n",
    "average_M_fourth_powers = np.zeros((len(Ls), len(Ts)))\n",
    "average_Es = np.zeros((len(Ls), len(Ts)))\n",
    "average_E_squareds = np.zeros((len(Ls), len(Ts)))"
   ]
  },
  {
   "cell_type": "code",
   "execution_count": null,
   "metadata": {},
   "outputs": [],
   "source": [
    "for idxL, L in enumerate(Ls):\n",
    "    for idxT, T in enumerate(Ts):\n",
    "        # Load data\n",
    "        filename = \"L%02d_T%03d.npy\" % (L, int(round(T * 100)))\n",
    "        loaded_data = np.load(filename)\n",
    "\n",
    "        # Add ensemble averages\n",
    "        average_abs_Ms[idxL, idxT] = np.mean(np.abs(loaded_data[1, :]))\n",
    "        average_M_squareds[idxL, idxT] = np.mean(loaded_data[1, :] ** 2)\n",
    "        average_M_fourth_powers[idxL, idxT] = np.mean(loaded_data[1, :] ** 4)\n",
    "        average_Es[idxL, idxT] = np.mean(loaded_data[0, :])\n",
    "        average_E_squareds[idxL, idxT] = np.mean(loaded_data[0, :] ** 2)"
   ]
  },
  {
   "cell_type": "markdown",
   "metadata": {},
   "source": [
    "Now we will produce a plot of the mean absolute magnetization per spin for our different values of $L$."
   ]
  },
  {
   "cell_type": "code",
   "execution_count": null,
   "metadata": {},
   "outputs": [],
   "source": [
    "# Set up figure\n",
    "_, ax = plt.subplots()\n",
    "\n",
    "# Plot data\n",
    "for idxL, L in enumerate(Ls):\n",
    "    plt.plot(Ts, average_abs_Ms[idxL, :] / L ** 2, \"-+\")\n",
    "\n",
    "# Labels\n",
    "ax.set_xlabel(r\"$T$\")\n",
    "ax.set_ylabel(r\"$\\langle |M| \\rangle / N$\")\n",
    "\n",
    "ax.legend([\"L = %s\" % L for L in Ls]);"
   ]
  },
  {
   "cell_type": "markdown",
   "metadata": {},
   "source": [
    "**DESCRIBE ABOVE PLOT**"
   ]
  },
  {
   "cell_type": "markdown",
   "metadata": {},
   "source": [
    "Now we'll plot the specific heat per spin."
   ]
  },
  {
   "cell_type": "code",
   "execution_count": null,
   "metadata": {},
   "outputs": [],
   "source": [
    "# Set up figure\n",
    "_, ax = plt.subplots()\n",
    "\n",
    "# Plot data\n",
    "for idxL, L in enumerate(Ls):\n",
    "    plt.plot(\n",
    "        Ts,\n",
    "        (average_E_squareds[idxL, :] - average_Es[idxL, :] ** 2) / (Ts ** 2 * L ** 2),\n",
    "        \"-+\",\n",
    "    )\n",
    "\n",
    "# Labels\n",
    "ax.set_xlabel(r\"$T$\")\n",
    "ax.set_ylabel(r\"$C_V / N k_B$\")\n",
    "\n",
    "ax.legend([\"L = %s\" % L for L in Ls]);"
   ]
  },
  {
   "cell_type": "markdown",
   "metadata": {},
   "source": [
    "**DESCRIBE ABOVE PLOT**"
   ]
  },
  {
   "cell_type": "markdown",
   "metadata": {},
   "source": [
    "Now we'll plot the susceptibility per spin."
   ]
  },
  {
   "cell_type": "code",
   "execution_count": null,
   "metadata": {},
   "outputs": [],
   "source": [
    "# Set up figure\n",
    "_, ax = plt.subplots()\n",
    "\n",
    "# Plot data\n",
    "for idxL, L in enumerate(Ls):\n",
    "    plt.plot(\n",
    "        Ts,\n",
    "        (average_M_squareds[idxL, :] - average_abs_Ms[idxL, :] ** 2) / (Ts * L ** 2),\n",
    "        \"-+\",\n",
    "    )\n",
    "\n",
    "# Labels\n",
    "ax.set_xlabel(r\"$T$\")\n",
    "ax.set_ylabel(r\"$\\chi_M / N$\")\n",
    "\n",
    "ax.legend([\"L = %s\" % L for L in Ls]);"
   ]
  },
  {
   "cell_type": "markdown",
   "metadata": {},
   "source": [
    "**DESCRIBE ABOVE PLOT**"
   ]
  },
  {
   "cell_type": "markdown",
   "metadata": {},
   "source": [
    "Now we'll plot the Binder cumulant $g$."
   ]
  },
  {
   "cell_type": "code",
   "execution_count": null,
   "metadata": {},
   "outputs": [],
   "source": [
    "# Set up figure\n",
    "_, ax = plt.subplots()\n",
    "\n",
    "# Plot data\n",
    "for idxL, L in enumerate(Ls):\n",
    "    plt.plot(\n",
    "        Ts,\n",
    "        3\n",
    "        / 2\n",
    "        * (\n",
    "            1\n",
    "            - average_M_fourth_powers[idxL, :] / (3 * average_M_squareds[idxL, :] ** 2)\n",
    "        ),\n",
    "        \"-+\",\n",
    "    )\n",
    "\n",
    "# Labels\n",
    "ax.set_xlabel(r\"$T$\")\n",
    "ax.set_ylabel(r\"$g$\")\n",
    "\n",
    "ax.legend([\"L = %s\" % L for L in Ls]);"
   ]
  },
  {
   "cell_type": "markdown",
   "metadata": {},
   "source": [
    "**DESCRIBE ABOVE PLOT**"
   ]
  }
 ],
 "metadata": {
  "kernelspec": {
   "display_name": "Python 3",
   "language": "python",
   "name": "python3"
  },
  "language_info": {
   "codemirror_mode": {
    "name": "ipython",
    "version": 3
   },
   "file_extension": ".py",
   "mimetype": "text/x-python",
   "name": "python",
   "nbconvert_exporter": "python",
   "pygments_lexer": "ipython3",
   "version": "3.6.9"
  }
 },
 "nbformat": 4,
 "nbformat_minor": 2
}
