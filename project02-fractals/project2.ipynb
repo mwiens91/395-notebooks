{
 "cells": [
  {
   "cell_type": "code",
   "execution_count": null,
   "metadata": {},
   "outputs": [],
   "source": [
    "%matplotlib inline"
   ]
  },
  {
   "cell_type": "code",
   "execution_count": null,
   "metadata": {
    "scrolled": true
   },
   "outputs": [],
   "source": [
    "from IPython.display import SVG, display\n",
    "import matplotlib.pyplot as plt\n",
    "from mpl_toolkits.mplot3d import Axes3D\n",
    "import numpy as np"
   ]
  },
  {
   "cell_type": "markdown",
   "metadata": {},
   "source": [
    "# Untitled\n",
    "\n",
    "**PHYS 395 project 2; **\n",
    "**Matt Wiens - #301294492**"
   ]
  },
  {
   "cell_type": "markdown",
   "metadata": {},
   "source": [
    "## Notebook setup "
   ]
  },
  {
   "cell_type": "markdown",
   "metadata": {},
   "source": [
    "The first command here sets the default figure size to be a bit larger than normal. The second command sets it so all figure output areas are expanded by default."
   ]
  },
  {
   "cell_type": "code",
   "execution_count": null,
   "metadata": {},
   "outputs": [],
   "source": [
    "# Set default plot size\n",
    "plt.rcParams[\"figure.figsize\"] = (11, 11)"
   ]
  },
  {
   "cell_type": "code",
   "execution_count": null,
   "metadata": {},
   "outputs": [],
   "source": [
    "%%javascript\n",
    "IPython.OutputArea.auto_scroll_threshold = 9999"
   ]
  },
  {
   "cell_type": "markdown",
   "metadata": {},
   "source": [
    "# Introduction"
   ]
  },
  {
   "cell_type": "markdown",
   "metadata": {},
   "source": [
    "Write introduction here"
   ]
  },
  {
   "cell_type": "markdown",
   "metadata": {},
   "source": [
    "# Methods"
   ]
  },
  {
   "cell_type": "markdown",
   "metadata": {},
   "source": [
    "Write methods here"
   ]
  },
  {
   "cell_type": "markdown",
   "metadata": {},
   "source": [
    "# Analysis"
   ]
  },
  {
   "cell_type": "markdown",
   "metadata": {},
   "source": [
    "## Illustrating fractal behaviour"
   ]
  },
  {
   "cell_type": "markdown",
   "metadata": {},
   "source": [
    "**ignore**"
   ]
  },
  {
   "cell_type": "markdown",
   "metadata": {},
   "source": [
    "To get a start at understanding how randomness can generate fractals, we'll look at a few examples."
   ]
  },
  {
   "cell_type": "markdown",
   "metadata": {},
   "source": [
    "### The Sierpiński triangle"
   ]
  },
  {
   "cell_type": "markdown",
   "metadata": {},
   "source": [
    "**ignore**"
   ]
  },
  {
   "cell_type": "markdown",
   "metadata": {},
   "source": [
    "Here we'll consider how we can randomly generate the Sierpiński triangle. Classically, you can generate this object by starting with any equilateral triangle and subdividing this triangle it into four smaller equilateral triangles of the same size (this subdivision is unique). After removing the \"central\" triangle, apply a similar subdivision to each of the remaining triangles, and repeat this process ad infinitum. Wikipedia has a good illustration of the end result [here][siepgen]).\n",
    "\n",
    "Surprisingly, we can also approximate this triangle \n",
    " \n",
    "[siepgen]: https://en.wikipedia.org/wiki/Sierpi%C5%84ski_triangle#Removing_triangles"
   ]
  },
  {
   "cell_type": "code",
   "execution_count": null,
   "metadata": {},
   "outputs": [],
   "source": [
    "svg_url = \"https://upload.wikimedia.org/wikipedia/commons/0/05/Sierpinski_triangle_evolution.svg\"\n",
    "display(SVG(url=svg_url))"
   ]
  },
  {
   "cell_type": "code",
   "execution_count": null,
   "metadata": {},
   "outputs": [],
   "source": [
    "# Vertices of the equilateral triangle\n",
    "vertices = np.array([[0.0, 0.0], [0.5, 1.0], [1.0, 0.0]])\n",
    "\n",
    "# Pick a random point within the triangle to start\n",
    "s, t = np.sort(np.random.random(2))\n",
    "init_point = np.array(\n",
    "    [\n",
    "        s * vertices[0, 0] + (t - s) * vertices[1, 0] + (1 - t) * vertices[2, 0],\n",
    "        s * vertices[0, 1] + (t - s) * vertices[1, 1] + (1 - t) * vertices[2, 1],\n",
    "    ]\n",
    ")"
   ]
  },
  {
   "cell_type": "code",
   "execution_count": null,
   "metadata": {},
   "outputs": [],
   "source": [
    "# Plot the initial point and the vertices\n",
    "_, ax = plt.subplots()\n",
    "\n",
    "ax.scatter(x=vertices[:, 0], y=vertices[:, 1], c=\"k\", marker=\"*\")\n",
    "ax.scatter(x=init_point[0], y=init_point[1], c=\"r\", marker=\"o\")\n",
    "\n",
    "ax.legend([\"vertices\", \"initial point\"]);"
   ]
  },
  {
   "cell_type": "code",
   "execution_count": null,
   "metadata": {},
   "outputs": [],
   "source": [
    "# Set up an array with all the points we'll compute\n",
    "num_points = 25000\n",
    "\n",
    "points = np.zeros((num_points, 2))\n",
    "points[0, :] = init_point"
   ]
  },
  {
   "cell_type": "code",
   "execution_count": null,
   "metadata": {},
   "outputs": [],
   "source": [
    "# Perform the simulation\n",
    "for i in range(1, num_points):\n",
    "    r = np.random.randint(3)\n",
    "    \n",
    "    points[i, :] = 0.5 * (points[i - 1, :] + vertices[r, :])"
   ]
  },
  {
   "cell_type": "code",
   "execution_count": null,
   "metadata": {},
   "outputs": [],
   "source": [
    "# Plot simulation results\n",
    "_, ax = plt.subplots()\n",
    "\n",
    "ax.scatter(x=points[:, 0], y=points[:, 1], s=0.5);"
   ]
  },
  {
   "cell_type": "markdown",
   "metadata": {},
   "source": [
    "### Fern"
   ]
  },
  {
   "cell_type": "code",
   "execution_count": null,
   "metadata": {},
   "outputs": [],
   "source": [
    "# Set up array to store data\n",
    "num_points = 25000\n",
    "\n",
    "points = np.zeros((num_points, 3))\n",
    "\n",
    "# Initial point is fixed\n",
    "points[0, :] = np.array([0.5, 0.0, -0.2])"
   ]
  },
  {
   "cell_type": "code",
   "execution_count": null,
   "metadata": {},
   "outputs": [],
   "source": [
    "# Setup mode transformation matrices\n",
    "mode_1_mat = np.array([[0.0, 0.0, 0.0], [0.0, 0.18, 0.0], [0.0, 0.0, 0.0]])\n",
    "mode_2_mat = np.array([[0.85, 0.0, 0.0], [0.0, 0.85, 0.1], [0.0, -0.1, 0.85]])\n",
    "mode_3_mat = np.array([[0.2, -0.2, 0.0], [0.2, 0.2, 0.0], [0.0, 0.0, 0.3]])\n",
    "mode_4_mat = np.array([[-0.2, 0.2, 0.0], [0.2, 0.2, 0.0], [0.0, 0.0, 0.3]])\n",
    "\n",
    "# Constants to add after each matrix product\n",
    "mode_1_consts = np.array([0.0, 0.0, 0.0])\n",
    "mode_2_consts = np.array([0.0, 1.6, 0.0])\n",
    "mode_3_consts = np.array([0.0, 0.8, 0.0])\n",
    "mode_4_consts = np.array([0.0, 0.8, 0.0])\n",
    "\n",
    "# Bundle up all the matrices and constants\n",
    "mode_mats = [mode_1_mat, mode_2_mat, mode_3_mat, mode_4_mat]\n",
    "mode_consts = [mode_1_consts, mode_2_consts, mode_3_consts, mode_4_consts]\n",
    "\n",
    "# Probabilities of obtaining each mode\n",
    "mode_probabilities = np.array([0.1, 0.6, 0.15, 0.15])"
   ]
  },
  {
   "cell_type": "code",
   "execution_count": null,
   "metadata": {},
   "outputs": [],
   "source": [
    "# Perform the simulation\n",
    "for i in range(1, num_points):\n",
    "    mode = np.random.choice([0, 1, 2, 3], p=mode_probabilities)\n",
    "\n",
    "    points[i, :] = mode_mats[mode] @ points[i - 1, :] + mode_consts[mode]"
   ]
  },
  {
   "cell_type": "code",
   "execution_count": null,
   "metadata": {},
   "outputs": [],
   "source": [
    "# Plot simulation results\n",
    "fig = plt.figure()\n",
    "ax = fig.add_subplot(111, projection=\"3d\")\n",
    "\n",
    "# The ordering of the x,y,z points were chosen to get the best\n",
    "# default view.\n",
    "ax.scatter(ys=points[:, 0], zs=points[:, 1], xs=points[:, 2], s=0.5);"
   ]
  },
  {
   "cell_type": "markdown",
   "metadata": {},
   "source": [
    "## Ballistic"
   ]
  },
  {
   "cell_type": "markdown",
   "metadata": {},
   "source": [
    "periodic bcs"
   ]
  },
  {
   "cell_type": "code",
   "execution_count": null,
   "metadata": {},
   "outputs": [],
   "source": [
    "# Number of particles to simulate\n",
    "num_particles = 25000\n",
    "\n",
    "# Number sites on ring substrate\n",
    "num_substrate_sites = 300\n",
    "\n",
    "# Array of heights at each substrate site\n",
    "heights = np.zeros(num_substrate_sites)\n",
    "\n",
    "# Array of particle positions (once deposited)\n",
    "points = np.zeros((num_particles, 2))"
   ]
  },
  {
   "cell_type": "code",
   "execution_count": null,
   "metadata": {},
   "outputs": [],
   "source": [
    "# Functions to deal with boundary conditions\n",
    "left_site = lambda site: site - 1\n",
    "right_site = lambda site: (site + 1) % num_substrate_sites"
   ]
  },
  {
   "cell_type": "code",
   "execution_count": null,
   "metadata": {},
   "outputs": [],
   "source": [
    "# Perform the simulation\n",
    "for i in range(num_particles):\n",
    "    site = np.random.randint(num_substrate_sites)\n",
    "\n",
    "    # Determine the maximum height of the neighbouring sites\n",
    "    neighbour_max_height = np.array(\n",
    "        [heights[s] for s in [left_site(site), right_site(site)]]\n",
    "    ).max()\n",
    "\n",
    "    # Determine where to place the particle\n",
    "    if heights[site] >= neighbour_max_height:\n",
    "        heights[site] += 1\n",
    "    else:\n",
    "        heights[site] = neighbour_max_height\n",
    "\n",
    "    points[i, :] = np.array([site, heights[site]])"
   ]
  },
  {
   "cell_type": "code",
   "execution_count": null,
   "metadata": {},
   "outputs": [],
   "source": [
    "# Plot simulation results\n",
    "_, ax = plt.subplots()\n",
    "\n",
    "ax.scatter(x=points[:, 0], y=points[:, 1], s=1.5)\n",
    "\n",
    "# Cosmetics\n",
    "ax.set_xlim([0, num_substrate_sites])\n",
    "ax.set_ylim(ymin=0)\n",
    "\n",
    "ax.set_xlabel(\"substrate site\")\n",
    "ax.set_ylabel(\"height\")\n",
    "ax.set_aspect(\"equal\")"
   ]
  },
  {
   "cell_type": "markdown",
   "metadata": {},
   "source": [
    "## Correlated"
   ]
  },
  {
   "cell_type": "code",
   "execution_count": null,
   "metadata": {},
   "outputs": [],
   "source": [
    "# Number of particles to simulate\n",
    "num_particles = 25000\n",
    "\n",
    "# Number sites on ring substrate\n",
    "num_substrate_sites = 300\n",
    "\n",
    "# Array of heights at each substrate site\n",
    "heights = np.zeros(num_substrate_sites)\n",
    "\n",
    "# Array of particle positions (once deposited)\n",
    "points = np.zeros((num_particles, 2))"
   ]
  },
  {
   "cell_type": "code",
   "execution_count": null,
   "metadata": {},
   "outputs": [],
   "source": [
    "# Functions to deal with boundary conditions\n",
    "left_site = lambda site: site - 1\n",
    "right_site = lambda site: (site + 1) % num_substrate_sites"
   ]
  },
  {
   "cell_type": "code",
   "execution_count": null,
   "metadata": {},
   "outputs": [],
   "source": [
    "# Perform the simulation\n",
    "i = 0\n",
    "\n",
    "while i < num_particles:\n",
    "    site = np.random.randint(num_substrate_sites)\n",
    "\n",
    "    # Determine the maximum height of the neighbouring sites\n",
    "    neighbour_max_height = np.array(\n",
    "        [heights[s] for s in [left_site(site), right_site(site)]]\n",
    "    ).max()\n",
    "\n",
    "    # Determine where to place the particle\n",
    "    if heights[site] >= neighbour_max_height:\n",
    "        candidate_height = heights[site] + 1\n",
    "    else:\n",
    "        candidate_height = neighbour_max_height\n",
    "\n",
    "    candidate_point = np.array([site, candidate_height])\n",
    "\n",
    "    # Determine whether to deposit the particle\n",
    "    # based on its distance from the previous particle\n",
    "    if i == 0:\n",
    "        # First particle always gets placed\n",
    "        pass\n",
    "    else:\n",
    "        # Calculate distance from previous particle. We need\n",
    "        # to be careful with periodic boundary conditions here.\n",
    "        dx = abs(points[i - 1, 0] - site)\n",
    "        mindx = min(dx, num_substrate_sites - dx,)\n",
    "        dsquared = mindx ** 2 + (points[i - 1, 1] - candidate_height) ** 2\n",
    "\n",
    "        if np.random.random() < 5 / dsquared:\n",
    "            pass\n",
    "        else:\n",
    "            continue\n",
    "\n",
    "    # Deposit the particle\n",
    "    heights[site] = candidate_height\n",
    "    points[i, :] = candidate_point\n",
    "\n",
    "    i += 1"
   ]
  },
  {
   "cell_type": "code",
   "execution_count": null,
   "metadata": {
    "scrolled": false
   },
   "outputs": [],
   "source": [
    "# Plot simulation results\n",
    "_, ax = plt.subplots()\n",
    "\n",
    "ax.scatter(x=points[:, 0], y=points[:, 1], s=1.5)\n",
    "\n",
    "# Cosmetics\n",
    "ax.set_xlim([0, num_substrate_sites])\n",
    "ax.set_ylim(ymin=0)\n",
    "\n",
    "ax.set_xlabel(\"substrate site\")\n",
    "ax.set_ylabel(\"height\")\n",
    "ax.set_aspect(\"equal\")"
   ]
  },
  {
   "cell_type": "markdown",
   "metadata": {},
   "source": [
    "# Discussion"
   ]
  },
  {
   "cell_type": "markdown",
   "metadata": {},
   "source": [
    "Write discussion here"
   ]
  }
 ],
 "metadata": {
  "kernelspec": {
   "display_name": "Python 3",
   "language": "python",
   "name": "python3"
  },
  "language_info": {
   "codemirror_mode": {
    "name": "ipython",
    "version": 3
   },
   "file_extension": ".py",
   "mimetype": "text/x-python",
   "name": "python",
   "nbconvert_exporter": "python",
   "pygments_lexer": "ipython3",
   "version": "3.6.9"
  }
 },
 "nbformat": 4,
 "nbformat_minor": 2
}
