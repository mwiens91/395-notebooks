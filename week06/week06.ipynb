{
 "cells": [
  {
   "cell_type": "code",
   "execution_count": null,
   "metadata": {},
   "outputs": [],
   "source": [
    "%matplotlib inline"
   ]
  },
  {
   "cell_type": "code",
   "execution_count": null,
   "metadata": {
    "scrolled": true
   },
   "outputs": [],
   "source": [
    "import itertools\n",
    "import matplotlib.pyplot as plt\n",
    "import numpy as np\n",
    "import pandas as pd"
   ]
  },
  {
   "cell_type": "markdown",
   "metadata": {},
   "source": [
    "# PHYS 395 - week 6\n",
    "\n",
    "**Matt Wiens - #301294492**\n",
    "\n",
    "This notebook will be organized similarly to the lab script, with major headings corresponding to the headings on the lab script.\n",
    "\n",
    "*The TA's name (Ignacio) will be shortened to \"IC\" whenever used.*"
   ]
  },
  {
   "cell_type": "markdown",
   "metadata": {},
   "source": [
    "## Setup"
   ]
  },
  {
   "cell_type": "code",
   "execution_count": null,
   "metadata": {
    "scrolled": true
   },
   "outputs": [],
   "source": [
    "# Set default plot size\n",
    "plt.rcParams[\"figure.figsize\"] = (12, 9)"
   ]
  },
  {
   "cell_type": "code",
   "execution_count": null,
   "metadata": {},
   "outputs": [],
   "source": [
    "%%javascript\n",
    "IPython.OutputArea.auto_scroll_threshold = 9999"
   ]
  },
  {
   "cell_type": "markdown",
   "metadata": {},
   "source": [
    "# Partial differential equations"
   ]
  },
  {
   "cell_type": "markdown",
   "metadata": {},
   "source": [
    "## Solving Laplace's equation"
   ]
  },
  {
   "cell_type": "markdown",
   "metadata": {},
   "source": [
    "Consider Laplace's equation in the form $V_{xx} + V_{yy} = 0$, where $V(x, y)$ is a potential. This is something we want to solve numerically. We can do so by using a grid with step size $h$.\n",
    "\n",
    "On this grid, use the notation $V(x_i, y_j) = V_{i, j}$. A finite difference formula for the second derivative is\n",
    "\n",
    "\\begin{equation}\n",
    "    V_{xx} = \\frac{V_{i - 1, j} - 2 V_{i, j} + V_{i + 1, j}}{h^2},\n",
    "\\end{equation}\n",
    "\n",
    "and similarly for $V_{yy}$."
   ]
  },
  {
   "cell_type": "markdown",
   "metadata": {},
   "source": [
    "We can come up with a nice equation for the potential at a grid point $(i, j)$ as follows:\n",
    "\n",
    "\\begin{align}\n",
    "    &V_{xx} + V_{yy} = 0 \\\\\n",
    "    &\\Rightarrow \n",
    "        \\frac{V_{i - 1, j} - 2 V_{i, j} + V_{i + 1, j}}{h^2}\n",
    "        + \\frac{V_{i, j - 1} - 2 V_{i, j} + V_{i, j + 1}}{h^2}\n",
    "        = 0 \\\\\n",
    "    &\\Rightarrow V_{i, j} = \\frac{1}{4} \\left(\n",
    "        V_{i - 1, j} + V_{i + 1, j} + V_{i, j - 1} + V_{i, j + 1}\n",
    "        \\right)\n",
    "    .\n",
    "\\end{align}"
   ]
  },
  {
   "cell_type": "markdown",
   "metadata": {},
   "source": [
    "See the discussion in the lab script for more details on numerical methods for solving Laplace's equation."
   ]
  },
  {
   "cell_type": "markdown",
   "metadata": {},
   "source": [
    "### Potential with fixed boundaries"
   ]
  },
  {
   "cell_type": "markdown",
   "metadata": {},
   "source": [
    "Consider Laplace's equation in a square box, 1m on each side, with voltage 1V along the bottom and far wall and 0V along the others."
   ]
  },
  {
   "cell_type": "code",
   "execution_count": null,
   "metadata": {},
   "outputs": [],
   "source": [
    "# Set up the box matrix\n",
    "box_mat = np.zeros((101, 101))\n",
    "\n",
    "# Set up boundary conditions\n",
    "box_mat[:, -1] = np.ones(101)\n",
    "box_mat[-1, :] = np.ones(101)\n",
    "\n",
    "# Tolerance\n",
    "delta_tol = 1e-4"
   ]
  },
  {
   "cell_type": "markdown",
   "metadata": {},
   "source": [
    "#### Jacobi update formula"
   ]
  },
  {
   "cell_type": "markdown",
   "metadata": {},
   "source": [
    "Here we will solve for the potential numerically using the Jacobi update formula."
   ]
  },
  {
   "cell_type": "code",
   "execution_count": null,
   "metadata": {
    "scrolled": true
   },
   "outputs": [],
   "source": [
    "iters = 0\n",
    "max_diff_sqrd = 1\n",
    "\n",
    "while max_diff_sqrd > delta_tol ** 2:\n",
    "    # Increment num iteration counter\n",
    "    iters += 1\n",
    "\n",
    "    # Run Jacobi update formula\n",
    "    old_mat = box_mat.copy()\n",
    "\n",
    "    for i, j in itertools.product(range(1, 100), range(1, 100)):\n",
    "        box_mat[i, j] = (\n",
    "            old_mat[i - 1, j]\n",
    "            + old_mat[i + 1, j]\n",
    "            + old_mat[i, j - 1]\n",
    "            + old_mat[i, j + 1]\n",
    "        ) / 4\n",
    "\n",
    "    # Find maximum difference\n",
    "    max_diff_sqrd = ((box_mat - old_mat) ** 2).max()"
   ]
  },
  {
   "cell_type": "markdown",
   "metadata": {},
   "source": [
    "This took the following number of iterations:"
   ]
  },
  {
   "cell_type": "code",
   "execution_count": null,
   "metadata": {},
   "outputs": [],
   "source": [
    "print(iters)"
   ]
  },
  {
   "cell_type": "markdown",
   "metadata": {},
   "source": [
    "Now we'll show a heatmap of the solution we computed."
   ]
  },
  {
   "cell_type": "code",
   "execution_count": null,
   "metadata": {},
   "outputs": [],
   "source": [
    "plt.figure()\n",
    "\n",
    "plt.imshow(box_mat, interpolation=None)\n",
    "plt.colorbar();"
   ]
  },
  {
   "cell_type": "markdown",
   "metadata": {},
   "source": [
    "#### Gauss-Seidel method"
   ]
  },
  {
   "cell_type": "code",
   "execution_count": null,
   "metadata": {},
   "outputs": [],
   "source": [
    "# Set up the box matrix\n",
    "box_mat = np.zeros((101, 101))\n",
    "\n",
    "# Set up boundary conditions\n",
    "box_mat[:, -1] = np.ones(101)\n",
    "box_mat[-1, :] = np.ones(101)\n",
    "\n",
    "# Tolerance\n",
    "delta_tol = 1e-4"
   ]
  },
  {
   "cell_type": "markdown",
   "metadata": {},
   "source": [
    "Now we'll try using the Gauss-Seidel method using the same tolerance as before."
   ]
  },
  {
   "cell_type": "code",
   "execution_count": null,
   "metadata": {},
   "outputs": [],
   "source": [
    "iters = 0\n",
    "max_diff_sqrd = 1\n",
    "\n",
    "while max_diff_sqrd > delta_tol ** 2:\n",
    "    # Increment num iteration counter\n",
    "    iters += 1\n",
    "\n",
    "    # Run Gauss-Seidel update formula\n",
    "    old_mat = box_mat.copy()\n",
    "\n",
    "    for i, j in itertools.product(range(1, 100), range(1, 100)):\n",
    "        box_mat[i, j] = (\n",
    "            box_mat[i - 1, j]\n",
    "            + box_mat[i + 1, j]\n",
    "            + box_mat[i, j - 1]\n",
    "            + box_mat[i, j + 1]\n",
    "        ) / 4\n",
    "\n",
    "    # Find maximum difference\n",
    "    max_diff_sqrd = ((box_mat - old_mat) ** 2).max()"
   ]
  },
  {
   "cell_type": "code",
   "execution_count": null,
   "metadata": {},
   "outputs": [],
   "source": [
    "print(iters)"
   ]
  },
  {
   "cell_type": "markdown",
   "metadata": {},
   "source": [
    "Now we'll show a heatmap of the solution we computed."
   ]
  },
  {
   "cell_type": "code",
   "execution_count": null,
   "metadata": {},
   "outputs": [],
   "source": [
    "plt.figure()\n",
    "\n",
    "plt.imshow(box_mat, interpolation=None)\n",
    "plt.colorbar();"
   ]
  },
  {
   "cell_type": "markdown",
   "metadata": {},
   "source": [
    "For this method, the Gauss-Seidel used 74% of the iterations used by the Jacobi solution, and appears to give a similar solution."
   ]
  },
  {
   "cell_type": "markdown",
   "metadata": {},
   "source": [
    "#### Gauss-Seidel with SOR method"
   ]
  },
  {
   "cell_type": "markdown",
   "metadata": {},
   "source": [
    "Finally, let's try the SOR method using $\\omega = 1.2$."
   ]
  },
  {
   "cell_type": "code",
   "execution_count": null,
   "metadata": {},
   "outputs": [],
   "source": [
    "# Set up the box matrix\n",
    "box_mat = np.zeros((101, 101))\n",
    "\n",
    "# Set up boundary conditions\n",
    "box_mat[:, -1] = np.ones(101)\n",
    "box_mat[-1, :] = np.ones(101)\n",
    "\n",
    "# Tolerance\n",
    "delta_tol = 1e-4"
   ]
  },
  {
   "cell_type": "code",
   "execution_count": null,
   "metadata": {},
   "outputs": [],
   "source": [
    "iters = 0\n",
    "max_diff_sqrd = 1\n",
    "\n",
    "# SOR weight\n",
    "weight = 1.2\n",
    "\n",
    "while max_diff_sqrd > delta_tol ** 2:\n",
    "    # Increment num iteration counter\n",
    "    iters += 1\n",
    "\n",
    "    # Run Gauss-Seidel update formula\n",
    "    old_mat = box_mat.copy()\n",
    "\n",
    "    for i, j in itertools.product(range(1, 100), range(1, 100)):\n",
    "        box_mat[i, j] = (\n",
    "            box_mat[i - 1, j]\n",
    "            + box_mat[i + 1, j]\n",
    "            + box_mat[i, j - 1]\n",
    "            + box_mat[i, j + 1]\n",
    "        ) / 4\n",
    "\n",
    "    # Apply SOR method\n",
    "    box_mat = (1 - weight) * old_mat + weight * box_mat\n",
    "\n",
    "    # Find maximum difference\n",
    "    max_diff_sqrd = ((box_mat - old_mat) ** 2).max()"
   ]
  },
  {
   "cell_type": "code",
   "execution_count": null,
   "metadata": {},
   "outputs": [],
   "source": [
    "print(iters)"
   ]
  },
  {
   "cell_type": "markdown",
   "metadata": {},
   "source": [
    "Now we'll show a heatmap of the solution we computed."
   ]
  },
  {
   "cell_type": "code",
   "execution_count": null,
   "metadata": {
    "scrolled": false
   },
   "outputs": [],
   "source": [
    "plt.figure()\n",
    "\n",
    "plt.imshow(box_mat, interpolation=None)\n",
    "plt.colorbar();"
   ]
  },
  {
   "cell_type": "markdown",
   "metadata": {},
   "source": [
    "This method gave us a slight speed up for this example. Nothing dramatic."
   ]
  },
  {
   "cell_type": "markdown",
   "metadata": {},
   "source": [
    "### Potential of a parallel plate capacitor"
   ]
  },
  {
   "cell_type": "markdown",
   "metadata": {},
   "source": [
    "DO THIS LATER"
   ]
  },
  {
   "cell_type": "markdown",
   "metadata": {},
   "source": [
    "## Solving the heat/diffusion equation"
   ]
  },
  {
   "cell_type": "markdown",
   "metadata": {},
   "source": [
    "Similarly to Laplace's equation we can discretize the heat equation to derive the FTCS equation, which provides a numerical method that we can use to solve the heat equation."
   ]
  },
  {
   "cell_type": "markdown",
   "metadata": {},
   "source": [
    "### Problems"
   ]
  },
  {
   "cell_type": "markdown",
   "metadata": {},
   "source": [
    "#### Thermal diffusion through Earth"
   ]
  },
  {
   "cell_type": "markdown",
   "metadata": {},
   "source": [
    "First, using the formulas provided in the lab script, we will plot the seasonal variation of the ground temperature in Canada's arctic."
   ]
  },
  {
   "cell_type": "code",
   "execution_count": null,
   "metadata": {},
   "outputs": [],
   "source": [
    "# Constants\n",
    "A = -12  # deg C\n",
    "B = 20  # deg C\n",
    "phi = -1.9  # rads\n",
    "\n",
    "# Get data\n",
    "days = np.arange(1, 366, 1)\n",
    "ground_Ts = A + B * np.sin(2 * np.pi * days / 365 + phi)"
   ]
  },
  {
   "cell_type": "code",
   "execution_count": null,
   "metadata": {},
   "outputs": [],
   "source": [
    "# Setup figure\n",
    "_, ax = plt.subplots()\n",
    "\n",
    "plt.plot(days, ground_Ts)\n",
    "\n",
    "# Labels\n",
    "ax.set_xlabel(r\"$t$ (days)\")\n",
    "ax.set_ylabel(r\"ground $T$ ($^\\circ C$)\");"
   ]
  },
  {
   "cell_type": "markdown",
   "metadata": {},
   "source": [
    "Now let's consider the heat equation on the domain $[0, \\infty) \\times [0, L]$ (where the first term in the Cartesian product is the temporal part and the second term is the spacial part), with boundary conditions\n",
    "\n",
    "\\begin{align}\n",
    "    T(0, x) &= A, \\\\\n",
    "    T(t, 0) &= A + B \\sin \\left( \\frac{2 \\pi t}{\\tau} + \\phi \\right), \\\\\n",
    "    T(t, L) &= A + m_T L.\n",
    "\\end{align}\n",
    "\n",
    "We will solve the heat equation over 10 years numerically."
   ]
  },
  {
   "cell_type": "code",
   "execution_count": null,
   "metadata": {},
   "outputs": [],
   "source": [
    "# Add in extra constants\n",
    "alpha = 0.1  # m^2 / day\n",
    "m_T = 30e-3  # deg C / m\n",
    "L = 40  # m\n",
    "\n",
    "points_per_year = 12\n",
    "num_years = 10\n",
    "num_spatial_pts = 101"
   ]
  },
  {
   "cell_type": "markdown",
   "metadata": {},
   "source": [
    "Before proceeding, let's verify that our stability condition is satisfied. Recall that we need to have\n",
    "\n",
    "\\begin{equation}\n",
    "    \\Delta t < \\frac{h^2}{2 \\alpha}\n",
    "    .\n",
    "\\end{equation}"
   ]
  },
  {
   "cell_type": "code",
   "execution_count": null,
   "metadata": {},
   "outputs": [],
   "source": [
    "print(points_per_year / 365 < (L / (num_spatial_pts - 1)) ** 2 / (2 * alpha))"
   ]
  },
  {
   "cell_type": "markdown",
   "metadata": {},
   "source": [
    "Now that we've verified that our solution will be stable, we can go ahead and get solve numerically."
   ]
  },
  {
   "cell_type": "code",
   "execution_count": null,
   "metadata": {},
   "outputs": [],
   "source": [
    "# Set up initial guess\n",
    "initial_mat = np.zeros((points_per_year * num_years, num_spatial_pts))"
   ]
  }
 ],
 "metadata": {
  "kernelspec": {
   "display_name": "Python 3",
   "language": "python",
   "name": "python3"
  },
  "language_info": {
   "codemirror_mode": {
    "name": "ipython",
    "version": 3
   },
   "file_extension": ".py",
   "mimetype": "text/x-python",
   "name": "python",
   "nbconvert_exporter": "python",
   "pygments_lexer": "ipython3",
   "version": "3.8.1"
  }
 },
 "nbformat": 4,
 "nbformat_minor": 2
}
