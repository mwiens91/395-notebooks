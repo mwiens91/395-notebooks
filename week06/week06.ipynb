{
 "cells": [
  {
   "cell_type": "code",
   "execution_count": null,
   "metadata": {},
   "outputs": [],
   "source": [
    "%matplotlib inline"
   ]
  },
  {
   "cell_type": "code",
   "execution_count": null,
   "metadata": {
    "scrolled": true
   },
   "outputs": [],
   "source": [
    "import matplotlib.pyplot as plt\n",
    "import numpy as np\n",
    "import pandas as pd"
   ]
  },
  {
   "cell_type": "markdown",
   "metadata": {},
   "source": [
    "# PHYS 395 - week 6\n",
    "\n",
    "**Matt Wiens - #301294492**\n",
    "\n",
    "This notebook will be organized similarly to the lab script, with major headings corresponding to the headings on the lab script.\n",
    "\n",
    "*The TA's name (Ignacio) will be shortened to \"IC\" whenever used.*"
   ]
  },
  {
   "cell_type": "markdown",
   "metadata": {},
   "source": [
    "## Setup"
   ]
  },
  {
   "cell_type": "code",
   "execution_count": null,
   "metadata": {
    "scrolled": true
   },
   "outputs": [],
   "source": [
    "# Set default plot size\n",
    "plt.rcParams[\"figure.figsize\"] = (12, 9)"
   ]
  },
  {
   "cell_type": "code",
   "execution_count": null,
   "metadata": {},
   "outputs": [],
   "source": [
    "%%javascript\n",
    "IPython.OutputArea.auto_scroll_threshold = 9999"
   ]
  },
  {
   "cell_type": "markdown",
   "metadata": {},
   "source": [
    "# Partial differential equations"
   ]
  },
  {
   "cell_type": "markdown",
   "metadata": {},
   "source": [
    "## Solving Laplace's equation"
   ]
  },
  {
   "cell_type": "markdown",
   "metadata": {},
   "source": [
    "Consider Laplace's equation in the form $V_{xx} + V_{yy} = 0$, where $V(x, y)$ is a potential. This is something we want to solve numerically. We can do so by using a grid with step size $h$.\n",
    "\n",
    "On this grid, use the notation $V(x_i, y_j) = V_{i, j}$. A finite difference formula for the second derivative is\n",
    "\n",
    "\\begin{equation}\n",
    "    V_{xx} = \\frac{V_{i - 1, j} - 2 V_{i, j} + V_{i + 1, j}}{h^2},\n",
    "\\end{equation}\n",
    "\n",
    "and similarly for $V_{yy}$."
   ]
  },
  {
   "cell_type": "markdown",
   "metadata": {},
   "source": [
    "We can come up with a nice equation for the potential at a grid point $(i, j)$ as follows:\n",
    "\n",
    "\\begin{align}\n",
    "    &V_{xx} + V_{yy} = 0 \\\\\n",
    "    &\\Rightarrow \n",
    "        \\frac{V_{i - 1, j} - 2 V_{i, j} + V_{i + 1, j}}{h^2}\n",
    "        + \\frac{V_{i, j - 1} - 2 V_{i, j} + V_{i, j + 1}}{h^2}\n",
    "        = 0 \\\\\n",
    "    &\\Rightarrow V_{i, j} = \\frac{1}{4} \\left(\n",
    "        V_{i - 1, j} + V_{i + 1, j} + V_{i, j - 1} + V_{i, j + 1}\n",
    "        \\right)\n",
    "    .\n",
    "\\end{align}"
   ]
  },
  {
   "cell_type": "markdown",
   "metadata": {},
   "source": [
    "See the discussion in the lab script for more details on numerical methods for solving Laplace's equation."
   ]
  },
  {
   "cell_type": "markdown",
   "metadata": {},
   "source": [
    "### Potential with fixed boundaries"
   ]
  },
  {
   "cell_type": "markdown",
   "metadata": {},
   "source": [
    "Consider Laplace's equation in a square box, 1m on each side, with voltage 1V along the bottom and far wall and 0V along the others."
   ]
  }
 ],
 "metadata": {
  "kernelspec": {
   "display_name": "Python 3",
   "language": "python",
   "name": "python3"
  },
  "language_info": {
   "codemirror_mode": {
    "name": "ipython",
    "version": 3
   },
   "file_extension": ".py",
   "mimetype": "text/x-python",
   "name": "python",
   "nbconvert_exporter": "python",
   "pygments_lexer": "ipython3",
   "version": "3.8.1"
  }
 },
 "nbformat": 4,
 "nbformat_minor": 2
}
