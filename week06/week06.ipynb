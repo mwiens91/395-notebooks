{
 "cells": [
  {
   "cell_type": "code",
   "execution_count": null,
   "metadata": {},
   "outputs": [],
   "source": [
    "%matplotlib notebook "
   ]
  },
  {
   "cell_type": "code",
   "execution_count": null,
   "metadata": {
    "scrolled": true
   },
   "outputs": [],
   "source": [
    "import itertools\n",
    "from IPython.display import Audio\n",
    "from matplotlib import animation\n",
    "import matplotlib.pyplot as plt\n",
    "import numpy as np\n",
    "import pandas as pd"
   ]
  },
  {
   "cell_type": "markdown",
   "metadata": {},
   "source": [
    "# PHYS 395 - week 6\n",
    "\n",
    "**Matt Wiens - #301294492**\n",
    "\n",
    "This notebook will be organized similarly to the lab script, with major headings corresponding to the headings on the lab script.\n",
    "\n",
    "*The TA's name (Ignacio) will be shortened to \"IC\" whenever used.*"
   ]
  },
  {
   "cell_type": "markdown",
   "metadata": {},
   "source": [
    "# Partial differential equations"
   ]
  },
  {
   "cell_type": "markdown",
   "metadata": {},
   "source": [
    "## Solving Laplace's equation"
   ]
  },
  {
   "cell_type": "markdown",
   "metadata": {},
   "source": [
    "Consider Laplace's equation in the form $V_{xx} + V_{yy} = 0$, where $V(x, y)$ is a potential. This is something we want to solve numerically. We can do so by using a grid with step size $h$.\n",
    "\n",
    "On this grid, use the notation $V(x_i, y_j) = V_{i, j}$. A finite difference formula for the second derivative is\n",
    "\n",
    "\\begin{equation}\n",
    "    V_{xx} = \\frac{V_{i - 1, j} - 2 V_{i, j} + V_{i + 1, j}}{h^2},\n",
    "\\end{equation}\n",
    "\n",
    "and similarly for $V_{yy}$."
   ]
  },
  {
   "cell_type": "markdown",
   "metadata": {},
   "source": [
    "We can come up with a nice equation for the potential at a grid point $(i, j)$ as follows:\n",
    "\n",
    "\\begin{align}\n",
    "    &V_{xx} + V_{yy} = 0 \\\\\n",
    "    &\\Rightarrow \n",
    "        \\frac{V_{i - 1, j} - 2 V_{i, j} + V_{i + 1, j}}{h^2}\n",
    "        + \\frac{V_{i, j - 1} - 2 V_{i, j} + V_{i, j + 1}}{h^2}\n",
    "        = 0 \\\\\n",
    "    &\\Rightarrow V_{i, j} = \\frac{1}{4} \\left(\n",
    "        V_{i - 1, j} + V_{i + 1, j} + V_{i, j - 1} + V_{i, j + 1}\n",
    "        \\right)\n",
    "    .\n",
    "\\end{align}"
   ]
  },
  {
   "cell_type": "markdown",
   "metadata": {},
   "source": [
    "See the discussion in the lab script for more details on numerical methods for solving Laplace's equation."
   ]
  },
  {
   "cell_type": "markdown",
   "metadata": {},
   "source": [
    "### Potential with fixed boundaries"
   ]
  },
  {
   "cell_type": "markdown",
   "metadata": {},
   "source": [
    "Consider Laplace's equation in a square box, 1m on each side, with voltage 1V along the bottom and far wall and 0V along the others."
   ]
  },
  {
   "cell_type": "code",
   "execution_count": null,
   "metadata": {},
   "outputs": [],
   "source": [
    "# Set up the box matrix\n",
    "box_mat = np.zeros((101, 101))\n",
    "\n",
    "# Set up boundary conditions\n",
    "box_mat[:, -1] = np.ones(101)\n",
    "box_mat[-1, :] = np.ones(101)\n",
    "\n",
    "# Tolerance\n",
    "delta_tol = 1e-4"
   ]
  },
  {
   "cell_type": "markdown",
   "metadata": {},
   "source": [
    "#### Jacobi update formula"
   ]
  },
  {
   "cell_type": "markdown",
   "metadata": {},
   "source": [
    "Here we will solve for the potential numerically using the Jacobi update formula."
   ]
  },
  {
   "cell_type": "code",
   "execution_count": null,
   "metadata": {
    "scrolled": true
   },
   "outputs": [],
   "source": [
    "iters = 0\n",
    "max_diff_sqrd = 1\n",
    "\n",
    "while max_diff_sqrd > delta_tol ** 2:\n",
    "    # Increment num iteration counter\n",
    "    iters += 1\n",
    "\n",
    "    # Run Jacobi update formula\n",
    "    old_mat = box_mat.copy()\n",
    "\n",
    "    for i, j in itertools.product(range(1, 100), range(1, 100)):\n",
    "        box_mat[i, j] = (\n",
    "            old_mat[i - 1, j]\n",
    "            + old_mat[i + 1, j]\n",
    "            + old_mat[i, j - 1]\n",
    "            + old_mat[i, j + 1]\n",
    "        ) / 4\n",
    "\n",
    "    # Find maximum difference\n",
    "    max_diff_sqrd = ((box_mat - old_mat) ** 2).max()"
   ]
  },
  {
   "cell_type": "markdown",
   "metadata": {},
   "source": [
    "This took the following number of iterations:"
   ]
  },
  {
   "cell_type": "code",
   "execution_count": null,
   "metadata": {},
   "outputs": [],
   "source": [
    "print(iters)"
   ]
  },
  {
   "cell_type": "markdown",
   "metadata": {},
   "source": [
    "Now we'll show a heatmap of the solution we computed."
   ]
  },
  {
   "cell_type": "code",
   "execution_count": null,
   "metadata": {},
   "outputs": [],
   "source": [
    "plt.figure()\n",
    "\n",
    "plt.imshow(box_mat, interpolation=None)\n",
    "plt.colorbar();"
   ]
  },
  {
   "cell_type": "markdown",
   "metadata": {},
   "source": [
    "#### Gauss-Seidel method"
   ]
  },
  {
   "cell_type": "code",
   "execution_count": null,
   "metadata": {},
   "outputs": [],
   "source": [
    "# Set up the box matrix\n",
    "box_mat = np.zeros((101, 101))\n",
    "\n",
    "# Set up boundary conditions\n",
    "box_mat[:, -1] = np.ones(101)\n",
    "box_mat[-1, :] = np.ones(101)\n",
    "\n",
    "# Tolerance\n",
    "delta_tol = 1e-4"
   ]
  },
  {
   "cell_type": "markdown",
   "metadata": {},
   "source": [
    "Now we'll try using the Gauss-Seidel method using the same tolerance as before."
   ]
  },
  {
   "cell_type": "code",
   "execution_count": null,
   "metadata": {},
   "outputs": [],
   "source": [
    "iters = 0\n",
    "max_diff_sqrd = 1\n",
    "\n",
    "while max_diff_sqrd > delta_tol ** 2:\n",
    "    # Increment num iteration counter\n",
    "    iters += 1\n",
    "\n",
    "    # Run Gauss-Seidel update formula\n",
    "    old_mat = box_mat.copy()\n",
    "\n",
    "    for i, j in itertools.product(range(1, 100), range(1, 100)):\n",
    "        box_mat[i, j] = (\n",
    "            box_mat[i - 1, j]\n",
    "            + box_mat[i + 1, j]\n",
    "            + box_mat[i, j - 1]\n",
    "            + box_mat[i, j + 1]\n",
    "        ) / 4\n",
    "\n",
    "    # Find maximum difference\n",
    "    max_diff_sqrd = ((box_mat - old_mat) ** 2).max()"
   ]
  },
  {
   "cell_type": "code",
   "execution_count": null,
   "metadata": {},
   "outputs": [],
   "source": [
    "print(iters)"
   ]
  },
  {
   "cell_type": "markdown",
   "metadata": {},
   "source": [
    "Now we'll show a heatmap of the solution we computed."
   ]
  },
  {
   "cell_type": "code",
   "execution_count": null,
   "metadata": {
    "scrolled": false
   },
   "outputs": [],
   "source": [
    "plt.figure()\n",
    "\n",
    "plt.imshow(box_mat, interpolation=None)\n",
    "plt.colorbar();"
   ]
  },
  {
   "cell_type": "markdown",
   "metadata": {},
   "source": [
    "For this method, the Gauss-Seidel used 74% of the iterations used by the Jacobi solution, and appears to give a similar solution."
   ]
  },
  {
   "cell_type": "markdown",
   "metadata": {},
   "source": [
    "#### Gauss-Seidel with SOR method"
   ]
  },
  {
   "cell_type": "markdown",
   "metadata": {},
   "source": [
    "Finally, let's try the SOR method using $\\omega = 1.2$."
   ]
  },
  {
   "cell_type": "code",
   "execution_count": null,
   "metadata": {},
   "outputs": [],
   "source": [
    "# Set up the box matrix\n",
    "box_mat = np.zeros((101, 101))\n",
    "\n",
    "# Set up boundary conditions\n",
    "box_mat[:, -1] = np.ones(101)\n",
    "box_mat[-1, :] = np.ones(101)\n",
    "\n",
    "# Tolerance\n",
    "delta_tol = 1e-4"
   ]
  },
  {
   "cell_type": "code",
   "execution_count": null,
   "metadata": {},
   "outputs": [],
   "source": [
    "iters = 0\n",
    "max_diff_sqrd = 1\n",
    "\n",
    "# SOR weight\n",
    "weight = 1.2\n",
    "\n",
    "while max_diff_sqrd > delta_tol ** 2:\n",
    "    # Increment num iteration counter\n",
    "    iters += 1\n",
    "\n",
    "    # Run Gauss-Seidel update formula\n",
    "    old_mat = box_mat.copy()\n",
    "\n",
    "    for i, j in itertools.product(range(1, 100), range(1, 100)):\n",
    "        box_mat[i, j] = (\n",
    "            box_mat[i - 1, j]\n",
    "            + box_mat[i + 1, j]\n",
    "            + box_mat[i, j - 1]\n",
    "            + box_mat[i, j + 1]\n",
    "        ) / 4\n",
    "\n",
    "    # Apply SOR method\n",
    "    box_mat = (1 - weight) * old_mat + weight * box_mat\n",
    "\n",
    "    # Find maximum difference\n",
    "    max_diff_sqrd = ((box_mat - old_mat) ** 2).max()"
   ]
  },
  {
   "cell_type": "code",
   "execution_count": null,
   "metadata": {},
   "outputs": [],
   "source": [
    "print(iters)"
   ]
  },
  {
   "cell_type": "markdown",
   "metadata": {},
   "source": [
    "Now we'll show a heatmap of the solution we computed."
   ]
  },
  {
   "cell_type": "code",
   "execution_count": null,
   "metadata": {
    "scrolled": false
   },
   "outputs": [],
   "source": [
    "plt.figure()\n",
    "\n",
    "plt.imshow(box_mat, interpolation=None)\n",
    "plt.colorbar();"
   ]
  },
  {
   "cell_type": "markdown",
   "metadata": {},
   "source": [
    "This method gave us a slight speed up for this example. Nothing dramatic."
   ]
  },
  {
   "cell_type": "markdown",
   "metadata": {},
   "source": [
    "### Potential of a parallel plate capacitor"
   ]
  },
  {
   "cell_type": "markdown",
   "metadata": {},
   "source": [
    "Now we will solve the parallel plate capacitor problem in the lab script using the Gauss-Seidel method."
   ]
  },
  {
   "cell_type": "code",
   "execution_count": null,
   "metadata": {},
   "outputs": [],
   "source": [
    "# Set up the box matrix. The initial guess\n",
    "# will be zeroes everywhere we do not have\n",
    "# a fixed value.\n",
    "box_mat = np.zeros((101, 101))\n",
    "\n",
    "# Set up boundary conditions\n",
    "box_mat[20:80, 30] = np.ones(60)\n",
    "box_mat[20:80, 70] = - np.ones(60)\n",
    "\n",
    "# Tolerance\n",
    "delta_tol = 1e-4"
   ]
  },
  {
   "cell_type": "markdown",
   "metadata": {},
   "source": [
    "Now we'll try using the Gauss-Seidel method using the same tolerance as before."
   ]
  },
  {
   "cell_type": "code",
   "execution_count": null,
   "metadata": {},
   "outputs": [],
   "source": [
    "iters = 0\n",
    "max_diff_sqrd = 1\n",
    "\n",
    "while max_diff_sqrd > delta_tol ** 2:\n",
    "    # Increment num iteration counter\n",
    "    iters += 1\n",
    "\n",
    "    # Run Gauss-Seidel update formula\n",
    "    old_mat = box_mat.copy()\n",
    "\n",
    "    for i, j in itertools.product(range(1, 100), range(1, 100)):\n",
    "        # Skip over the capacitor \"plates\"\n",
    "        if 20 <= i <= 79 and j in (30, 70):\n",
    "            continue\n",
    "\n",
    "        box_mat[i, j] = (\n",
    "            box_mat[i - 1, j]\n",
    "            + box_mat[i + 1, j]\n",
    "            + box_mat[i, j - 1]\n",
    "            + box_mat[i, j + 1]\n",
    "        ) / 4\n",
    "\n",
    "    # Find maximum difference\n",
    "    max_diff_sqrd = ((box_mat - old_mat) ** 2).max()"
   ]
  },
  {
   "cell_type": "code",
   "execution_count": null,
   "metadata": {
    "scrolled": true
   },
   "outputs": [],
   "source": [
    "print(iters)"
   ]
  },
  {
   "cell_type": "markdown",
   "metadata": {},
   "source": [
    "Now we'll show a heatmap of the solution we computed."
   ]
  },
  {
   "cell_type": "code",
   "execution_count": null,
   "metadata": {
    "scrolled": false
   },
   "outputs": [],
   "source": [
    "plt.figure()\n",
    "\n",
    "plt.imshow(box_mat, interpolation=None)\n",
    "plt.colorbar();"
   ]
  },
  {
   "cell_type": "markdown",
   "metadata": {},
   "source": [
    "## Solving the heat/diffusion equation"
   ]
  },
  {
   "cell_type": "markdown",
   "metadata": {},
   "source": [
    "Similarly to Laplace's equation we can discretize the heat equation to derive the FTCS equation, which provides a numerical method that we can use to solve the heat equation."
   ]
  },
  {
   "cell_type": "markdown",
   "metadata": {},
   "source": [
    "### Problems"
   ]
  },
  {
   "cell_type": "markdown",
   "metadata": {},
   "source": [
    "#### Thermal diffusion through Earth"
   ]
  },
  {
   "cell_type": "markdown",
   "metadata": {},
   "source": [
    "First, using the formulas provided in the lab script, we will plot the seasonal variation of the ground temperature in Canada's arctic."
   ]
  },
  {
   "cell_type": "code",
   "execution_count": null,
   "metadata": {},
   "outputs": [],
   "source": [
    "# Constants\n",
    "A = -12  # deg C\n",
    "B = 20  # deg C\n",
    "phi = -1.9  # rads\n",
    "\n",
    "# Get data\n",
    "days = np.arange(1, 366, 1)\n",
    "ground_Ts = A + B * np.sin(2 * np.pi * days / 365 + phi)"
   ]
  },
  {
   "cell_type": "code",
   "execution_count": null,
   "metadata": {},
   "outputs": [],
   "source": [
    "# Setup figure\n",
    "_, ax = plt.subplots()\n",
    "\n",
    "plt.plot(days, ground_Ts)\n",
    "\n",
    "# Labels\n",
    "ax.set_xlabel(r\"$t$ (days)\")\n",
    "ax.set_ylabel(r\"ground $T$ ($^\\circ C$)\");"
   ]
  },
  {
   "cell_type": "markdown",
   "metadata": {},
   "source": [
    "Now let's consider the heat equation on the domain $[0, \\infty) \\times [0, L]$ (where the first term in the Cartesian product is the temporal part and the second term is the spacial part), with boundary conditions\n",
    "\n",
    "\\begin{align}\n",
    "    T(0, x) &= A, \\\\\n",
    "    T(t, 0) &= A + B \\sin \\left( \\frac{2 \\pi t}{\\tau} + \\phi \\right), \\\\\n",
    "    T(t, L) &= A + m_T L.\n",
    "\\end{align}\n",
    "\n",
    "We will solve the heat equation over 10 years numerically."
   ]
  },
  {
   "cell_type": "code",
   "execution_count": null,
   "metadata": {},
   "outputs": [],
   "source": [
    "# Add in extra constants\n",
    "alpha = 0.1  # m^2 / day\n",
    "m_T = 30e-3  # deg C / m\n",
    "L = 40  # m\n",
    "\n",
    "num_years = 10\n",
    "num_spatial_pts = 101\n",
    "\n",
    "h = L / (num_spatial_pts - 1)\n",
    "approx_dt = 0.7\n",
    "\n",
    "num_ts_per_year = round(365 / approx_dt)\n",
    "\n",
    "dt = 365 / num_ts_per_year"
   ]
  },
  {
   "cell_type": "code",
   "execution_count": null,
   "metadata": {
    "scrolled": true
   },
   "outputs": [],
   "source": [
    "print(dt < (h ** 2 / (2 * alpha)))"
   ]
  },
  {
   "cell_type": "markdown",
   "metadata": {},
   "source": [
    "Now that we've verified that our solution will be stable, we can go ahead and get solve numerically."
   ]
  },
  {
   "cell_type": "code",
   "execution_count": null,
   "metadata": {},
   "outputs": [],
   "source": [
    "ts = np.tile(np.arange(0, 365, dt), num_years)\n",
    "num_ts = ts.shape[0]"
   ]
  },
  {
   "cell_type": "code",
   "execution_count": null,
   "metadata": {},
   "outputs": [],
   "source": [
    "# Set up data matrix\n",
    "data_mat = A * np.zeros((num_spatial_pts, num_ts))\n",
    "\n",
    "# Enforce boundary conditions\n",
    "data_mat[0, :] = A + B * np.sin(2 * np.pi * ts / 365 + phi)\n",
    "data_mat[-1, :] = A + m_T * L"
   ]
  },
  {
   "cell_type": "code",
   "execution_count": null,
   "metadata": {},
   "outputs": [],
   "source": [
    "# Multiplicative constant in iteration formula\n",
    "c = alpha * dt / h ** 2\n",
    "\n",
    "for k in range(1, num_ts):\n",
    "    for i in range(1, num_spatial_pts - 1):\n",
    "        data_mat[i, k] = data_mat[i, k - 1] + c * (\n",
    "            data_mat[i - 1, k - 1] - 2 * data_mat[i, k - 1] + data_mat[i + 1, k - 1]\n",
    "        )"
   ]
  },
  {
   "cell_type": "markdown",
   "metadata": {},
   "source": [
    "For now, we have way more data than we need. So let's grab 12 equidistant profiles from the last year we computed."
   ]
  },
  {
   "cell_type": "code",
   "execution_count": null,
   "metadata": {},
   "outputs": [],
   "source": [
    "# Num data points per month\n",
    "pts_per_month = round(num_ts / num_years / 12)\n",
    "\n",
    "target_data_idxs = num_ts + np.arange(-11, 1) * pts_per_month - 1\n",
    "\n",
    "last_year_profiles = data_mat[:, target_data_idxs]"
   ]
  },
  {
   "cell_type": "markdown",
   "metadata": {},
   "source": [
    "Now we'll plot four of the profiles separated by three month intervals."
   ]
  },
  {
   "cell_type": "code",
   "execution_count": null,
   "metadata": {},
   "outputs": [],
   "source": [
    "fig, axs = plt.subplots(4, 1, figsize=(8, 12), sharey=True)\n",
    "\n",
    "plt.subplots_adjust(hspace=0.7)\n",
    "\n",
    "xs = np.arange(0, L + h, h)\n",
    "\n",
    "for idx, ax in enumerate(axs):\n",
    "    ax.plot(xs, last_year_profiles[:, 3 * idx])\n",
    "\n",
    "    ax.set_xlabel(r\"depth (m)\")\n",
    "    ax.set_ylabel(r\"temperature ($^\\circ C$)\")\n",
    "\n",
    "    ax.set_title(\"Month %d\" % (3 * idx + 1))"
   ]
  },
  {
   "cell_type": "markdown",
   "metadata": {},
   "source": [
    "Here we see that all significant fluctuations in temperature occur near the surface. At around a depth of 10m or more the temperature is more or less constant."
   ]
  },
  {
   "cell_type": "markdown",
   "metadata": {},
   "source": [
    "Now, using the 12 profiles we picked out, let's calculate the maximum and minimum yearly temperature as a function of depth."
   ]
  },
  {
   "cell_type": "code",
   "execution_count": null,
   "metadata": {},
   "outputs": [],
   "source": [
    "min_temps = last_year_profiles.min(axis=1)\n",
    "max_temps = last_year_profiles.max(axis=1)"
   ]
  },
  {
   "cell_type": "code",
   "execution_count": null,
   "metadata": {},
   "outputs": [],
   "source": [
    "_, ax = plt.subplots()\n",
    "\n",
    "plt.plot(xs, max_temps)\n",
    "plt.plot(xs, min_temps)\n",
    "\n",
    "plt.grid(alpha=0.3)\n",
    "\n",
    "ax.legend([\"max yearly T\", \"min yearly T\"])\n",
    "\n",
    "ax.set_xlabel(r\"depth (m)\")\n",
    "ax.set_ylabel(r\"temperature ($^\\circ C$)\");"
   ]
  },
  {
   "cell_type": "markdown",
   "metadata": {},
   "source": [
    "We can see here that permafrost occurs at a depth of around 2m."
   ]
  },
  {
   "cell_type": "markdown",
   "metadata": {},
   "source": [
    "## Solving the wave equation"
   ]
  },
  {
   "cell_type": "markdown",
   "metadata": {},
   "source": [
    "For the wave equation we have an update formula similar to the heat equation."
   ]
  },
  {
   "cell_type": "markdown",
   "metadata": {},
   "source": [
    "### Problems"
   ]
  },
  {
   "cell_type": "markdown",
   "metadata": {},
   "source": [
    "#### Wave on a string"
   ]
  },
  {
   "cell_type": "markdown",
   "metadata": {},
   "source": [
    "Now we will simulate a guitar string."
   ]
  },
  {
   "cell_type": "code",
   "execution_count": null,
   "metadata": {},
   "outputs": [],
   "source": [
    "# Constants\n",
    "L = 0.65  # m\n",
    "c = 254.8  # m / s\n",
    "f = 196  # Hz\n",
    "\n",
    "A = 0.05  # m\n",
    "d = 0.5  # m\n",
    "sigma = 0.3  # m\n",
    "\n",
    "sample_rate = 10 ** 4  # 1 / s\n",
    "time_interval = 5  # s\n",
    "num_spatial_pts = 51\n",
    "\n",
    "dt = 1e-5  # s\n",
    "\n",
    "num_ts = round(time_interval / dt)\n",
    "\n",
    "dx = L / (num_spatial_pts - 1)"
   ]
  },
  {
   "cell_type": "markdown",
   "metadata": {},
   "source": [
    "First we will solve the problem numerically."
   ]
  },
  {
   "cell_type": "code",
   "execution_count": null,
   "metadata": {},
   "outputs": [],
   "source": [
    "# Set up data matrix\n",
    "data_mat = np.zeros((num_spatial_pts, num_ts))\n",
    "\n",
    "# Set up initial shape\n",
    "xs = np.arange(0, L + dx, dx)\n",
    "\n",
    "data_mat[:, 0] = (\n",
    "    A * xs * (L - xs) / L ** 2 * np.exp(-((xs - d) ** 2) / (2 * sigma ** 2))\n",
    ")\n",
    "data_mat[:, 1] = data_mat[:, 0]"
   ]
  },
  {
   "cell_type": "code",
   "execution_count": null,
   "metadata": {},
   "outputs": [],
   "source": [
    "# Multiplicative constant in iteration formula\n",
    "c1 = c ** 2 * dt ** 2 / dx ** 2\n",
    "\n",
    "for k in range(2, num_ts):\n",
    "    for i in range(1, num_spatial_pts - 1):\n",
    "        data_mat[i, k] = (\n",
    "            2 * data_mat[i, k - 1]\n",
    "            - data_mat[i, k - 2]\n",
    "            + c1\n",
    "            * (data_mat[i - 1, k - 1] - 2 * data_mat[i, k - 1] + data_mat[i + 1, k - 1])\n",
    "        )"
   ]
  },
  {
   "cell_type": "markdown",
   "metadata": {},
   "source": [
    "We have too much data here. We only need as many samples as our sample rate."
   ]
  },
  {
   "cell_type": "code",
   "execution_count": null,
   "metadata": {},
   "outputs": [],
   "source": [
    "col_mult_to_keep = int(1 / (dt * sample_rate))\n",
    "\n",
    "all_data_mat = data_mat\n",
    "data_mat = np.copy(all_data_mat[:, ::col_mult_to_keep])"
   ]
  },
  {
   "cell_type": "markdown",
   "metadata": {},
   "source": [
    "Now let's generate an animation of the waveform."
   ]
  },
  {
   "cell_type": "code",
   "execution_count": null,
   "metadata": {},
   "outputs": [],
   "source": [
    "# Get figure\n",
    "fig, ax = plt.subplots()\n",
    "\n",
    "# Limits\n",
    "ax.set_xlim(0, L)\n",
    "ax.set_ylim(-0.05, 0.05)\n",
    "\n",
    "# Labels\n",
    "ax.set_xlabel(r\"$x$ (m)\")\n",
    "\n",
    "line = ax.plot(xs, data_mat[:, 0])[0]\n",
    "\n",
    "# Update function for animation\n",
    "def animate(i: int):\n",
    "    line.set_data(xs, data_mat[:, i])\n",
    "    return (line,)\n",
    "\n",
    "\n",
    "ani = animation.FuncAnimation(fig, animate, frames=100, interval=20)"
   ]
  },
  {
   "cell_type": "markdown",
   "metadata": {},
   "source": [
    "This animation runs really slowly for me. Not sure how to improve performance."
   ]
  },
  {
   "cell_type": "markdown",
   "metadata": {},
   "source": [
    "Let's test audio."
   ]
  },
  {
   "cell_type": "code",
   "execution_count": null,
   "metadata": {},
   "outputs": [],
   "source": [
    "ts = np.linspace(0, time_interval, sample_rate * time_interval)\n",
    "data = np.sin(2 * np.pi * f * ts)\n",
    "\n",
    "Audio(data, rate=sample_rate)"
   ]
  },
  {
   "cell_type": "markdown",
   "metadata": {},
   "source": [
    "Now let's use our own data near the middle of the string."
   ]
  },
  {
   "cell_type": "code",
   "execution_count": null,
   "metadata": {},
   "outputs": [],
   "source": [
    "data = data_mat[num_spatial_pts // 2, :]\n",
    "\n",
    "Audio(data, rate=sample_rate)"
   ]
  },
  {
   "cell_type": "markdown",
   "metadata": {},
   "source": [
    "The audio sounds the same the test audio. Not identical, as the sound from our data has a bit higher pitch."
   ]
  },
  {
   "cell_type": "markdown",
   "metadata": {},
   "source": [
    "Now let's try near the end of the string."
   ]
  },
  {
   "cell_type": "code",
   "execution_count": null,
   "metadata": {},
   "outputs": [],
   "source": [
    "data = data_mat[num_spatial_pts - 2, :]\n",
    "\n",
    "Audio(data, rate=sample_rate)"
   ]
  },
  {
   "cell_type": "markdown",
   "metadata": {},
   "source": [
    "The note is the same, but the pitch is much higher."
   ]
  },
  {
   "cell_type": "markdown",
   "metadata": {},
   "source": [
    "Now we'll do a bit of FFT analysis."
   ]
  },
  {
   "cell_type": "code",
   "execution_count": null,
   "metadata": {},
   "outputs": [],
   "source": [
    "fs = np.fft.fftfreq(data_mat.shape[1], 1 / sample_rate)"
   ]
  },
  {
   "cell_type": "markdown",
   "metadata": {},
   "source": [
    "We'll plot the spectrum for the first and second audio from our data"
   ]
  },
  {
   "cell_type": "code",
   "execution_count": null,
   "metadata": {},
   "outputs": [],
   "source": [
    "_, (ax1, ax2) = plt.subplots(2, 1, sharey=True)\n",
    "\n",
    "ak1 = np.fft.fft(data_mat[num_spatial_pts // 2, :])\n",
    "ax1.plot(fs, np.abs(ak1 ** 2))\n",
    "\n",
    "ak2 = np.fft.fft(data_mat[num_spatial_pts - 2, :])\n",
    "ax2.plot(fs, np.abs(ak2 ** 2))\n",
    "\n",
    "plt.yscale(\"log\")"
   ]
  },
  {
   "cell_type": "raw",
   "metadata": {},
   "source": [
    "HOW TO EXPLAIN"
   ]
  }
 ],
 "metadata": {
  "kernelspec": {
   "display_name": "Python 3",
   "language": "python",
   "name": "python3"
  },
  "language_info": {
   "codemirror_mode": {
    "name": "ipython",
    "version": 3
   },
   "file_extension": ".py",
   "mimetype": "text/x-python",
   "name": "python",
   "nbconvert_exporter": "python",
   "pygments_lexer": "ipython3",
   "version": "3.8.1"
  }
 },
 "nbformat": 4,
 "nbformat_minor": 2
}
