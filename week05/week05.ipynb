{
 "cells": [
  {
   "cell_type": "code",
   "execution_count": null,
   "metadata": {},
   "outputs": [],
   "source": [
    "%matplotlib inline"
   ]
  },
  {
   "cell_type": "code",
   "execution_count": null,
   "metadata": {
    "scrolled": true
   },
   "outputs": [],
   "source": [
    "import functools\n",
    "from typing import Tuple\n",
    "import matplotlib.pyplot as plt\n",
    "from mpl_toolkits.mplot3d import Axes3D\n",
    "import networkx as nx\n",
    "import numpy as np\n",
    "import pandas as pd\n",
    "from scipy import linalg\n",
    "from scipy import spatial"
   ]
  },
  {
   "cell_type": "markdown",
   "metadata": {},
   "source": [
    "# PHYS 395 - week 5\n",
    "\n",
    "**Matt Wiens - #301294492**\n",
    "\n",
    "This notebook will be organized similarly to the lab script, with major headings corresponding to the headings on the lab script.\n",
    "\n",
    "*The TA's name (Ignacio) will be shortened to \"IC\" whenever used.*"
   ]
  },
  {
   "cell_type": "markdown",
   "metadata": {},
   "source": [
    "## Setup"
   ]
  },
  {
   "cell_type": "code",
   "execution_count": null,
   "metadata": {
    "scrolled": true
   },
   "outputs": [],
   "source": [
    "# Set default plot size\n",
    "plt.rcParams[\"figure.figsize\"] = (12, 9)"
   ]
  },
  {
   "cell_type": "code",
   "execution_count": null,
   "metadata": {},
   "outputs": [],
   "source": [
    "%%javascript\n",
    "IPython.OutputArea.auto_scroll_threshold = 9999"
   ]
  },
  {
   "cell_type": "markdown",
   "metadata": {},
   "source": [
    "# Vector/matrix operations"
   ]
  },
  {
   "cell_type": "markdown",
   "metadata": {},
   "source": [
    "## Addition/subtraction"
   ]
  },
  {
   "cell_type": "markdown",
   "metadata": {},
   "source": [
    "Note that the `+` operation when used on Python lists concatenates lists. However, for NumPy arrays, the `+` operation does elementwise addition."
   ]
  },
  {
   "cell_type": "code",
   "execution_count": null,
   "metadata": {},
   "outputs": [],
   "source": [
    "a_list = [1.1, -2.1, 0.0]\n",
    "b_list = [2.0, 1.1, -0.5]\n",
    "\n",
    "a = np.array(a_list)\n",
    "b = np.array(b_list)\n",
    "\n",
    "# + for lists\n",
    "print(\"for lists: a + b = %s\" % (a_list + b_list))\n",
    "\n",
    "# + for NumPy arrays\n",
    "print(\"for arrays: a + b = %s\" % (a + b))"
   ]
  },
  {
   "cell_type": "markdown",
   "metadata": {},
   "source": [
    "We can also do `-` for elementwise subtraction."
   ]
  },
  {
   "cell_type": "code",
   "execution_count": null,
   "metadata": {},
   "outputs": [],
   "source": [
    "print(\"a - b = %s\" % (a - b))"
   ]
  },
  {
   "cell_type": "markdown",
   "metadata": {},
   "source": [
    "## Multiplication by a scalar"
   ]
  },
  {
   "cell_type": "markdown",
   "metadata": {},
   "source": [
    "Using NumPy arrays we can also do elementwise scalar multiplication. (Note that the `*` operator does not work between a float and a Python list.)"
   ]
  },
  {
   "cell_type": "code",
   "execution_count": null,
   "metadata": {},
   "outputs": [],
   "source": [
    "v = np.array([1.0, -2.1, 3.0])\n",
    "\n",
    "print(2.0 * v)"
   ]
  },
  {
   "cell_type": "markdown",
   "metadata": {},
   "source": [
    "## Vector/matrix products"
   ]
  },
  {
   "cell_type": "markdown",
   "metadata": {},
   "source": [
    "Using the `*` operator will perform elementwise multiplication (the $i$th element of the first array is multiplied by the $i$th element of the second array)."
   ]
  },
  {
   "cell_type": "code",
   "execution_count": null,
   "metadata": {},
   "outputs": [],
   "source": [
    "print(a * b)"
   ]
  },
  {
   "cell_type": "markdown",
   "metadata": {},
   "source": [
    "### Dot product"
   ]
  },
  {
   "cell_type": "markdown",
   "metadata": {},
   "source": [
    "There are a few different ways of taking the dot product."
   ]
  },
  {
   "cell_type": "code",
   "execution_count": null,
   "metadata": {},
   "outputs": [],
   "source": [
    "# Using np.dot\n",
    "print(np.dot(a, b))\n",
    "\n",
    "# Using *\n",
    "print(np.sum(a * b))"
   ]
  },
  {
   "cell_type": "markdown",
   "metadata": {},
   "source": [
    "Using NumPy's `dot` function (or the `@` operator) allows us to calculate proper matrix products."
   ]
  },
  {
   "cell_type": "code",
   "execution_count": null,
   "metadata": {},
   "outputs": [],
   "source": [
    "sigma_x = np.array([[0, 1], [1, 0]])\n",
    "sigma_z = np.array([[1, 0], [0, -1]])"
   ]
  },
  {
   "cell_type": "markdown",
   "metadata": {},
   "source": [
    "Let's calculate $\\sigma_x \\sigma_z$."
   ]
  },
  {
   "cell_type": "code",
   "execution_count": null,
   "metadata": {},
   "outputs": [],
   "source": [
    "print(sigma_x @ sigma_z)"
   ]
  },
  {
   "cell_type": "markdown",
   "metadata": {},
   "source": [
    "And $\\sigma_z \\sigma_x \\sigma_z$."
   ]
  },
  {
   "cell_type": "code",
   "execution_count": null,
   "metadata": {},
   "outputs": [],
   "source": [
    "print(sigma_z @ sigma_x @ sigma_z)"
   ]
  },
  {
   "cell_type": "markdown",
   "metadata": {},
   "source": [
    "### Vector norms"
   ]
  },
  {
   "cell_type": "markdown",
   "metadata": {},
   "source": [
    "Calculating Euclidean norms is simple with NumPy. Here we'll calculate $| a |$."
   ]
  },
  {
   "cell_type": "code",
   "execution_count": null,
   "metadata": {},
   "outputs": [],
   "source": [
    "print(np.linalg.norm(a))"
   ]
  },
  {
   "cell_type": "markdown",
   "metadata": {},
   "source": [
    "Or we determine the $|a|$ using the dot product."
   ]
  },
  {
   "cell_type": "code",
   "execution_count": null,
   "metadata": {},
   "outputs": [],
   "source": [
    "print(np.sqrt(np.dot(a, a)))"
   ]
  },
  {
   "cell_type": "markdown",
   "metadata": {},
   "source": [
    "### Cross product"
   ]
  },
  {
   "cell_type": "markdown",
   "metadata": {},
   "source": [
    "We can also easily compute cross products. Let's calculate $a \\times b$."
   ]
  },
  {
   "cell_type": "code",
   "execution_count": null,
   "metadata": {},
   "outputs": [],
   "source": [
    "print(np.cross(a, b))"
   ]
  },
  {
   "cell_type": "markdown",
   "metadata": {},
   "source": [
    "And let's verify this by evaluating the cross product ourselves:\n",
    "\n",
    "\\begin{align*}\n",
    "    a \\times b\n",
    "        &= (a_y b_z - a_z b_y) \\hat{i}\n",
    "            + (a_z b_x - a_x b_z) \\hat{j}\n",
    "            + (a_x b_y - a_y b_x) \\hat{z}\n",
    "            \\\\\n",
    "        &= ((-2.1) (-0.5) - (0) (1.1)) \\hat{i}\n",
    "            + ((0) (1.1) - (1.1) (-0.5)) \\hat{j}\n",
    "            + ((1.1) (1.1) - (-2.1) (2.0)) \\hat{z}\n",
    "            \\\\\n",
    "        &= 1.05 \\hat{i}\n",
    "            + 0.55 \\hat{j}\n",
    "            + 5.41 \\hat{z}\n",
    "            ,\n",
    "\\end{align*}\n",
    "\n",
    "which agrees with the computed value."
   ]
  },
  {
   "cell_type": "markdown",
   "metadata": {},
   "source": [
    "# Solving systems of equations"
   ]
  },
  {
   "cell_type": "markdown",
   "metadata": {},
   "source": [
    "## LU decomposition"
   ]
  },
  {
   "cell_type": "markdown",
   "metadata": {},
   "source": [
    "First let's create a random 5 x 5 matrix $A$ and length 5 array $b$. We'll explore how we can solve $A x = b$."
   ]
  },
  {
   "cell_type": "code",
   "execution_count": null,
   "metadata": {},
   "outputs": [],
   "source": [
    "a = np.random.rand(5, 5)\n",
    "b = np.random.rand(5)\n",
    "\n",
    "print(\"A =\\n%s\\n\\nb = %s\" % (a, b))"
   ]
  },
  {
   "cell_type": "markdown",
   "metadata": {},
   "source": [
    "Let's try using SciPy's `solve` function to solve for $x$."
   ]
  },
  {
   "cell_type": "code",
   "execution_count": null,
   "metadata": {},
   "outputs": [],
   "source": [
    "x = linalg.solve(a, b)\n",
    "\n",
    "print(\"x = %s\" % x)"
   ]
  },
  {
   "cell_type": "markdown",
   "metadata": {},
   "source": [
    "Let's verify the solution. Note that we don't want to use `==` here to test for equality since generally there will be some negligible error."
   ]
  },
  {
   "cell_type": "code",
   "execution_count": null,
   "metadata": {
    "scrolled": true
   },
   "outputs": [],
   "source": [
    "print(np.allclose(a @ x, b))"
   ]
  },
  {
   "cell_type": "markdown",
   "metadata": {},
   "source": [
    "Now we'll explicitly carry out an LU decomposition."
   ]
  },
  {
   "cell_type": "code",
   "execution_count": null,
   "metadata": {},
   "outputs": [],
   "source": [
    "p, l, u = linalg.lu(a)\n",
    "\n",
    "print(\"P =\\n%s\\n\\nL =\\n%s\\n\\nU =\\n%s\" % (p, l, u))"
   ]
  },
  {
   "cell_type": "markdown",
   "metadata": {},
   "source": [
    "Let's verify that $P L U = A$."
   ]
  },
  {
   "cell_type": "code",
   "execution_count": null,
   "metadata": {},
   "outputs": [],
   "source": [
    "print(np.allclose(p @ l @ u, a))"
   ]
  },
  {
   "cell_type": "markdown",
   "metadata": {},
   "source": [
    "Now we'll solve two equations. The first is $L y = P^{-1} b$ for $y$, then $U x = y$ for $x$. Note that $P^{-1} = P^T$ since $P$ is a permutation matrix; this is a straightforward result from linear algebra."
   ]
  },
  {
   "cell_type": "code",
   "execution_count": null,
   "metadata": {},
   "outputs": [],
   "source": [
    "y_lu = linalg.solve(l, p.T @ b)\n",
    "x_lu = linalg.solve(u, y_lu)\n",
    "\n",
    "print(\"x = %s\" % x_lu)"
   ]
  },
  {
   "cell_type": "markdown",
   "metadata": {},
   "source": [
    "Note that this agrees with our earlier calculation."
   ]
  },
  {
   "cell_type": "markdown",
   "metadata": {},
   "source": [
    "## System of linear equations problems"
   ]
  },
  {
   "cell_type": "markdown",
   "metadata": {},
   "source": [
    "### Resistor chain circuit"
   ]
  },
  {
   "cell_type": "markdown",
   "metadata": {},
   "source": [
    "Here we need to consider the resistor chain circuit shown in the lab script."
   ]
  },
  {
   "cell_type": "markdown",
   "metadata": {},
   "source": [
    "Here we have that $V_0$ is given. For voltages $V_i$ with $i = 2, \\ldots, N - 1$, Kirchoff's current law gives the result\n",
    "\n",
    "\\begin{equation}\n",
    "    I_{i - 2, i} + I_{i - 1, i} + I_{i + 1, i} + I_{i + 2, i} = 0\n",
    "    ,\n",
    "\\end{equation}\n",
    "\n",
    "where $I_{j, i}$ is the current flowing from node $j$ to node $i$. Note that we have taken the $N + 1$th node to be the ground.\n",
    "\n",
    "Applying Ohm's law and multiplying through by the resistance $R$ (which is the same for all resistors) we have\n",
    "\n",
    "\\begin{align}\n",
    "    &\\frac{1}{R} \\left(\\Delta V_{i - 2, i} + \\Delta V_{i - 1, i} + \\Delta V_{i + 1, i} + \\Delta V_{i + 2, i} \\right) = 0 \\\\\n",
    "    &\\Rightarrow V_{i - 2} + V_{i - 1} + V_{i + 1} + V_{i + 2} - 4 V_i = 0\n",
    "    .\n",
    "\\end{align}\n",
    "\n",
    "For the case of $i = 1$ we have\n",
    "\n",
    "\\begin{align}\n",
    "    &I_{0, 1} + I_{2, 1} + I_{3, 1} = 0 \\\\\n",
    "    &\\Rightarrow V_0 + V_2 + V_3 - 3 V_1 = 0\n",
    "    ;\n",
    "\\end{align}\n",
    "\n",
    "and for $i = N$,\n",
    "\n",
    "\\begin{align}\n",
    "    &I_{N - 2, N} + I_{N - 1, N} + I_{*, N} = 0 \\\\\n",
    "    &\\Rightarrow V_{N - 2} + V_{N - 1} - 3 V_N = 0\n",
    "    .\n",
    "\\end{align}\n",
    "\n",
    "Here, $*$ denotes the ground node."
   ]
  },
  {
   "cell_type": "markdown",
   "metadata": {},
   "source": [
    "Now let's set up a function that gives us $A$ and $b$ so that we can solve these equations."
   ]
  },
  {
   "cell_type": "code",
   "execution_count": null,
   "metadata": {},
   "outputs": [],
   "source": [
    "def resistor_chain_matrix(n: int, v0: float) -> Tuple[np.ndarray, np.ndarray]:\n",
    "    \"\"\"Returns the resistor chain matrices A and b\"\"\"\n",
    "    # Construct A first\n",
    "    A = 4 * np.eye(n)\n",
    "\n",
    "    # Add off diagonals\n",
    "    A = functools.reduce(lambda mat, k: mat - np.eye(n, k=k), [-2, -1, 1, 2], A)\n",
    "\n",
    "    # Adjust the non-symmetric entries\n",
    "    A[0][0] = 3\n",
    "    A[n - 1, -1] = 3\n",
    "\n",
    "    b = np.zeros(n)\n",
    "    b[0] = v0\n",
    "    b[1] = v0\n",
    "\n",
    "    return (A, b)"
   ]
  },
  {
   "cell_type": "markdown",
   "metadata": {},
   "source": [
    "We will test this for the $N = 6$ case where $V_0 = 4$ volts."
   ]
  },
  {
   "cell_type": "code",
   "execution_count": null,
   "metadata": {},
   "outputs": [],
   "source": [
    "x = linalg.solve(*resistor_chain_matrix(6, 4))\n",
    "\n",
    "print(\"x = %s\" % x)"
   ]
  },
  {
   "cell_type": "markdown",
   "metadata": {},
   "source": [
    "Now we'll use $N = 10000$. For efficiency reasons, we want to use a \"banded representation\" of our matrix $A$."
   ]
  },
  {
   "cell_type": "code",
   "execution_count": null,
   "metadata": {},
   "outputs": [],
   "source": [
    "n = 10 ** 4\n",
    "v0 = 4\n",
    "\n",
    "# Construct banded representation of A\n",
    "a = - 1 * np.ones((5, n))\n",
    "a[2] = 4 * np.ones(n)\n",
    "a[2][0] = 3\n",
    "a[2][-1] = 3\n",
    "\n",
    "# Get b\n",
    "b = np.zeros(n)\n",
    "b[0] = v0\n",
    "b[1] = v0"
   ]
  },
  {
   "cell_type": "code",
   "execution_count": null,
   "metadata": {},
   "outputs": [],
   "source": [
    "x = linalg.solve_banded((2, 2), a , b)"
   ]
  },
  {
   "cell_type": "markdown",
   "metadata": {},
   "source": [
    "Now let's plot this solution."
   ]
  },
  {
   "cell_type": "code",
   "execution_count": null,
   "metadata": {},
   "outputs": [],
   "source": [
    "# Set up figure\n",
    "_, ax = plt.subplots()\n",
    "\n",
    "# Plot data\n",
    "plt.plot(np.arange(1, n + 1), x)\n",
    "\n",
    "# Labels\n",
    "ax.set_xlabel(r\"$i$\")\n",
    "ax.set_ylabel(r\"$V_i$\");"
   ]
  },
  {
   "cell_type": "markdown",
   "metadata": {},
   "source": [
    "This result isn't unreasonable, but was unexpected for me that it appears to be perfectly linear."
   ]
  },
  {
   "cell_type": "markdown",
   "metadata": {},
   "source": [
    "### Resistor capacitor circuit"
   ]
  },
  {
   "cell_type": "markdown",
   "metadata": {},
   "source": [
    "Now we need to solve for the voltages in a circuit involving capacitors."
   ]
  },
  {
   "cell_type": "markdown",
   "metadata": {},
   "source": [
    "Let's derive a system of equations that by applying Kirchoff's current law to the circuit diagram in the lab script."
   ]
  },
  {
   "cell_type": "markdown",
   "metadata": {},
   "source": [
    "First let's label the node with voltage $V$ the $u$ node, and the node with $0$ voltage as the $g$ node. For node $1$, we thus have\n",
    "\n",
    "\\begin{align}\n",
    "    &I_{u, 1} + I_{g, 1} + I_{2, 1} = 0 \\\\\n",
    "    &\\Rightarrow \\frac{V - V_1}{R_1}\n",
    "        - \\frac{V_1}{R_4}\n",
    "        + C_1 \\left( \\frac{d V_2}{dt} - \\frac{d V_1}{dt} \\right)\n",
    "        = 0 \\\\\n",
    "    &\\Rightarrow \\frac{v_0 - v_1}{R_1}\n",
    "        - \\frac{v_1}{R_4}\n",
    "        + i \\omega C_1 \\left( v_2 - v_1 \\right)\n",
    "        = 0 \\\\\n",
    "    &\\Rightarrow \\left( \\frac{1}{R_1} + \\frac{1}{R_4} + i \\omega C_1 \\right) v_1\n",
    "        - i \\omega C_1 v_2\n",
    "        + 0 v_3\n",
    "        = \\frac{v_0}{R_1}\n",
    "    .\n",
    "\\end{align}\n",
    "\n",
    "For node $2$ we have\n",
    "\n",
    "\\begin{align}\n",
    "    &I_{u, 2} + I_{g, 2} + I_{1, 2} + I_{3, 2} = 0 \\\\\n",
    "    &\\Rightarrow \\frac{V - V_2}{R_2}\n",
    "        - \\frac{V_2}{R_5}\n",
    "        + C_2 \\left( \\frac{d V_3}{dt} - \\frac{d V_2}{dt} \\right)\n",
    "        + C_1 \\left( \\frac{d V_1}{dt} - \\frac{d V_2}{dt} \\right)\n",
    "        = 0 \\\\\n",
    "    &\\Rightarrow \\frac{v_0 - v_2}{R_2}\n",
    "        - \\frac{v_2}{R_5}\n",
    "        + i \\omega C_2 \\left( v_3 - v_2 \\right)\n",
    "        + i \\omega C_1 \\left( v_1 - v_2 \\right)\n",
    "        = 0 \\\\\n",
    "    &\\Rightarrow\n",
    "        - i \\omega C_1 v_1\n",
    "        + \\left( \\frac{1}{R_2} + \\frac{1}{R_5} + i \\omega \\left( C_1 + C_2 \\right) \\right) v_2\n",
    "        - i \\omega C_2 v_3\n",
    "        = \\frac{v_0}{R_2}\n",
    "    .\n",
    "\\end{align}\n",
    "\n",
    "And finally for node $3$ we have\n",
    "\n",
    "\\begin{align}\n",
    "    &I_{u, 3} + I_{g, 3} + I_{2, 3} = 0 \\\\\n",
    "    &\\Rightarrow \\frac{V - V_3}{R_3}\n",
    "        - \\frac{V_3}{R_6}\n",
    "        + C_2 \\left( \\frac{d V_2}{dt} - \\frac{d V_3}{dt} \\right)\n",
    "        = 0 \\\\\n",
    "    &\\Rightarrow \\frac{v_0 - v_3}{R_3}\n",
    "        - \\frac{v_2}{R_6}\n",
    "        + i \\omega C_2 \\left( v_2 - v_3 \\right)\n",
    "        = 0 \\\\\n",
    "    &\\Rightarrow\n",
    "        0 v_1\n",
    "        - i \\omega C_2 v_2\n",
    "        + \\left( \\frac{1}{R_3} + \\frac{1}{R_6} + i \\omega C_2 \\right) v_3\n",
    "        = \\frac{v_0}{R_3}\n",
    "    .\n",
    "\\end{align}\n",
    "\n",
    "Putting our results together, we have the system of equations\n",
    "\n",
    "\\begin{align}\n",
    "    \\left( \\frac{1}{R_1} + \\frac{1}{R_4} + i \\omega C_1 \\right) v_1\n",
    "        - i \\omega C_1 v_2\n",
    "        + 0 v_3\n",
    "        &= \\frac{v_0}{R_1}\n",
    "    , \\\\\n",
    "    - i \\omega C_1 v_1\n",
    "        + \\left( \\frac{1}{R_2} + \\frac{1}{R_5} + i \\omega \\left( C_1 + C_2 \\right) \\right) v_2\n",
    "        - i \\omega C_2 v_3\n",
    "        &= \\frac{v_0}{R_2}\n",
    "    , \\\\\n",
    "    0 v_1\n",
    "        - i \\omega C_2 v_2\n",
    "        + \\left( \\frac{1}{R_3} + \\frac{1}{R_6} + i \\omega C_2 \\right) v_3\n",
    "        &= \\frac{v_0}{R_3}\n",
    "    .\n",
    "\\end{align}"
   ]
  },
  {
   "cell_type": "markdown",
   "metadata": {},
   "source": [
    "Let's solve this system using the values provided in the lab script."
   ]
  },
  {
   "cell_type": "code",
   "execution_count": null,
   "metadata": {},
   "outputs": [],
   "source": [
    "# Resistance values in ohms\n",
    "r1 = 1e3\n",
    "r2 = 2e3\n",
    "r3 = 1e3\n",
    "r4 = 2e3\n",
    "r5 = 1e3\n",
    "r6 = 2e3\n",
    "\n",
    "# Capitance values in farads\n",
    "c1 = 0.5e-6\n",
    "c2 = 1e-6\n",
    "\n",
    "# Voltage values\n",
    "v0 = 3\n",
    "\n",
    "# Frequency values (in Hz)\n",
    "omega = 1e3"
   ]
  },
  {
   "cell_type": "code",
   "execution_count": null,
   "metadata": {},
   "outputs": [],
   "source": [
    "# Set up A and b matrices\n",
    "a = np.array(\n",
    "    [\n",
    "        [1 / r1 + 1 / r4 + 1j * omega * c1, -1j * omega * c1, 0],\n",
    "        [-1j * omega * c1, 1 / r2 + 1 / r5 + 1j * omega * (c1 + c2), -1j * omega * c2],\n",
    "        [0, -1j * omega * c2, 1 / r3 + 1 / r6 + 1j * omega * c2],\n",
    "    ]\n",
    ")\n",
    "\n",
    "b = np.array([v0 / r1, v0 / r2, v0 / r3])"
   ]
  },
  {
   "cell_type": "code",
   "execution_count": null,
   "metadata": {},
   "outputs": [],
   "source": [
    "# Solve the system\n",
    "soln = linalg.solve(a, b)"
   ]
  },
  {
   "cell_type": "code",
   "execution_count": null,
   "metadata": {},
   "outputs": [],
   "source": [
    "# Print out magnitude and phases of each voltage\n",
    "for idx, v in enumerate(soln, 1):\n",
    "    print(\"v%d: mag=%f\\tphase=%+f\" % (idx, np.abs(v), np.angle(v)))"
   ]
  },
  {
   "cell_type": "markdown",
   "metadata": {},
   "source": [
    "# Eigensystems"
   ]
  },
  {
   "cell_type": "markdown",
   "metadata": {},
   "source": [
    "To demonstrate eigenvalue solving, we'll demonstrate two different ways of finding the eigenvalues of a matrix."
   ]
  },
  {
   "cell_type": "code",
   "execution_count": null,
   "metadata": {},
   "outputs": [],
   "source": [
    "# Generate a random 8x8 matrix\n",
    "a = np.random.rand(8, 8)"
   ]
  },
  {
   "cell_type": "markdown",
   "metadata": {},
   "source": [
    "First we'll use the \"determinant\" method."
   ]
  },
  {
   "cell_type": "code",
   "execution_count": null,
   "metadata": {},
   "outputs": [],
   "source": [
    "char_poly = np.poly(a)\n",
    "eigvals = np.roots(char_poly)\n",
    "\n",
    "print(\"eigenvalues:\\n\")\n",
    "print(\"\\n\".join([str(l) for l in sorted(eigvals)]))"
   ]
  },
  {
   "cell_type": "markdown",
   "metadata": {},
   "source": [
    "Now we'll use a SciPy function to do the same thing."
   ]
  },
  {
   "cell_type": "code",
   "execution_count": null,
   "metadata": {},
   "outputs": [],
   "source": [
    "eigvals = linalg.eigvals(a)\n",
    "\n",
    "print(\"eigenvalues:\\n\")\n",
    "print(\"\\n\".join([str(l) for l in sorted(eigvals)]))"
   ]
  },
  {
   "cell_type": "markdown",
   "metadata": {},
   "source": [
    "The results of both methods agree to fairly high precision."
   ]
  },
  {
   "cell_type": "markdown",
   "metadata": {},
   "source": [
    "## Power method/iteration"
   ]
  },
  {
   "cell_type": "markdown",
   "metadata": {},
   "source": [
    "Now we'll demonstrate using the power method for symmetric matrices."
   ]
  },
  {
   "cell_type": "code",
   "execution_count": null,
   "metadata": {},
   "outputs": [],
   "source": [
    "a = np.random.rand(8, 8)\n",
    "a_sym = (a + a.T) / 2"
   ]
  },
  {
   "cell_type": "markdown",
   "metadata": {},
   "source": [
    "On Wikipedia there's already code for the power method, which we'll use here.\n",
    "\n",
    "Source/credit: https://en.wikipedia.org/wiki/Power_iteration."
   ]
  },
  {
   "cell_type": "code",
   "execution_count": null,
   "metadata": {},
   "outputs": [],
   "source": [
    "def power_iteration(A, num_simulations: int):\n",
    "    # Ideally choose a random vector\n",
    "    # To decrease the chance that our vector\n",
    "    # Is orthogonal to the eigenvector\n",
    "    b_k = np.random.rand(A.shape[1])\n",
    "\n",
    "    for _ in range(num_simulations):\n",
    "        # calculate the matrix-by-vector product Ab\n",
    "        b_k1 = np.dot(A, b_k)\n",
    "\n",
    "        # calculate the norm\n",
    "        b_k1_norm = np.linalg.norm(b_k1)\n",
    "\n",
    "        # re normalize the vector\n",
    "        b_k = b_k1 / b_k1_norm\n",
    "\n",
    "    return b_k"
   ]
  },
  {
   "cell_type": "markdown",
   "metadata": {},
   "source": [
    "Let's use this method with 5 iterations and then compare with eigenvalues found using a SciPy method."
   ]
  },
  {
   "cell_type": "code",
   "execution_count": null,
   "metadata": {},
   "outputs": [],
   "source": [
    "# Use power method\n",
    "eigvec = power_iteration(a_sym, 5)\n",
    "dom_eigval = eigvec.T @ a_sym @ eigvec\n",
    "\n",
    "print(\"Largest eigenvalue (power method): %s\" % dom_eigval)"
   ]
  },
  {
   "cell_type": "code",
   "execution_count": null,
   "metadata": {},
   "outputs": [],
   "source": [
    "# Find all eigenvalues\n",
    "eigvals = linalg.eigvalsh(a_sym)\n",
    "\n",
    "print(\"eigenvalues:\\n\")\n",
    "print(\"\\n\".join([str(l) for l in sorted(eigvals)]))"
   ]
  },
  {
   "cell_type": "markdown",
   "metadata": {},
   "source": [
    "We see excellent agreement here (with only 5 iterations!)."
   ]
  },
  {
   "cell_type": "markdown",
   "metadata": {},
   "source": [
    "## Eigenvalue/vector problems"
   ]
  },
  {
   "cell_type": "markdown",
   "metadata": {},
   "source": [
    "### Community structure"
   ]
  },
  {
   "cell_type": "markdown",
   "metadata": {},
   "source": [
    "Here we'll use a network analysis method to analyze the interactions between pairs of dolphins."
   ]
  },
  {
   "cell_type": "code",
   "execution_count": null,
   "metadata": {},
   "outputs": [],
   "source": [
    "# Read in data\n",
    "data = nx.read_gml(\"dolphins.gml\")"
   ]
  },
  {
   "cell_type": "code",
   "execution_count": null,
   "metadata": {},
   "outputs": [],
   "source": [
    "# Get adjacency matrix\n",
    "a = nx.adjacency_matrix(data)"
   ]
  },
  {
   "cell_type": "markdown",
   "metadata": {},
   "source": [
    "To determine the number of nodes in the dolphin network, we just need to find the number of rows (or columns) of the adjacency matrix."
   ]
  },
  {
   "cell_type": "code",
   "execution_count": null,
   "metadata": {},
   "outputs": [],
   "source": [
    "num_nodes = a.shape[0]\n",
    "\n",
    "print(\"num nodes: %s\" % num_nodes)"
   ]
  },
  {
   "cell_type": "markdown",
   "metadata": {},
   "source": [
    "Now let's construct the matrix B."
   ]
  },
  {
   "cell_type": "code",
   "execution_count": null,
   "metadata": {},
   "outputs": [],
   "source": [
    "# Get m and k_is\n",
    "m = np.sum(a) // 2\n",
    "kis = np.sum(a, axis=1)\n",
    "\n",
    "b = a - kis @ kis.T / (2 * m)"
   ]
  },
  {
   "cell_type": "markdown",
   "metadata": {},
   "source": [
    "Note that by construction, B is a symmetric matrix. Let's find its eigenvalues and eigenvectors."
   ]
  },
  {
   "cell_type": "code",
   "execution_count": null,
   "metadata": {},
   "outputs": [],
   "source": [
    "eigvals, eigvecs = linalg.eigh(b)"
   ]
  },
  {
   "cell_type": "markdown",
   "metadata": {},
   "source": [
    "Let's plot the eigenvector corresponding to the largest eigenvalue."
   ]
  },
  {
   "cell_type": "code",
   "execution_count": null,
   "metadata": {},
   "outputs": [],
   "source": [
    "dom_eigvec = eigvecs[-1]"
   ]
  },
  {
   "cell_type": "code",
   "execution_count": null,
   "metadata": {},
   "outputs": [],
   "source": [
    "# Set up figure\n",
    "_, ax = plt.subplots()\n",
    "\n",
    "# Plot data\n",
    "plt.plot(range(num_nodes), dom_eigvec);"
   ]
  },
  {
   "cell_type": "markdown",
   "metadata": {},
   "source": [
    "Now we'll use this eigenvector to separate our data into two groups."
   ]
  },
  {
   "cell_type": "code",
   "execution_count": null,
   "metadata": {},
   "outputs": [],
   "source": [
    "node_groups = np.where(dom_eigvec > 0, 1, 0)"
   ]
  },
  {
   "cell_type": "markdown",
   "metadata": {},
   "source": [
    "Let's see if our groupings make sense."
   ]
  },
  {
   "cell_type": "code",
   "execution_count": null,
   "metadata": {},
   "outputs": [],
   "source": [
    "plt.figure()\n",
    "\n",
    "nx.draw_networkx(data, node_color=node_groups, with_labels=False)"
   ]
  },
  {
   "cell_type": "markdown",
   "metadata": {},
   "source": [
    "COMMENT HERE WHEN YOU FIGURE OUT HOW TO FIX MODEL. ABOUT \"SUCCESSFULLY\" FINDING TWO GROUPS."
   ]
  },
  {
   "cell_type": "markdown",
   "metadata": {},
   "source": [
    "### Normal modes of a protein: Gaussian network model"
   ]
  },
  {
   "cell_type": "markdown",
   "metadata": {},
   "source": [
    "First we'll read in the data giving us the positions of the backbone carbon atoms."
   ]
  },
  {
   "cell_type": "code",
   "execution_count": null,
   "metadata": {},
   "outputs": [],
   "source": [
    "# Read in CSV to a dataframe\n",
    "df = pd.read_csv(\"1rev_CAs.txt\", names=[\"x\", \"y\", \"z\"])"
   ]
  },
  {
   "cell_type": "code",
   "execution_count": null,
   "metadata": {},
   "outputs": [],
   "source": [
    "num_points = df.shape[0]\n",
    "\n",
    "print(num_points)"
   ]
  },
  {
   "cell_type": "markdown",
   "metadata": {},
   "source": [
    "We see that there are 936 atoms in our data."
   ]
  },
  {
   "cell_type": "markdown",
   "metadata": {},
   "source": [
    "Let's plot the protein structure. In the figure below you can clearly see the binding site of the protein."
   ]
  },
  {
   "cell_type": "code",
   "execution_count": null,
   "metadata": {},
   "outputs": [],
   "source": [
    "# Plot\n",
    "plt.figure()\n",
    "ax = plt.axes(projection=\"3d\")\n",
    "\n",
    "ax.scatter3D(xs=df.x.values, ys=df.y.values, zs=df.z.values, s=100)\n",
    "\n",
    "# Labels\n",
    "ax.set_xlabel(r\"$x$\")\n",
    "ax.set_ylabel(r\"$y$\")\n",
    "ax.set_zlabel(r\"$z$\");\n",
    "\n",
    "# Set the view\n",
    "elev = 8.627087198515767\n",
    "azim = 38.47741935483896\n",
    "\n",
    "ax.view_init(azim=azim, elev=elev)"
   ]
  },
  {
   "cell_type": "markdown",
   "metadata": {},
   "source": [
    "Now let's calculate the pairwise distances between each atom."
   ]
  },
  {
   "cell_type": "code",
   "execution_count": null,
   "metadata": {},
   "outputs": [],
   "source": [
    "pairwise_dists = spatial.distance.squareform(spatial.distance.pdist(df.values))"
   ]
  },
  {
   "cell_type": "markdown",
   "metadata": {},
   "source": [
    "Now let's generate the Kirchoff matrix using a cutoff of $r_c = 7$ Angstrom."
   ]
  },
  {
   "cell_type": "code",
   "execution_count": null,
   "metadata": {},
   "outputs": [],
   "source": [
    "r_c = 7\n",
    "\n",
    "# Calculate off diagonal elements\n",
    "kirch_off_diag = np.where(pairwise_dists < r_c, -1, 0) + np.eye(num_points)\n",
    "\n",
    "# Now do diagonal elements\n",
    "kirch_diag_vec = - np.sum(kirch_off_diag, axis=1)\n",
    "\n",
    "# Construct matrix\n",
    "kirch_mat = kirch_off_diag + np.diag(kirch_diag_vec)"
   ]
  },
  {
   "cell_type": "markdown",
   "metadata": {},
   "source": [
    "Now let's calculate the eigenvectors. We'll make use of the fact that the Kirchoff matrix is symmetric."
   ]
  },
  {
   "cell_type": "code",
   "execution_count": null,
   "metadata": {},
   "outputs": [],
   "source": [
    "eigvals, eigvecs = linalg.eigh(kirch_mat)"
   ]
  },
  {
   "cell_type": "markdown",
   "metadata": {},
   "source": [
    "We'll print the first 5 eigenvalues. The first one must be approximately 0, so this is a useful check."
   ]
  },
  {
   "cell_type": "code",
   "execution_count": null,
   "metadata": {},
   "outputs": [],
   "source": [
    "print(eigvals[:5])"
   ]
  },
  {
   "cell_type": "markdown",
   "metadata": {},
   "source": [
    "The eigenvalues seem reasonable. The first is close to zero, and the rest are positive. "
   ]
  },
  {
   "cell_type": "markdown",
   "metadata": {},
   "source": [
    "Let's redo the above scatter plot but colour according to the squared amplitude of the lowest non-zero frequency eigenvector."
   ]
  },
  {
   "cell_type": "code",
   "execution_count": null,
   "metadata": {},
   "outputs": [],
   "source": [
    "# Plot\n",
    "plt.figure()\n",
    "ax = plt.axes(projection=\"3d\")\n",
    "\n",
    "p = ax.scatter3D(\n",
    "    xs=df.x.values, ys=df.y.values, zs=df.z.values, s=40, c=eigvecs[1] ** 2\n",
    ")\n",
    "plt.colorbar(p)\n",
    "\n",
    "# Labels\n",
    "ax.set_xlabel(r\"$x$\")\n",
    "ax.set_ylabel(r\"$y$\")\n",
    "ax.set_zlabel(r\"$z$\")\n",
    "\n",
    "# Set the view\n",
    "elev = 8.627087198515767\n",
    "azim = 38.47741935483896\n",
    "\n",
    "ax.view_init(azim=azim, elev=elev)"
   ]
  },
  {
   "cell_type": "markdown",
   "metadata": {},
   "source": [
    "Now we'll do the same for the second lowest non-zero frequency eigenvector"
   ]
  },
  {
   "cell_type": "code",
   "execution_count": null,
   "metadata": {},
   "outputs": [],
   "source": [
    "# Plot\n",
    "plt.figure()\n",
    "ax = plt.axes(projection=\"3d\")\n",
    "\n",
    "p = ax.scatter3D(\n",
    "    xs=df.x.values, ys=df.y.values, zs=df.z.values, s=40, c=eigvecs[2] ** 2\n",
    ")\n",
    "plt.colorbar(p)\n",
    "\n",
    "# Labels\n",
    "ax.set_xlabel(r\"$x$\")\n",
    "ax.set_ylabel(r\"$y$\")\n",
    "ax.set_zlabel(r\"$z$\")\n",
    "\n",
    "# Set the view\n",
    "elev = 8.627087198515767\n",
    "azim = 38.47741935483896\n",
    "\n",
    "ax.view_init(azim=azim, elev=elev)"
   ]
  },
  {
   "cell_type": "markdown",
   "metadata": {},
   "source": [
    "WRITE ABOUT WHY NORMAL MODE ANALYSIS WAS USEFUL"
   ]
  }
 ],
 "metadata": {
  "kernelspec": {
   "display_name": "Python 3",
   "language": "python",
   "name": "python3"
  },
  "language_info": {
   "codemirror_mode": {
    "name": "ipython",
    "version": 3
   },
   "file_extension": ".py",
   "mimetype": "text/x-python",
   "name": "python",
   "nbconvert_exporter": "python",
   "pygments_lexer": "ipython3",
   "version": "3.8.1"
  }
 },
 "nbformat": 4,
 "nbformat_minor": 2
}
