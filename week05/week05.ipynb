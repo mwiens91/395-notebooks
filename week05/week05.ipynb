{
 "cells": [
  {
   "cell_type": "code",
   "execution_count": null,
   "metadata": {},
   "outputs": [],
   "source": [
    "%matplotlib inline"
   ]
  },
  {
   "cell_type": "code",
   "execution_count": null,
   "metadata": {
    "scrolled": true
   },
   "outputs": [],
   "source": [
    "import functools\n",
    "from typing import Tuple\n",
    "import matplotlib.pyplot as plt\n",
    "import numpy as np\n",
    "import pandas as pd\n",
    "from scipy import linalg"
   ]
  },
  {
   "cell_type": "markdown",
   "metadata": {},
   "source": [
    "# PHYS 395 - week 5\n",
    "\n",
    "**Matt Wiens - #301294492**\n",
    "\n",
    "This notebook will be organized similarly to the lab script, with major headings corresponding to the headings on the lab script.\n",
    "\n",
    "*The TA's name (Ignacio) will be shortened to \"IC\" whenever used.*"
   ]
  },
  {
   "cell_type": "markdown",
   "metadata": {},
   "source": [
    "## Setup"
   ]
  },
  {
   "cell_type": "code",
   "execution_count": null,
   "metadata": {
    "scrolled": true
   },
   "outputs": [],
   "source": [
    "# Set default plot size\n",
    "plt.rcParams[\"figure.figsize\"] = (10, 7)"
   ]
  },
  {
   "cell_type": "code",
   "execution_count": null,
   "metadata": {},
   "outputs": [],
   "source": [
    "%%javascript\n",
    "IPython.OutputArea.auto_scroll_threshold = 9999"
   ]
  },
  {
   "cell_type": "markdown",
   "metadata": {},
   "source": [
    "# Vector/matrix operations"
   ]
  },
  {
   "cell_type": "markdown",
   "metadata": {},
   "source": [
    "## Addition/subtraction"
   ]
  },
  {
   "cell_type": "markdown",
   "metadata": {},
   "source": [
    "Note that the `+` operation when used on Python lists concatenates lists. However, for NumPy arrays, the `+` operation does elementwise addition."
   ]
  },
  {
   "cell_type": "code",
   "execution_count": null,
   "metadata": {},
   "outputs": [],
   "source": [
    "a_list = [1.1, -2.1, 0.0]\n",
    "b_list = [2.0, 1.1, -0.5]\n",
    "\n",
    "a = np.array(a_list)\n",
    "b = np.array(b_list)\n",
    "\n",
    "# + for lists\n",
    "print(\"for lists: a + b = %s\" % (a_list + b_list))\n",
    "\n",
    "# + for NumPy arrays\n",
    "print(\"for arrays: a + b = %s\" % (a + b))"
   ]
  },
  {
   "cell_type": "markdown",
   "metadata": {},
   "source": [
    "We can also do `-` for elementwise subtraction."
   ]
  },
  {
   "cell_type": "code",
   "execution_count": null,
   "metadata": {},
   "outputs": [],
   "source": [
    "print(\"a - b = %s\" % (a - b))"
   ]
  },
  {
   "cell_type": "markdown",
   "metadata": {},
   "source": [
    "## Multiplication by a scalar"
   ]
  },
  {
   "cell_type": "markdown",
   "metadata": {},
   "source": [
    "Using NumPy arrays we can also do elementwise scalar multiplication. (Note that the `*` operator does not work between a float and a Python list.)"
   ]
  },
  {
   "cell_type": "code",
   "execution_count": null,
   "metadata": {},
   "outputs": [],
   "source": [
    "v = np.array([1.0, -2.1, 3.0])\n",
    "\n",
    "print(2.0 * v)"
   ]
  },
  {
   "cell_type": "markdown",
   "metadata": {},
   "source": [
    "## Vector/matrix products"
   ]
  },
  {
   "cell_type": "markdown",
   "metadata": {},
   "source": [
    "Using the `*` operator will perform elementwise multiplication (the $i$th element of the first array is multiplied by the $i$th element of the second array)."
   ]
  },
  {
   "cell_type": "code",
   "execution_count": null,
   "metadata": {},
   "outputs": [],
   "source": [
    "print(a * b)"
   ]
  },
  {
   "cell_type": "markdown",
   "metadata": {},
   "source": [
    "### Dot product"
   ]
  },
  {
   "cell_type": "markdown",
   "metadata": {},
   "source": [
    "There are a few different ways of taking the dot product."
   ]
  },
  {
   "cell_type": "code",
   "execution_count": null,
   "metadata": {},
   "outputs": [],
   "source": [
    "# Using np.dot\n",
    "print(np.dot(a, b))\n",
    "\n",
    "# Using *\n",
    "print(np.sum(a * b))"
   ]
  },
  {
   "cell_type": "markdown",
   "metadata": {},
   "source": [
    "Using NumPy's `dot` function (or the `@` operator) allows us to calculate proper matrix products."
   ]
  },
  {
   "cell_type": "code",
   "execution_count": null,
   "metadata": {},
   "outputs": [],
   "source": [
    "sigma_x = np.array([[0, 1], [1, 0]])\n",
    "sigma_z = np.array([[1, 0], [0, -1]])"
   ]
  },
  {
   "cell_type": "markdown",
   "metadata": {},
   "source": [
    "Let's calculate $\\sigma_x \\sigma_z$."
   ]
  },
  {
   "cell_type": "code",
   "execution_count": null,
   "metadata": {},
   "outputs": [],
   "source": [
    "print(sigma_x @ sigma_z)"
   ]
  },
  {
   "cell_type": "markdown",
   "metadata": {},
   "source": [
    "And $\\sigma_z \\sigma_x \\sigma_z$."
   ]
  },
  {
   "cell_type": "code",
   "execution_count": null,
   "metadata": {},
   "outputs": [],
   "source": [
    "print(sigma_z @ sigma_x @ sigma_z)"
   ]
  },
  {
   "cell_type": "markdown",
   "metadata": {},
   "source": [
    "### Vector norms"
   ]
  },
  {
   "cell_type": "markdown",
   "metadata": {},
   "source": [
    "Calculating Euclidean norms is simple with NumPy. Here we'll calculate $| a |$."
   ]
  },
  {
   "cell_type": "code",
   "execution_count": null,
   "metadata": {},
   "outputs": [],
   "source": [
    "print(np.linalg.norm(a))"
   ]
  },
  {
   "cell_type": "markdown",
   "metadata": {},
   "source": [
    "Or we determine the $|a|$ using the dot product."
   ]
  },
  {
   "cell_type": "code",
   "execution_count": null,
   "metadata": {},
   "outputs": [],
   "source": [
    "print(np.sqrt(np.dot(a, a)))"
   ]
  },
  {
   "cell_type": "markdown",
   "metadata": {},
   "source": [
    "### Cross product"
   ]
  },
  {
   "cell_type": "markdown",
   "metadata": {},
   "source": [
    "We can also easily compute cross products. Let's calculate $a \\times b$."
   ]
  },
  {
   "cell_type": "code",
   "execution_count": null,
   "metadata": {},
   "outputs": [],
   "source": [
    "print(np.cross(a, b))"
   ]
  },
  {
   "cell_type": "markdown",
   "metadata": {},
   "source": [
    "And let's verify this by evaluating the cross product ourselves:\n",
    "\n",
    "\\begin{align*}\n",
    "    a \\times b\n",
    "        &= (a_y b_z - a_z b_y) \\hat{i}\n",
    "            + (a_z b_x - a_x b_z) \\hat{j}\n",
    "            + (a_x b_y - a_y b_x) \\hat{z}\n",
    "            \\\\\n",
    "        &= ((-2.1) (-0.5) - (0) (1.1)) \\hat{i}\n",
    "            + ((0) (1.1) - (1.1) (-0.5)) \\hat{j}\n",
    "            + ((1.1) (1.1) - (-2.1) (2.0)) \\hat{z}\n",
    "            \\\\\n",
    "        &= 1.05 \\hat{i}\n",
    "            + 0.55 \\hat{j}\n",
    "            + 5.41 \\hat{z}\n",
    "            ,\n",
    "\\end{align*}\n",
    "\n",
    "which agrees with the computed value."
   ]
  },
  {
   "cell_type": "markdown",
   "metadata": {},
   "source": [
    "# Solving systems of equations"
   ]
  },
  {
   "cell_type": "markdown",
   "metadata": {},
   "source": [
    "## LU decomposition"
   ]
  },
  {
   "cell_type": "markdown",
   "metadata": {},
   "source": [
    "First let's create a random 5 x 5 matrix $A$ and length 5 array $b$. We'll explore how we can solve $A x = b$."
   ]
  },
  {
   "cell_type": "code",
   "execution_count": null,
   "metadata": {},
   "outputs": [],
   "source": [
    "a = np.random.rand(5, 5)\n",
    "b = np.random.rand(5)\n",
    "\n",
    "print(\"A =\\n%s\\n\\nb = %s\" % (a, b))"
   ]
  },
  {
   "cell_type": "markdown",
   "metadata": {},
   "source": [
    "Let's try using SciPy's `solve` function to solve for $x$."
   ]
  },
  {
   "cell_type": "code",
   "execution_count": null,
   "metadata": {},
   "outputs": [],
   "source": [
    "x = linalg.solve(a, b)\n",
    "\n",
    "print(\"x = %s\" % x)"
   ]
  },
  {
   "cell_type": "markdown",
   "metadata": {},
   "source": [
    "Let's verify the solution. Note that we don't want to use `==` here to test for equality since generally there will be some negligible error."
   ]
  },
  {
   "cell_type": "code",
   "execution_count": null,
   "metadata": {
    "scrolled": true
   },
   "outputs": [],
   "source": [
    "print(np.allclose(a @ x, b))"
   ]
  },
  {
   "cell_type": "markdown",
   "metadata": {},
   "source": [
    "Now we'll explicitly carry out an LU decomposition."
   ]
  },
  {
   "cell_type": "code",
   "execution_count": null,
   "metadata": {},
   "outputs": [],
   "source": [
    "p, l, u = linalg.lu(a)\n",
    "\n",
    "print(\"P =\\n%s\\n\\nL =\\n%s\\n\\nU =\\n%s\" % (p, l, u))"
   ]
  },
  {
   "cell_type": "markdown",
   "metadata": {},
   "source": [
    "Let's verify that $P L U = A$."
   ]
  },
  {
   "cell_type": "code",
   "execution_count": null,
   "metadata": {},
   "outputs": [],
   "source": [
    "print(np.allclose(p @ l @ u, a))"
   ]
  },
  {
   "cell_type": "markdown",
   "metadata": {},
   "source": [
    "Now we'll solve two equations. The first is $L y = P^{-1} b$ for $y$, then $U x = y$ for $x$. Note that $P^{-1} = P^T$ since $P$ is a permutation matrix; this is a straightforward result from linear algebra."
   ]
  },
  {
   "cell_type": "code",
   "execution_count": null,
   "metadata": {},
   "outputs": [],
   "source": [
    "y_lu = linalg.solve(l, p.transpose() @ b)\n",
    "x_lu = linalg.solve(u, y_lu)\n",
    "\n",
    "print(\"x = %s\" % x_lu)"
   ]
  },
  {
   "cell_type": "markdown",
   "metadata": {},
   "source": [
    "Note that this agrees with our earlier calculation."
   ]
  },
  {
   "cell_type": "markdown",
   "metadata": {},
   "source": [
    "## System of linear equations problems"
   ]
  },
  {
   "cell_type": "markdown",
   "metadata": {},
   "source": [
    "### Resistor chain circuit"
   ]
  },
  {
   "cell_type": "markdown",
   "metadata": {},
   "source": [
    "Here we need to consider the resistor chain circuit shown in the lab script."
   ]
  },
  {
   "cell_type": "markdown",
   "metadata": {},
   "source": [
    "Here we have that $V_0$ is given. For voltages $V_i$ with $i = 2, \\ldots, N - 1$, Kirchoff's current law gives the result\n",
    "\n",
    "\\begin{equation}\n",
    "    I_{i - 2, i} + I_{i - 1, i} + I_{i + 1, i} + I_{i + 2, i} = 0\n",
    "    ,\n",
    "\\end{equation}\n",
    "\n",
    "where $I_{j, i}$ is the current flowing from node $j$ to node $i$. Note that we have taken the $N + 1$th node to be the ground.\n",
    "\n",
    "Applying Ohm's law and multiplying through by the resistance $R$ (which is the same for all resistors) we have\n",
    "\n",
    "\\begin{align}\n",
    "    &\\frac{1}{R} \\left(\\Delta V_{i - 2, i} + \\Delta V_{i - 1, i} + \\Delta V_{i + 1, i} + \\Delta V_{i + 2, i} \\right) = 0 \\\\\n",
    "    &\\Rightarrow V_{i - 2} + V_{i - 1} + V_{i + 1} + V_{i + 2} - 4 V_i = 0\n",
    "    .\n",
    "\\end{align}\n",
    "\n",
    "For the case of $i = 1$ we have\n",
    "\n",
    "\\begin{align}\n",
    "    &I_{0, 1} + I_{2, 1} + I_{3, 1} = 0 \\\\\n",
    "    &\\Rightarrow V_0 + V_2 + V_3 - 3 V_1 = 0\n",
    "    ;\n",
    "\\end{align}\n",
    "\n",
    "and for $i = N$,\n",
    "\n",
    "\\begin{align}\n",
    "    &I_{N - 2, N} + I_{N - 1, N} + I_{*, N} = 0 \\\\\n",
    "    &\\Rightarrow V_{N - 2} + V_{N - 1} - 3 V_N = 0\n",
    "    .\n",
    "\\end{align}\n",
    "\n",
    "Here, $*$ denotes the ground node."
   ]
  },
  {
   "cell_type": "markdown",
   "metadata": {},
   "source": [
    "Now let's set up a function that gives us $A$ and $b$ so that we can solve these equations."
   ]
  },
  {
   "cell_type": "code",
   "execution_count": null,
   "metadata": {},
   "outputs": [],
   "source": [
    "def resistor_chain_matrix(n: int, v0: float) -> Tuple[np.ndarray, np.ndarray]:\n",
    "    \"\"\"Returns the resistor chain matrices A and b\"\"\"\n",
    "    # Construct A first\n",
    "    A = 4 * np.eye(n)\n",
    "\n",
    "    # Add off diagonals\n",
    "    A = functools.reduce(lambda mat, k: mat - np.eye(n, k=k), [-2, -1, 1, 2], A)\n",
    "\n",
    "    # Adjust the non-symmetric entries\n",
    "    A[0][0] = 3\n",
    "    A[n - 1, -1] = 3\n",
    "\n",
    "    b = np.zeros(n)\n",
    "    b[0] = v0\n",
    "    b[1] = v0\n",
    "\n",
    "    return (A, b)"
   ]
  },
  {
   "cell_type": "markdown",
   "metadata": {},
   "source": [
    "We will test this for the $N = 6$ case where $V_0 = 4$ volts."
   ]
  },
  {
   "cell_type": "code",
   "execution_count": null,
   "metadata": {},
   "outputs": [],
   "source": [
    "x = linalg.solve(*resistor_chain_matrix(6, 4))\n",
    "\n",
    "print(\"x = %s\" % x)"
   ]
  },
  {
   "cell_type": "markdown",
   "metadata": {},
   "source": [
    "Now we'll use $N = 10000$. For efficiency reasons, we want to use a \"banded representation\" of our matrix $A$."
   ]
  },
  {
   "cell_type": "code",
   "execution_count": null,
   "metadata": {},
   "outputs": [],
   "source": [
    "n = 10 ** 4\n",
    "v0 = 4\n",
    "\n",
    "# Construct banded representation of A\n",
    "a = - 1 * np.ones((5, n))\n",
    "a[2] = 4 * np.ones(n)\n",
    "a[2][0] = 3\n",
    "a[2][-1] = 3\n",
    "\n",
    "# Get b\n",
    "b = np.zeros(n)\n",
    "b[0] = v0\n",
    "b[1] = v0"
   ]
  },
  {
   "cell_type": "code",
   "execution_count": null,
   "metadata": {},
   "outputs": [],
   "source": [
    "x = linalg.solve_banded((2, 2), a , b)"
   ]
  },
  {
   "cell_type": "markdown",
   "metadata": {},
   "source": [
    "Now let's plot this solution."
   ]
  },
  {
   "cell_type": "code",
   "execution_count": null,
   "metadata": {},
   "outputs": [],
   "source": [
    "# Set up figure\n",
    "_, ax = plt.subplots()\n",
    "\n",
    "# Plot data\n",
    "plt.plot(np.arange(1, n + 1), x)\n",
    "\n",
    "# Labels\n",
    "ax.set_xlabel(r\"$i$\")\n",
    "ax.set_ylabel(r\"$V_i$\");"
   ]
  },
  {
   "cell_type": "markdown",
   "metadata": {},
   "source": [
    "This result isn't unreasonable, but was unexpected for me that it appears to be perfectly linear."
   ]
  },
  {
   "cell_type": "markdown",
   "metadata": {},
   "source": [
    "### Resistor capacitor circuit"
   ]
  },
  {
   "cell_type": "markdown",
   "metadata": {},
   "source": [
    "Now we need to solve for the voltages in a circuit involving capacitors."
   ]
  }
 ],
 "metadata": {
  "kernelspec": {
   "display_name": "Python 3",
   "language": "python",
   "name": "python3"
  },
  "language_info": {
   "codemirror_mode": {
    "name": "ipython",
    "version": 3
   },
   "file_extension": ".py",
   "mimetype": "text/x-python",
   "name": "python",
   "nbconvert_exporter": "python",
   "pygments_lexer": "ipython3",
   "version": "3.8.1"
  }
 },
 "nbformat": 4,
 "nbformat_minor": 2
}
