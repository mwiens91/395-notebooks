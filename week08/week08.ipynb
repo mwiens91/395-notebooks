{
 "cells": [
  {
   "cell_type": "code",
   "execution_count": null,
   "metadata": {},
   "outputs": [],
   "source": [
    "%matplotlib inline"
   ]
  },
  {
   "cell_type": "code",
   "execution_count": null,
   "metadata": {
    "scrolled": true
   },
   "outputs": [],
   "source": [
    "import itertools\n",
    "import matplotlib.pyplot as plt\n",
    "import numpy as np\n",
    "import pandas as pd"
   ]
  },
  {
   "cell_type": "markdown",
   "metadata": {},
   "source": [
    "# PHYS 395 - week 8\n",
    "\n",
    "**Matt Wiens - #301294492**\n",
    "\n",
    "This notebook will be organized similarly to the lab script, with major headings corresponding to the headings on the lab script.\n",
    "\n",
    "*The TA's name (Ignacio) will be shortened to \"IC\" whenever used.*"
   ]
  },
  {
   "cell_type": "markdown",
   "metadata": {},
   "source": [
    "## Setup "
   ]
  },
  {
   "cell_type": "code",
   "execution_count": null,
   "metadata": {},
   "outputs": [],
   "source": [
    "# Set default plot size\n",
    "plt.rcParams[\"figure.figsize\"] = (12, 9)"
   ]
  },
  {
   "cell_type": "code",
   "execution_count": null,
   "metadata": {},
   "outputs": [],
   "source": [
    "%%javascript\n",
    "IPython.OutputArea.auto_scroll_threshold = 9999"
   ]
  },
  {
   "cell_type": "markdown",
   "metadata": {},
   "source": [
    "# Simulated annealing"
   ]
  },
  {
   "cell_type": "markdown",
   "metadata": {},
   "source": [
    "We will start by working through some problems involving simulated annealing."
   ]
  },
  {
   "cell_type": "markdown",
   "metadata": {},
   "source": [
    "## Finding the global minimum of 1D energy function"
   ]
  },
  {
   "cell_type": "markdown",
   "metadata": {},
   "source": [
    "Here we want to use annealing to find the global minimum of\n",
    "\n",
    "\\begin{equation}\n",
    "    E(x) = x^2 - 2 \\cos \\left(2 \\pi x \\right)\n",
    "    .\n",
    "\\end{equation}"
   ]
  },
  {
   "cell_type": "markdown",
   "metadata": {},
   "source": [
    "First, let's plot this function."
   ]
  },
  {
   "cell_type": "code",
   "execution_count": null,
   "metadata": {},
   "outputs": [],
   "source": [
    "# First define the function\n",
    "energy_fn = lambda x: x ** 2 - 2 * np.cos(2 * np.pi * x)"
   ]
  },
  {
   "cell_type": "code",
   "execution_count": null,
   "metadata": {},
   "outputs": [],
   "source": [
    "# Now plot\n",
    "_, ax = plt.subplots()\n",
    "\n",
    "xs = np.linspace(-5, 5, 500)\n",
    "Es = energy_fn(xs)\n",
    "\n",
    "ax.plot(xs, Es)\n",
    "\n",
    "ax.set_xlabel(\"$x$\")\n",
    "ax.set_ylabel(\"$E$\");"
   ]
  },
  {
   "cell_type": "markdown",
   "metadata": {},
   "source": [
    "Now we'll use simulated annealing to find the global minimum. First we'll define the parameters for our method."
   ]
  },
  {
   "cell_type": "code",
   "execution_count": null,
   "metadata": {},
   "outputs": [],
   "source": [
    "# Initial and final temperatures\n",
    "T_init = 1.0\n",
    "T_end = 0.01\n",
    "\n",
    "# Decay constant\n",
    "tau = 100\n",
    "\n",
    "# Initial x position -- this could be anything really\n",
    "x_init = 3"
   ]
  },
  {
   "cell_type": "markdown",
   "metadata": {},
   "source": [
    "To find the number of iterations required, note that we can invert the formula\n",
    "\n",
    "\\begin{equation}\n",
    "    T = T_0 \\exp \\left(- \\frac{t}{\\tau} \\right)\n",
    "\\end{equation}\n",
    "\n",
    "to get the time parameter $t$ as a function of $T$; i.e.,\n",
    "\n",
    "\\begin{equation}\n",
    "    t = \\tau \\log \\left( \\frac{T_0}{T} \\right)\n",
    "    .\n",
    "\\end{equation}\n",
    "\n",
    "Then, we can find the number of iterations required by plugging in the final temperature."
   ]
  },
  {
   "cell_type": "code",
   "execution_count": null,
   "metadata": {},
   "outputs": [],
   "source": [
    "# Calculate how many iterations given initial and final\n",
    "# temperatures\n",
    "num_iterations = int(np.ceil(tau * np.log(T_init / T_end))) + 1\n",
    "\n",
    "# Set up arrays to track data\n",
    "energies = np.zeros(num_iterations)\n",
    "positions = np.zeros(num_iterations)\n",
    "\n",
    "energies[0] = energy_fn(x_init)\n",
    "positions[0] = x_init\n",
    "\n",
    "# Set up temperatures to iterate over\n",
    "temps = T_init * np.exp(-np.arange(num_iterations) / tau)\n",
    "\n",
    "# Now run the simulation\n",
    "for i, T in enumerate(temps[1:], 1):\n",
    "    # Generate a candidate position\n",
    "    new_x = positions[i - 1] + np.random.normal()\n",
    "    new_E = energy_fn(new_x)\n",
    "    \n",
    "    # See if move accepted\n",
    "    dE = new_E - energies[i - 1]\n",
    "    \n",
    "    if np.exp(-dE / T) >= np.random.rand():\n",
    "        # Move accepted\n",
    "        positions[i] = new_x\n",
    "        energies[i] = new_E\n",
    "    else:\n",
    "        positions[i] = positions[i - 1]\n",
    "        energies[i] = energies[i - 1]"
   ]
  },
  {
   "cell_type": "markdown",
   "metadata": {},
   "source": [
    "Now let's overlay the result of of simulation on the plot we generated above."
   ]
  },
  {
   "cell_type": "code",
   "execution_count": null,
   "metadata": {
    "scrolled": false
   },
   "outputs": [],
   "source": [
    "# Now plot\n",
    "_, ax = plt.subplots()\n",
    "\n",
    "xs = np.linspace(-5, 5, 500)\n",
    "Es = energy_fn(xs)\n",
    "\n",
    "ax.plot(xs, Es)\n",
    "ax.plot(positions[np.argmin(energies)], np.min(energies), \".\", markersize=20)\n",
    "\n",
    "ax.set_xlabel(\"$x$\")\n",
    "ax.set_ylabel(\"$E$\")\n",
    "\n",
    "ax.legend([\"energy curve\", \"simulation global minimum\"]);"
   ]
  },
  {
   "cell_type": "markdown",
   "metadata": {},
   "source": [
    "The values we've used here lead to a good result. I've tried reducing the decay constant $\\tau$ and the result was close to the minimum but not quite there (less iterations). Same idea for raising the final temperature. Anyway, the current values lead to a good result, and at least on my machine the simulation is fast, so I'm happy with it."
   ]
  },
  {
   "cell_type": "markdown",
   "metadata": {},
   "source": [
    "## Finite cluster shapes"
   ]
  },
  {
   "cell_type": "markdown",
   "metadata": {},
   "source": [
    "Now we're going to consider a finite set of interacting particles, and find the minimum energy states by considering the Lennard-Jones potential. Recall that the Lennard-Jones potential is given by\n",
    "\n",
    "\\begin{equation}\n",
    "    V_{LJ}(r) = 4 \\epsilon \\left[ \\frac{1}{r^{12}} - \\frac{1}{r^6} \\right]\n",
    "    ,\n",
    "\\end{equation}\n",
    "\n",
    "where the distance $r$ is expressed in terms of particle diameter, and so the total energy of the system will be given by\n",
    "\n",
    "\\begin{equation}\n",
    "    E = \\sum_{i = 1}^N \\sum_{j = i + 1}^N V_{LJ}(r_{ij})\n",
    "    .\n",
    "\\end{equation}"
   ]
  },
  {
   "cell_type": "markdown",
   "metadata": {},
   "source": [
    "To make this problem more tractable, we'll restrict the $N$ particles to a 2D box of size $L$ x $L$ and impose periodic boundary conditions. Let's set up parameters."
   ]
  },
  {
   "cell_type": "code",
   "execution_count": null,
   "metadata": {},
   "outputs": [],
   "source": [
    "# Number of particles\n",
    "N = 10\n",
    "\n",
    "# Length of box (in units of particle diameter)\n",
    "L = 10\n",
    "\n",
    "# Initial and final temperature\n",
    "T_init = 1.5\n",
    "T_end = 0.001\n",
    "\n",
    "# Decay constant\n",
    "tau = 200\n",
    "\n",
    "# Epsilon parameter\n",
    "eps = 1.5\n",
    "\n",
    "# Standard deviation of x and y position change\n",
    "sigma_r = 0.5"
   ]
  },
  {
   "cell_type": "markdown",
   "metadata": {},
   "source": [
    "Now let's set up functions for calculating the total energy of the system, and changes in energy."
   ]
  },
  {
   "cell_type": "code",
   "execution_count": null,
   "metadata": {},
   "outputs": [],
   "source": [
    "def v_lj(r: float, eps: float = eps) -> float:\n",
    "    return 4 * eps * (1 / r ** 12 - 1 / r ** 6)\n",
    "\n",
    "\n",
    "def get_total_energy(positions: np.ndarray, N: int = N) -> float:\n",
    "    total = 0\n",
    "\n",
    "    for i, j in itertools.combinations(range(N), 2):\n",
    "        r = np.linalg.norm(positions[i, :] - positions[j, :])\n",
    "        total += v_lj(r)\n",
    "\n",
    "    return total\n",
    "\n",
    "\n",
    "def get_change_in_energy(\n",
    "    old_positions: np.ndarray, new_position: np.ndarray, row_idx: int, N: int = N\n",
    ") -> float:\n",
    "    total = 0\n",
    "\n",
    "    for i in range(N):\n",
    "        if i == row_idx:\n",
    "            continue\n",
    "\n",
    "        r = np.linalg.norm(new_position - old_positions[i, :])\n",
    "        total += v_lj(r)\n",
    "\n",
    "    return total"
   ]
  },
  {
   "cell_type": "markdown",
   "metadata": {},
   "source": [
    "Now we'll simulate this system."
   ]
  },
  {
   "cell_type": "code",
   "execution_count": null,
   "metadata": {
    "scrolled": true
   },
   "outputs": [],
   "source": [
    "# First let's randomly pick positions for the N particles\n",
    "init_positions = L * np.random.rand(N, 2)\n",
    "\n",
    "# Calculate how many iterations given initial and final\n",
    "# temperatures\n",
    "num_iterations = int(np.ceil(tau * np.log(T_init / T_end))) + 1\n",
    "\n",
    "# Set up temperatures to iterate over\n",
    "temps = T_init * np.exp(-np.arange(num_iterations) / tau)\n",
    "\n",
    "# Now set up arrays for our data\n",
    "all_positions = np.zeros((num_iterations, N, 2))\n",
    "energies = np.zeros(num_iterations)\n",
    "\n",
    "all_positions[0, :, :] = init_positions\n",
    "energies[0] = get_total_energy(init_positions)\n",
    "\n",
    "# Now run the simulation\n",
    "for t, T in enumerate(temps[1:], 1):\n",
    "    current_positions = np.copy(all_positions[t - 1, :, :])\n",
    "    current_energy = energies[t - 1]\n",
    "\n",
    "    # Perform a sweep over all N particles\n",
    "    for i in range(N):\n",
    "        # Get candidate position for ith particle\n",
    "        new_pos = current_positions[i, :] + np.random.normal(0, sigma_r, 2)\n",
    "        new_pos = new_pos - L * np.floor(new_pos / L)\n",
    "        \n",
    "        # Decide whether to accept it\n",
    "        dE = get_change_in_energy(current_positions, new_pos, i)\n",
    "\n",
    "        if np.exp(-dE / T) >= np.random.rand():\n",
    "            # Move accepted\n",
    "            current_positions[i, :] = new_pos\n",
    "            current_energy += dE\n",
    "            \n",
    "    # Capture sample\n",
    "    all_positions[t, :, :] = current_positions\n",
    "    energies[t] = current_energy"
   ]
  },
  {
   "cell_type": "markdown",
   "metadata": {},
   "source": [
    "Now we'll plot the four lowest energy states from our sample."
   ]
  },
  {
   "cell_type": "code",
   "execution_count": null,
   "metadata": {},
   "outputs": [],
   "source": [
    "# Get the indices of the k lowest energy states\n",
    "k = 4\n",
    "\n",
    "indices = np.argpartition(energies, k)[:k]"
   ]
  },
  {
   "cell_type": "code",
   "execution_count": null,
   "metadata": {},
   "outputs": [],
   "source": [
    "_, axes = plt.subplots(2, 2, sharex=True, sharey=True)\n",
    "\n",
    "for idx, ax in enumerate(axes.flatten()):\n",
    "    ax.plot(all_positions[indices[idx], :, 0], all_positions[indices[idx], :, 1], \"*\")"
   ]
  },
  {
   "cell_type": "markdown",
   "metadata": {},
   "source": [
    "## Number partitioning"
   ]
  },
  {
   "cell_type": "markdown",
   "metadata": {},
   "source": [
    "For this problem we have $N$ positive numbers that we want to divide as equally as possible into two groups. Let $s_i = 1$ if the $i$th number $n_i$ belongs to the first group; else $s_i = - 1$. We thus want to minimize\n",
    "\n",
    "\\begin{equation}\n",
    "    H = \\left( \\sum_{i = 1}^N n_i s_i \\right)^2\n",
    "    .\n",
    "\\end{equation}"
   ]
  },
  {
   "cell_type": "markdown",
   "metadata": {},
   "source": [
    "Note that we square the sum because the most optimal values of $H$ are those that are close to zero as possible, regardless of sign."
   ]
  },
  {
   "cell_type": "markdown",
   "metadata": {},
   "source": [
    "As we've done before, we'll first set up constants, and then run the simulation."
   ]
  },
  {
   "cell_type": "code",
   "execution_count": null,
   "metadata": {},
   "outputs": [],
   "source": [
    "# Determine which/how many numbers are in the problem\n",
    "N = 15\n",
    "n_min = 1\n",
    "n_max = 100\n",
    "\n",
    "# Initial and final temperature\n",
    "T_init = 1.5\n",
    "T_end = 0.001\n",
    "\n",
    "# Decay constant\n",
    "tau = 200\n",
    "\n",
    "# The energy function to minimize\n",
    "energy_fn = lambda ns, ss: (ns @ ss) ** 2"
   ]
  },
  {
   "cell_type": "code",
   "execution_count": null,
   "metadata": {},
   "outputs": [],
   "source": [
    "# Randomly pick the n-values and the initial s-values\n",
    "n_vals = np.random.randint(n_min, n_max + 1, N)\n",
    "init_s_vals = np.random.choice([-1, 1], N)\n",
    "\n",
    "# Calculate how many iterations given initial and final\n",
    "# temperatures\n",
    "num_iterations = int(np.ceil(tau * np.log(T_init / T_end))) + 1\n",
    "\n",
    "# Set up temperatures to iterate over\n",
    "temps = T_init * np.exp(-np.arange(num_iterations) / tau)\n",
    "\n",
    "# Now set up arrays for our data\n",
    "s_vals = np.zeros((num_iterations, N))\n",
    "energies = np.zeros(num_iterations)\n",
    "\n",
    "s_vals[0, :] = init_s_vals\n",
    "energies[0] = energy_fn(n_vals, init_s_vals)\n",
    "\n",
    "# Now run the simulation\n",
    "for t, T in enumerate(temps[1:], 1):\n",
    "    current_s_vals = np.copy(s_vals[t - 1, :])\n",
    "    current_energy = energies[t - 1]\n",
    "\n",
    "    # Perform a sweep over all N particles\n",
    "    for _ in range(N):\n",
    "        # Randomly select one of the \"spins\" to flip\n",
    "        spin_idx = np.random.randint(0, N)\n",
    "\n",
    "        proposed_s_vals = np.copy(current_s_vals)\n",
    "        proposed_s_vals[spin_idx] = -proposed_s_vals[spin_idx]\n",
    "\n",
    "        # Decide whether to accept it\n",
    "        dE = energy_fn(n_vals, proposed_s_vals) - current_energy\n",
    "\n",
    "        if np.exp(-dE / T) >= np.random.rand():\n",
    "            # Move accepted\n",
    "            current_s_vals = proposed_s_vals\n",
    "            current_energy += dE\n",
    "\n",
    "    # Capture sample\n",
    "    s_vals[t, :] = current_s_vals\n",
    "    energies[t] = current_energy"
   ]
  },
  {
   "cell_type": "code",
   "execution_count": null,
   "metadata": {},
   "outputs": [],
   "source": [
    "print(\"n-vals: %s\" % n_vals)\n",
    "print(\"Minimum H: %s\" % np.min(energies))"
   ]
  },
  {
   "cell_type": "markdown",
   "metadata": {},
   "source": [
    "Whether or not we can get $H = 0$ is problem dependent (that is, it depends on the values of $n_i$), but all runs I've done for this problem converge to a single value (and quite quickly).\n",
    "\n",
    "For example, if we have $N = 16$ and\n",
    "\n",
    "\\begin{equation}\n",
    "    n_i = i\n",
    "    ,\n",
    "\\end{equation}\n",
    "\n",
    "then for this configuration we can reach $H = 0$. Additionally there are many ways to reach this optimal value, many of which are reached in the Metropolis simulation."
   ]
  },
  {
   "cell_type": "markdown",
   "metadata": {},
   "source": [
    "We demonstrate this below."
   ]
  },
  {
   "cell_type": "code",
   "execution_count": null,
   "metadata": {},
   "outputs": [],
   "source": [
    "# Determine which/how many numbers are in the problem\n",
    "N = 16\n",
    "\n",
    "# Initial and final temperature\n",
    "T_init = 1.5\n",
    "T_end = 0.001\n",
    "\n",
    "# Decay constant\n",
    "tau = 200\n",
    "\n",
    "# The energy function to minimize\n",
    "energy_fn = lambda ns, ss: (ns @ ss) ** 2"
   ]
  },
  {
   "cell_type": "code",
   "execution_count": null,
   "metadata": {},
   "outputs": [],
   "source": [
    "# Set up the n-values\n",
    "n_vals = np.zeros(N) + 1\n",
    "\n",
    "# Randomly pick the initial s-values\n",
    "init_s_vals = np.random.choice([-1, 1], N)\n",
    "\n",
    "# Calculate how many iterations given initial and final\n",
    "# temperatures\n",
    "num_iterations = int(np.ceil(tau * np.log(T_init / T_end))) + 1\n",
    "\n",
    "# Set up temperatures to iterate over\n",
    "temps = T_init * np.exp(-np.arange(num_iterations) / tau)\n",
    "\n",
    "# Now set up arrays for our data\n",
    "s_vals = np.zeros((num_iterations, N))\n",
    "energies = np.zeros(num_iterations)\n",
    "\n",
    "s_vals[0, :] = init_s_vals\n",
    "energies[0] = energy_fn(n_vals, init_s_vals)\n",
    "\n",
    "# Now run the simulation\n",
    "for t, T in enumerate(temps[1:], 1):\n",
    "    current_s_vals = np.copy(s_vals[t - 1, :])\n",
    "    current_energy = energies[t - 1]\n",
    "\n",
    "    # Perform a sweep over all N particles\n",
    "    for _ in range(N):\n",
    "        # Randomly select one of the \"spins\" to flip\n",
    "        spin_idx = np.random.randint(0, N)\n",
    "\n",
    "        proposed_s_vals = np.copy(current_s_vals)\n",
    "        proposed_s_vals[spin_idx] = -proposed_s_vals[spin_idx]\n",
    "\n",
    "        # Decide whether to accept it\n",
    "        dE = energy_fn(n_vals, proposed_s_vals) - current_energy\n",
    "\n",
    "        if np.exp(-dE / T) >= np.random.rand():\n",
    "            # Move accepted\n",
    "            current_s_vals = proposed_s_vals\n",
    "            current_energy += dE\n",
    "\n",
    "    # Capture sample\n",
    "    s_vals[t, :] = current_s_vals\n",
    "    energies[t] = current_energy"
   ]
  },
  {
   "cell_type": "code",
   "execution_count": null,
   "metadata": {},
   "outputs": [],
   "source": [
    "# Find number of unique zero-energy configurations\n",
    "num_uniq = np.unique(s_vals[np.where(energies == 0), :], axis=1).shape[1]\n",
    "\n",
    "print(\"Num unique zero-energy configurations found: %s\" % num_uniq)"
   ]
  },
  {
   "cell_type": "markdown",
   "metadata": {},
   "source": [
    "We can also write the energy function $H$ in another form:\n",
    "\n",
    "\\begin{align}\n",
    "    H\n",
    "        &= \\left( \\sum_{i = 1}^N n_i s_i \\right)^2 \\\\\n",
    "        &= \\left( \\sum_{i = 1}^N n_i s_i \\right) \\left( \\sum_{i = 1}^N n_i s_i \\right) \\\\\n",
    "        &= \\sum_{i = 1}^N \\sum_{j = 1}^N n_i n_j s_i s_j \\\\\n",
    "        &= \\sum_{i = 1}^N \\sum_{j = 1}^N J_{i, j} s_i s_j\n",
    "        ,\n",
    "\\end{align}\n",
    "\n",
    "where in the last step we set $J_{i, j} = n_i, n_j$."
   ]
  },
  {
   "cell_type": "markdown",
   "metadata": {},
   "source": [
    "Lets run our above simulation with random $n_i$ values using the rewritten from of $H$."
   ]
  },
  {
   "cell_type": "code",
   "execution_count": null,
   "metadata": {},
   "outputs": [],
   "source": [
    "# Determine which/how many numbers are in the problem\n",
    "N = 15\n",
    "n_min = 1\n",
    "n_max = 100\n",
    "\n",
    "# Initial and final temperature\n",
    "T_init = 1.5\n",
    "T_end = 0.001\n",
    "\n",
    "# Decay constant\n",
    "tau = 200\n",
    "\n",
    "# The energy function to minimize\n",
    "def energy_fn(ns: np.ndarray, ss: np.ndarray) -> int:\n",
    "    total = 0\n",
    "    \n",
    "    for i, j in itertools.product(range(N), range(N)):\n",
    "        total += ns[i] * ns[j] * ss[i] * ss[j]\n",
    "    \n",
    "    return total"
   ]
  },
  {
   "cell_type": "code",
   "execution_count": null,
   "metadata": {},
   "outputs": [],
   "source": [
    "# Randomly pick the n-values and the initial s-values\n",
    "n_vals = np.random.randint(n_min, n_max + 1, N)\n",
    "init_s_vals = np.random.choice([-1, 1], N)\n",
    "\n",
    "# Calculate how many iterations given initial and final\n",
    "# temperatures\n",
    "num_iterations = int(np.ceil(tau * np.log(T_init / T_end))) + 1\n",
    "\n",
    "# Set up temperatures to iterate over\n",
    "temps = T_init * np.exp(-np.arange(num_iterations) / tau)\n",
    "\n",
    "# Now set up arrays for our data\n",
    "s_vals = np.zeros((num_iterations, N))\n",
    "energies = np.zeros(num_iterations)\n",
    "\n",
    "s_vals[0, :] = init_s_vals\n",
    "energies[0] = energy_fn(n_vals, init_s_vals)\n",
    "\n",
    "# Now run the simulation\n",
    "for t, T in enumerate(temps[1:], 1):\n",
    "    current_s_vals = np.copy(s_vals[t - 1, :])\n",
    "    current_energy = energies[t - 1]\n",
    "\n",
    "    # Perform a sweep over all N particles\n",
    "    for _ in range(N):\n",
    "        # Randomly select one of the \"spins\" to flip\n",
    "        spin_idx = np.random.randint(0, N)\n",
    "\n",
    "        proposed_s_vals = np.copy(current_s_vals)\n",
    "        proposed_s_vals[spin_idx] = -proposed_s_vals[spin_idx]\n",
    "\n",
    "        # Decide whether to accept it\n",
    "        dE = energy_fn(n_vals, proposed_s_vals) - current_energy\n",
    "\n",
    "        if np.exp(-dE / T) >= np.random.rand():\n",
    "            # Move accepted\n",
    "            current_s_vals = proposed_s_vals\n",
    "            current_energy += dE\n",
    "\n",
    "    # Capture sample\n",
    "    s_vals[t, :] = current_s_vals\n",
    "    energies[t] = current_energy"
   ]
  },
  {
   "cell_type": "code",
   "execution_count": null,
   "metadata": {},
   "outputs": [],
   "source": [
    "print(\"n-vals: %s\" % n_vals)\n",
    "print(\"Minimum H: %s\" % np.min(energies))"
   ]
  },
  {
   "cell_type": "markdown",
   "metadata": {},
   "source": [
    "This takes a bit longer due to the code used to evaluate the energy function, but other than that the results are identical (as they should be) to the simulations with the previous energy function expression."
   ]
  },
  {
   "cell_type": "markdown",
   "metadata": {},
   "source": [
    "## Traveling salesman problem"
   ]
  },
  {
   "cell_type": "markdown",
   "metadata": {},
   "source": [
    "Now we'll use annealing to solve the traveling saleman problem."
   ]
  },
  {
   "cell_type": "markdown",
   "metadata": {},
   "source": [
    "Let's load the data we were given."
   ]
  },
  {
   "cell_type": "code",
   "execution_count": null,
   "metadata": {},
   "outputs": [],
   "source": [
    "cities_pos_small = np.loadtxt(\"cities_small.txt\", delimiter=\",\")\n",
    "cities_pos_large = np.loadtxt(\"cities_large.txt\", delimiter=\",\")"
   ]
  },
  {
   "cell_type": "markdown",
   "metadata": {},
   "source": [
    "Now we'll run simulated annealing code for both of these datasets."
   ]
  },
  {
   "cell_type": "code",
   "execution_count": null,
   "metadata": {},
   "outputs": [],
   "source": [
    "cities_data = cities_pos_small"
   ]
  },
  {
   "cell_type": "code",
   "execution_count": null,
   "metadata": {},
   "outputs": [],
   "source": [
    "# Number of cities\n",
    "N = len(cities_data)\n",
    "\n",
    "# Precompute the distances between cities\n",
    "distances = np.zeros((N, N))\n",
    "\n",
    "for i, j in itertools.combinations(range(N), 2):\n",
    "    dist = np.linalg.norm(cities_data[i, :] - cities_data[j, :])\n",
    "\n",
    "    distances[i, j] = dist\n",
    "    distances[j, i] = dist\n",
    "\n",
    "# Initial and final temperature\n",
    "T_init = 1.5\n",
    "T_end = 0.001\n",
    "\n",
    "# Decay constant\n",
    "tau = 200\n",
    "\n",
    "# The energy function to minimize\n",
    "def energy_fn(path: np.ndarray) -> float:\n",
    "    total = 0\n",
    "\n",
    "    for i in range(1, N):\n",
    "        total += distances[path[i], path[i - 1]]\n",
    "\n",
    "    total += distances[path[0], path[N - 1]]\n",
    "\n",
    "    return total"
   ]
  },
  {
   "cell_type": "code",
   "execution_count": null,
   "metadata": {},
   "outputs": [],
   "source": [
    "# Randomly pick initial path\n",
    "init_path = np.concatenate([[0], np.random.permutation(range(1, N)), [0]])\n",
    "\n",
    "# Calculate how many iterations given initial and final\n",
    "# temperatures\n",
    "num_iterations = int(np.ceil(tau * np.log(T_init / T_end))) + 1\n",
    "\n",
    "# Set up temperatures to iterate over\n",
    "temps = T_init * np.exp(-np.arange(num_iterations) / tau)\n",
    "\n",
    "# Now set up arrays for our data\n",
    "paths = np.zeros((num_iterations, N + 1), dtype=int)\n",
    "energies = np.zeros(num_iterations)\n",
    "\n",
    "paths[0, :] = init_path\n",
    "energies[0] = energy_fn(init_path)\n",
    "\n",
    "# Now run the simulation\n",
    "for t, T in enumerate(temps[1:], 1):\n",
    "    path = np.copy(paths[t - 1, :])\n",
    "\n",
    "    # Randomly interchange one of the cities\n",
    "    city_1 = np.random.randint(1, N)\n",
    "    city_2 = np.random.randint(1, N)\n",
    "\n",
    "    while city_2 == city_1:\n",
    "        city_2 = np.random.randint(1, N)\n",
    "\n",
    "    path[city_1] = city_2\n",
    "    path[city_2] = city_1\n",
    "\n",
    "    # Compute the energy\n",
    "    energy = energy_fn(path)\n",
    "\n",
    "    # Decide whether to accept this change\n",
    "    dE = energy - energies[t - 1]\n",
    "\n",
    "    if np.exp(-dE / T) >= np.random.rand():\n",
    "        # Move accepted\n",
    "        paths[t, :] = path\n",
    "        energies[t] = energy\n",
    "    else:\n",
    "        paths[t, :] = paths[t - 1, :]\n",
    "        energies[t] = energies[t - 1]"
   ]
  },
  {
   "cell_type": "code",
   "execution_count": null,
   "metadata": {},
   "outputs": [],
   "source": [
    "# Let's print out all final paths that achieve\n",
    "# the minimum energy (there likely is just one)\n",
    "min_energy = np.min(energies)\n",
    "\n",
    "best_paths = (np.unique(paths[np.where(energies == min_energy), :], axis=1))[0]"
   ]
  },
  {
   "cell_type": "code",
   "execution_count": null,
   "metadata": {},
   "outputs": [],
   "source": [
    "print(\"All best paths: %s\" % best_paths)"
   ]
  },
  {
   "cell_type": "markdown",
   "metadata": {},
   "source": [
    "We see there's just one optimal path picked up by the simulation."
   ]
  },
  {
   "cell_type": "markdown",
   "metadata": {},
   "source": [
    "Now we'll try the same thing with the larger dataset."
   ]
  },
  {
   "cell_type": "code",
   "execution_count": null,
   "metadata": {},
   "outputs": [],
   "source": [
    "cities_data = cities_pos_large"
   ]
  },
  {
   "cell_type": "code",
   "execution_count": null,
   "metadata": {},
   "outputs": [],
   "source": [
    "# Number of cities\n",
    "N = len(cities_data)\n",
    "\n",
    "# Precompute the distances between cities\n",
    "distances = np.zeros((N, N))\n",
    "\n",
    "for i, j in itertools.combinations(range(N), 2):\n",
    "    dist = np.linalg.norm(cities_data[i, :] - cities_data[j, :])\n",
    "\n",
    "    distances[i, j] = dist\n",
    "    distances[j, i] = dist\n",
    "\n",
    "# Initial and final temperature\n",
    "T_init = 1.5\n",
    "T_end = 0.001\n",
    "\n",
    "# Decay constant\n",
    "tau = 200\n",
    "\n",
    "# The energy function to minimize\n",
    "def energy_fn(path: np.ndarray) -> float:\n",
    "    total = 0\n",
    "\n",
    "    for i in range(1, N):\n",
    "        total += distances[path[i], path[i - 1]]\n",
    "\n",
    "    total += distances[path[0], path[N - 1]]\n",
    "\n",
    "    return total"
   ]
  },
  {
   "cell_type": "code",
   "execution_count": null,
   "metadata": {},
   "outputs": [],
   "source": [
    "# Randomly pick initial path\n",
    "init_path = np.concatenate([[0], np.random.permutation(range(1, N)), [0]])\n",
    "\n",
    "# Calculate how many iterations given initial and final\n",
    "# temperatures\n",
    "num_iterations = int(np.ceil(tau * np.log(T_init / T_end))) + 1\n",
    "\n",
    "# Set up temperatures to iterate over\n",
    "temps = T_init * np.exp(-np.arange(num_iterations) / tau)\n",
    "\n",
    "# Now set up arrays for our data\n",
    "paths = np.zeros((num_iterations, N + 1), dtype=int)\n",
    "energies = np.zeros(num_iterations)\n",
    "\n",
    "paths[0, :] = init_path\n",
    "energies[0] = energy_fn(init_path)\n",
    "\n",
    "# Now run the simulation\n",
    "for t, T in enumerate(temps[1:], 1):\n",
    "    path = np.copy(paths[t - 1, :])\n",
    "\n",
    "    # Randomly interchange one of the cities\n",
    "    city_1 = np.random.randint(1, N)\n",
    "    city_2 = np.random.randint(1, N)\n",
    "\n",
    "    while city_2 == city_1:\n",
    "        city_2 = np.random.randint(1, N)\n",
    "\n",
    "    path[city_1] = city_2\n",
    "    path[city_2] = city_1\n",
    "\n",
    "    # Compute the energy\n",
    "    energy = energy_fn(path)\n",
    "\n",
    "    # Decide whether to accept this change\n",
    "    dE = energy - energies[t - 1]\n",
    "\n",
    "    if np.exp(-dE / T) >= np.random.rand():\n",
    "        # Move accepted\n",
    "        paths[t, :] = path\n",
    "        energies[t] = energy\n",
    "    else:\n",
    "        paths[t, :] = paths[t - 1, :]\n",
    "        energies[t] = energies[t - 1]"
   ]
  },
  {
   "cell_type": "code",
   "execution_count": null,
   "metadata": {},
   "outputs": [],
   "source": [
    "# Let's print out all final paths that achieve\n",
    "# the minimum energy (there likely is just one)\n",
    "min_energy = np.min(energies)\n",
    "\n",
    "best_paths = (np.unique(paths[np.where(energies == min_energy), :], axis=1))[0]"
   ]
  },
  {
   "cell_type": "code",
   "execution_count": null,
   "metadata": {},
   "outputs": [],
   "source": [
    "print(\"All best paths: %s\" % best_paths)"
   ]
  },
  {
   "cell_type": "markdown",
   "metadata": {},
   "source": [
    "Again, the simulation picked up exactly one optimal path."
   ]
  }
 ],
 "metadata": {
  "kernelspec": {
   "display_name": "Python 3",
   "language": "python",
   "name": "python3"
  },
  "language_info": {
   "codemirror_mode": {
    "name": "ipython",
    "version": 3
   },
   "file_extension": ".py",
   "mimetype": "text/x-python",
   "name": "python",
   "nbconvert_exporter": "python",
   "pygments_lexer": "ipython3",
   "version": "3.6.9"
  }
 },
 "nbformat": 4,
 "nbformat_minor": 2
}
