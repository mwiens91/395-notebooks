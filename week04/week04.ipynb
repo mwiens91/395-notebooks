{
 "cells": [
  {
   "cell_type": "code",
   "execution_count": null,
   "metadata": {},
   "outputs": [],
   "source": [
    "%matplotlib inline"
   ]
  },
  {
   "cell_type": "code",
   "execution_count": null,
   "metadata": {
    "scrolled": true
   },
   "outputs": [],
   "source": [
    "from typing import Callable\n",
    "import matplotlib.pyplot as plt\n",
    "import numpy as np\n",
    "import pandas as pd\n",
    "from scipy import optimize"
   ]
  },
  {
   "cell_type": "markdown",
   "metadata": {},
   "source": [
    "# PHYS 395 - week 4\n",
    "\n",
    "**Matt Wiens - #301294492**\n",
    "\n",
    "This notebook will be organized similarly to the lab script, with major headings corresponding to the headings on the lab script.\n",
    "\n",
    "*The TA's name (Ignacio) will be shortened to \"IC\" whenever used.*"
   ]
  },
  {
   "cell_type": "markdown",
   "metadata": {},
   "source": [
    "## Setup"
   ]
  },
  {
   "cell_type": "code",
   "execution_count": null,
   "metadata": {
    "scrolled": true
   },
   "outputs": [],
   "source": [
    "# Set default plot size\n",
    "plt.rcParams[\"figure.figsize\"] = (10, 7)"
   ]
  },
  {
   "cell_type": "code",
   "execution_count": null,
   "metadata": {},
   "outputs": [],
   "source": [
    "%%javascript\n",
    "IPython.OutputArea.auto_scroll_threshold = 9999"
   ]
  },
  {
   "cell_type": "markdown",
   "metadata": {},
   "source": [
    "# Root finding"
   ]
  },
  {
   "cell_type": "markdown",
   "metadata": {},
   "source": [
    "Before looking at examples where root finding is useful, we're going to consider a number of root finding methods."
   ]
  },
  {
   "cell_type": "markdown",
   "metadata": {},
   "source": [
    "## Bisection method"
   ]
  },
  {
   "cell_type": "markdown",
   "metadata": {},
   "source": [
    "Here we will use the bisection method to find a root of $f(x) = \\sin(\\cosh(2 x))$ on the interval $[0, 1]$."
   ]
  },
  {
   "cell_type": "markdown",
   "metadata": {},
   "source": [
    "Let's first look at $f$ on the interval."
   ]
  },
  {
   "cell_type": "code",
   "execution_count": null,
   "metadata": {},
   "outputs": [],
   "source": [
    "# Set up figure\n",
    "_, ax = plt.subplots()\n",
    "\n",
    "# Plot function\n",
    "xs = np.linspace(0, 1, 500)\n",
    "\n",
    "plt.plot(xs, np.sin(np.cosh(2 * xs)))\n",
    "plt.grid(alpha=0.4)\n",
    "\n",
    "ax.set_xlabel(\"x\");"
   ]
  },
  {
   "cell_type": "markdown",
   "metadata": {},
   "source": [
    "It looks like $f$ has one root on this interval at $x \\approx 0.9$."
   ]
  },
  {
   "cell_type": "markdown",
   "metadata": {},
   "source": [
    "Let's code our own version of the bisection algorithm."
   ]
  },
  {
   "cell_type": "code",
   "execution_count": null,
   "metadata": {},
   "outputs": [],
   "source": [
    "def bisection_method(\n",
    "    start: float, end: float, f: Callable[[float], float], tol: float = 1e-14\n",
    ") -> float:\n",
    "    \"\"\"Find a root of an interval using the bisection method.\n",
    "    \n",
    "    Note that this can be made a bit more efficient, but there's\n",
    "    no real need since there's already an existing SciPy method\n",
    "    that implements this more efficiently.\n",
    "    \"\"\"\n",
    "    # Evaluate endpoints\n",
    "    f_start = f(start)\n",
    "    f_end = f(end)\n",
    "\n",
    "    # Check if either of the endpoints are zeros\n",
    "    if f_start == 0:\n",
    "        return start\n",
    "\n",
    "    if f_end == 0:\n",
    "        return end\n",
    "\n",
    "    # If difference of endpoints is within tolerance,\n",
    "    # return the start val\n",
    "    if end - start < tol:\n",
    "        return start\n",
    "\n",
    "    # Get middle point and evaluate it\n",
    "    middle = (start + end) / 2\n",
    "    f_middle = f(middle)\n",
    "\n",
    "    # Check if the middle is zero\n",
    "    if f_middle == 0:\n",
    "        return middle\n",
    "\n",
    "    # Now bisect\n",
    "    if f_start * f_middle < 0:\n",
    "        return bisection_method(start, middle, f, tol)\n",
    "\n",
    "    return bisection_method(middle, end, f, tol)"
   ]
  },
  {
   "cell_type": "markdown",
   "metadata": {},
   "source": [
    "Let's try using the above function to find the root of $f$."
   ]
  },
  {
   "cell_type": "code",
   "execution_count": null,
   "metadata": {},
   "outputs": [],
   "source": [
    "x = bisection_method(0, 1, lambda x: np.sin(np.cosh(2 * x)))\n",
    "\n",
    "print(\"x = %.10f\" % x)"
   ]
  },
  {
   "cell_type": "markdown",
   "metadata": {},
   "source": [
    "This is consistent with our guess. Now let's try finding the root using SciPy's version of the bisection algorithm."
   ]
  },
  {
   "cell_type": "code",
   "execution_count": null,
   "metadata": {},
   "outputs": [],
   "source": [
    "_, r = optimize.bisect(a=0, b=1, f=lambda x: np.sin(np.cosh(2 * x)), full_output=True)\n",
    "\n",
    "print(r)"
   ]
  },
  {
   "cell_type": "markdown",
   "metadata": {},
   "source": [
    "## Newton-Raphson method"
   ]
  },
  {
   "cell_type": "markdown",
   "metadata": {},
   "source": [
    "For the Newton-Raphson (NR) method, instead of passing in a range in which to find a root, we pass in an initial guess. Going back to the plot of $f$ above, anything near $x = 0.5$ would be a bad initial guess, where the derivative of $f$ is either small or zero."
   ]
  },
  {
   "cell_type": "markdown",
   "metadata": {},
   "source": [
    "We also need to pass in the derivative to the NR method. Using the chain rule, we have\n",
    "\n",
    "\\begin{equation}\n",
    "    \\frac{df}{dx} = 2 \\sinh (2 x) \\cos( \\cosh(2 x))\n",
    "    .\n",
    "\\end{equation}"
   ]
  },
  {
   "cell_type": "markdown",
   "metadata": {},
   "source": [
    "Let's use the NR method to find the root of $f$, giving it our initial guess of $x = 0.9$."
   ]
  },
  {
   "cell_type": "code",
   "execution_count": null,
   "metadata": {},
   "outputs": [],
   "source": [
    "_, r = optimize.newton(\n",
    "    func=lambda x: np.sin(np.cosh(2 * x)),\n",
    "    fprime=lambda x: 2 * np.sinh(2 * x) * np.cos(np.cosh(2 * x)),\n",
    "    x0=0.9,\n",
    "    full_output=True,\n",
    ")\n",
    "\n",
    "print(r)"
   ]
  },
  {
   "cell_type": "markdown",
   "metadata": {},
   "source": [
    "As we can see by the number of iterations taken, NH is much faster than bisection! "
   ]
  },
  {
   "cell_type": "markdown",
   "metadata": {},
   "source": [
    "## Secant method"
   ]
  },
  {
   "cell_type": "markdown",
   "metadata": {},
   "source": [
    "For the secant method, we essentially perform the NR method, but instead of explicitly using the derivative, we use a linear approximation of it. Let's see how well it performs."
   ]
  },
  {
   "cell_type": "code",
   "execution_count": null,
   "metadata": {},
   "outputs": [],
   "source": [
    "_, r = optimize.newton(func=lambda x: np.sin(np.cosh(2 * x)), x0=0.9, full_output=True,)\n",
    "\n",
    "print(r)"
   ]
  },
  {
   "cell_type": "markdown",
   "metadata": {},
   "source": [
    "For our function, it only required one more iteration, but also used one fewer function call."
   ]
  },
  {
   "cell_type": "markdown",
   "metadata": {},
   "source": [
    "## Brent's method"
   ]
  },
  {
   "cell_type": "markdown",
   "metadata": {},
   "source": [
    "Now we'll try using Brent's method."
   ]
  },
  {
   "cell_type": "code",
   "execution_count": null,
   "metadata": {},
   "outputs": [],
   "source": [
    "_, r = optimize.brentq(a=0, b=1, f=lambda x: np.sin(np.cosh(2 * x)), full_output=True)\n",
    "\n",
    "print(r)"
   ]
  },
  {
   "cell_type": "markdown",
   "metadata": {},
   "source": [
    "This is much faster than the bisection method, but still slower than the NR or secant method. However, this has the advantage in that we don't have to provide an initial guess."
   ]
  },
  {
   "cell_type": "markdown",
   "metadata": {},
   "source": [
    "## General purpose root finding routine"
   ]
  },
  {
   "cell_type": "markdown",
   "metadata": {},
   "source": [
    "Now we'll use SciPy's general purpose routine. We need to provide an initial guess for this, so we'll use the same one we used before."
   ]
  },
  {
   "cell_type": "code",
   "execution_count": null,
   "metadata": {},
   "outputs": [],
   "source": [
    "sol = optimize.root(fun=lambda x: np.sin(np.cosh(2 * x)), x0=0.9)\n",
    "\n",
    "print(sol)"
   ]
  },
  {
   "cell_type": "markdown",
   "metadata": {},
   "source": [
    "Unfortunately I don't know how to interpret the output of this function, so I can't write about how well it performed."
   ]
  },
  {
   "cell_type": "markdown",
   "metadata": {},
   "source": [
    "# Root finding applications"
   ]
  },
  {
   "cell_type": "markdown",
   "metadata": {},
   "source": [
    "Now we'll look at several applications of root finding."
   ]
  },
  {
   "cell_type": "markdown",
   "metadata": {},
   "source": [
    "## Lagrange points"
   ]
  },
  {
   "cell_type": "markdown",
   "metadata": {},
   "source": [
    "For the setup for this problem, see the lab script. Essentially what we need to do is find $r$ such that the following equation holds:\n",
    "\n",
    "\\begin{equation}\n",
    "    \\frac{G M}{r^2} - \\frac{G m}{(R - r)^2} = \\omega^2 r\n",
    "    ,\n",
    "\\end{equation}\n",
    "\n",
    "where $G$ is the gravitational constant; $M$ and $m$ are the masses of the Earth and Moon, respectively; $R$ is the  distance between the Earth and Moon; and $\\omega$ is the angular frequency of the satellite."
   ]
  },
  {
   "cell_type": "code",
   "execution_count": null,
   "metadata": {},
   "outputs": [],
   "source": [
    "G = 6.674e-11  # m^3 / (kg s^2)\n",
    "M = 5.974e24  # kg\n",
    "m = 7.348e22  # kg\n",
    "R = 3.844e8  # m\n",
    "omega = 2.662e-6  # 1 / s\n",
    "\n",
    "r = optimize.brentq(\n",
    "    a=1, b=R - 1, f=lambda r: G * M / r ** 2 - G * m / (R - r) ** 2 - omega ** 2 * r\n",
    ")\n",
    "\n",
    "print(\"r = %e\" % r)"
   ]
  },
  {
   "cell_type": "markdown",
   "metadata": {},
   "source": [
    "In terms of $R$, we have"
   ]
  },
  {
   "cell_type": "code",
   "execution_count": null,
   "metadata": {},
   "outputs": [],
   "source": [
    "print(\"r = %.2fR\" % (r / R))"
   ]
  },
  {
   "cell_type": "markdown",
   "metadata": {},
   "source": [
    "## Particle in a finite square well"
   ]
  }
 ],
 "metadata": {
  "kernelspec": {
   "display_name": "Python 3",
   "language": "python",
   "name": "python3"
  },
  "language_info": {
   "codemirror_mode": {
    "name": "ipython",
    "version": 3
   },
   "file_extension": ".py",
   "mimetype": "text/x-python",
   "name": "python",
   "nbconvert_exporter": "python",
   "pygments_lexer": "ipython3",
   "version": "3.8.1"
  }
 },
 "nbformat": 4,
 "nbformat_minor": 2
}
