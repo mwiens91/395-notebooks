{
 "cells": [
  {
   "cell_type": "code",
   "execution_count": null,
   "metadata": {},
   "outputs": [],
   "source": [
    "%matplotlib inline"
   ]
  },
  {
   "cell_type": "code",
   "execution_count": null,
   "metadata": {
    "scrolled": true
   },
   "outputs": [],
   "source": [
    "from typing import Callable\n",
    "import matplotlib.pyplot as plt\n",
    "import numpy as np\n",
    "import pandas as pd\n",
    "from scipy import constants\n",
    "from scipy import integrate\n",
    "from scipy import optimize"
   ]
  },
  {
   "cell_type": "markdown",
   "metadata": {},
   "source": [
    "# PHYS 395 - week 4\n",
    "\n",
    "**Matt Wiens - #301294492**\n",
    "\n",
    "This notebook will be organized similarly to the lab script, with major headings corresponding to the headings on the lab script.\n",
    "\n",
    "*The TA's name (Ignacio) will be shortened to \"IC\" whenever used.*"
   ]
  },
  {
   "cell_type": "markdown",
   "metadata": {},
   "source": [
    "## Setup"
   ]
  },
  {
   "cell_type": "code",
   "execution_count": null,
   "metadata": {
    "scrolled": true
   },
   "outputs": [],
   "source": [
    "# Set default plot size\n",
    "plt.rcParams[\"figure.figsize\"] = (10, 7)"
   ]
  },
  {
   "cell_type": "code",
   "execution_count": null,
   "metadata": {},
   "outputs": [],
   "source": [
    "%%javascript\n",
    "IPython.OutputArea.auto_scroll_threshold = 9999"
   ]
  },
  {
   "cell_type": "markdown",
   "metadata": {},
   "source": [
    "# Root finding"
   ]
  },
  {
   "cell_type": "markdown",
   "metadata": {},
   "source": [
    "Before looking at examples where root finding is useful, we're going to consider a number of root finding methods."
   ]
  },
  {
   "cell_type": "markdown",
   "metadata": {},
   "source": [
    "## Bisection method"
   ]
  },
  {
   "cell_type": "markdown",
   "metadata": {},
   "source": [
    "Here we will use the bisection method to find a root of $f(x) = \\sin(\\cosh(2 x))$ on the interval $[0, 1]$."
   ]
  },
  {
   "cell_type": "code",
   "execution_count": null,
   "metadata": {},
   "outputs": [],
   "source": [
    "func = lambda x: np.sin(np.cosh(2 * x))"
   ]
  },
  {
   "cell_type": "markdown",
   "metadata": {},
   "source": [
    "Let's first look at $f$ on the interval."
   ]
  },
  {
   "cell_type": "code",
   "execution_count": null,
   "metadata": {},
   "outputs": [],
   "source": [
    "# Set up figure\n",
    "_, ax = plt.subplots()\n",
    "\n",
    "# Plot function\n",
    "xs = np.linspace(0, 1, 500)\n",
    "\n",
    "plt.plot(xs, func(xs))\n",
    "\n",
    "plt.grid(alpha=0.4)\n",
    "\n",
    "ax.set_xlabel(r\"$x$\");"
   ]
  },
  {
   "cell_type": "markdown",
   "metadata": {},
   "source": [
    "It looks like $f$ has one root on this interval at $x \\approx 0.9$."
   ]
  },
  {
   "cell_type": "markdown",
   "metadata": {},
   "source": [
    "Let's code our own version of the bisection algorithm."
   ]
  },
  {
   "cell_type": "code",
   "execution_count": null,
   "metadata": {},
   "outputs": [],
   "source": [
    "def bisection_method(\n",
    "    start: float, end: float, f: Callable[[float], float], tol: float = 1e-14\n",
    ") -> float:\n",
    "    \"\"\"Find a root of an interval using the bisection method.\n",
    "    \n",
    "    Note that this can be made a bit more efficient, but there's\n",
    "    no real need since there's already an existing SciPy method\n",
    "    that implements this more efficiently.\n",
    "    \"\"\"\n",
    "    # Evaluate endpoints\n",
    "    f_start = f(start)\n",
    "    f_end = f(end)\n",
    "\n",
    "    # Check if either of the endpoints are zeros\n",
    "    if f_start == 0:\n",
    "        return start\n",
    "\n",
    "    if f_end == 0:\n",
    "        return end\n",
    "\n",
    "    # If difference of endpoints is within tolerance,\n",
    "    # return the start val\n",
    "    if end - start < tol:\n",
    "        return start\n",
    "\n",
    "    # Get middle point and evaluate it\n",
    "    middle = (start + end) / 2\n",
    "    f_middle = f(middle)\n",
    "\n",
    "    # Check if the middle is zero\n",
    "    if f_middle == 0:\n",
    "        return middle\n",
    "\n",
    "    # Now bisect\n",
    "    if f_start * f_middle < 0:\n",
    "        return bisection_method(start, middle, f, tol)\n",
    "\n",
    "    return bisection_method(middle, end, f, tol)"
   ]
  },
  {
   "cell_type": "markdown",
   "metadata": {},
   "source": [
    "Let's try using the above function to find the root of $f$."
   ]
  },
  {
   "cell_type": "code",
   "execution_count": null,
   "metadata": {},
   "outputs": [],
   "source": [
    "x = bisection_method(0, 1, func)\n",
    "\n",
    "print(\"x = %.10f\" % x)"
   ]
  },
  {
   "cell_type": "markdown",
   "metadata": {},
   "source": [
    "This is consistent with our guess. Now let's try finding the root using SciPy's version of the bisection algorithm."
   ]
  },
  {
   "cell_type": "code",
   "execution_count": null,
   "metadata": {},
   "outputs": [],
   "source": [
    "_, r = optimize.bisect(a=0, b=1, f=func, full_output=True)\n",
    "\n",
    "print(r)"
   ]
  },
  {
   "cell_type": "markdown",
   "metadata": {},
   "source": [
    "## Newton-Raphson method"
   ]
  },
  {
   "cell_type": "markdown",
   "metadata": {},
   "source": [
    "For the Newton-Raphson (NR) method, instead of passing in a range in which to find a root, we pass in an initial guess. Going back to the plot of $f$ above, anything near $x = 0.5$ would be a bad initial guess, where the derivative of $f$ is either small or zero."
   ]
  },
  {
   "cell_type": "markdown",
   "metadata": {},
   "source": [
    "We also need to pass in the derivative to the NR method. Using the chain rule, we have\n",
    "\n",
    "\\begin{equation}\n",
    "    \\frac{df}{dx} = 2 \\sinh (2 x) \\cos( \\cosh(2 x))\n",
    "    .\n",
    "\\end{equation}"
   ]
  },
  {
   "cell_type": "markdown",
   "metadata": {},
   "source": [
    "Let's use the NR method to find the root of $f$, giving it our initial guess of $x = 0.9$."
   ]
  },
  {
   "cell_type": "code",
   "execution_count": null,
   "metadata": {},
   "outputs": [],
   "source": [
    "_, r = optimize.newton(\n",
    "    func=func,\n",
    "    fprime=lambda x: 2 * np.sinh(2 * x) * np.cos(np.cosh(2 * x)),\n",
    "    x0=0.9,\n",
    "    full_output=True,\n",
    ")\n",
    "\n",
    "print(r)"
   ]
  },
  {
   "cell_type": "markdown",
   "metadata": {},
   "source": [
    "As we can see by the number of iterations taken, NH is much faster than bisection! "
   ]
  },
  {
   "cell_type": "markdown",
   "metadata": {},
   "source": [
    "## Secant method"
   ]
  },
  {
   "cell_type": "markdown",
   "metadata": {},
   "source": [
    "For the secant method, we essentially perform the NR method, but instead of explicitly using the derivative, we use a linear approximation of it. Let's see how well it performs."
   ]
  },
  {
   "cell_type": "code",
   "execution_count": null,
   "metadata": {},
   "outputs": [],
   "source": [
    "_, r = optimize.newton(func=func, x0=0.9, full_output=True,)\n",
    "\n",
    "print(r)"
   ]
  },
  {
   "cell_type": "markdown",
   "metadata": {},
   "source": [
    "For our function, it only required one more iteration, but also used one fewer function call."
   ]
  },
  {
   "cell_type": "markdown",
   "metadata": {},
   "source": [
    "## Brent's method"
   ]
  },
  {
   "cell_type": "markdown",
   "metadata": {},
   "source": [
    "Now we'll try using Brent's method."
   ]
  },
  {
   "cell_type": "code",
   "execution_count": null,
   "metadata": {},
   "outputs": [],
   "source": [
    "_, r = optimize.brentq(a=0, b=1, f=func, full_output=True)\n",
    "\n",
    "print(r)"
   ]
  },
  {
   "cell_type": "markdown",
   "metadata": {},
   "source": [
    "This is much faster than the bisection method, but still slower than the NR or secant method. However, this has the advantage in that we don't have to provide an initial guess."
   ]
  },
  {
   "cell_type": "markdown",
   "metadata": {},
   "source": [
    "## General purpose root finding routine"
   ]
  },
  {
   "cell_type": "markdown",
   "metadata": {},
   "source": [
    "Now we'll use SciPy's general purpose routine. We need to provide an initial guess for this, so we'll use the same one we used before."
   ]
  },
  {
   "cell_type": "code",
   "execution_count": null,
   "metadata": {},
   "outputs": [],
   "source": [
    "sol = optimize.root(fun=func, x0=0.9)\n",
    "\n",
    "print(sol)"
   ]
  },
  {
   "cell_type": "markdown",
   "metadata": {},
   "source": [
    "Unfortunately I don't know how to interpret the output of this function, so I can't write about how well it performed."
   ]
  },
  {
   "cell_type": "markdown",
   "metadata": {},
   "source": [
    "# Root finding applications"
   ]
  },
  {
   "cell_type": "markdown",
   "metadata": {},
   "source": [
    "Now we'll look at several applications of root finding."
   ]
  },
  {
   "cell_type": "markdown",
   "metadata": {},
   "source": [
    "## Lagrange points"
   ]
  },
  {
   "cell_type": "markdown",
   "metadata": {},
   "source": [
    "For the setup for this problem, see the lab script. Essentially what we need to do is find $r$ such that the following equation holds:\n",
    "\n",
    "\\begin{equation}\n",
    "    \\frac{G M}{r^2} - \\frac{G m}{(R - r)^2} = \\omega^2 r\n",
    "    ,\n",
    "\\end{equation}\n",
    "\n",
    "where $G$ is the gravitational constant; $M$ and $m$ are the masses of the Earth and Moon, respectively; $R$ is the  distance between the Earth and Moon; and $\\omega$ is the angular frequency of the satellite."
   ]
  },
  {
   "cell_type": "code",
   "execution_count": null,
   "metadata": {},
   "outputs": [],
   "source": [
    "M = 5.974e24  # kg\n",
    "m = 7.348e22  # kg\n",
    "R = 3.844e8  # m\n",
    "omega = 2.662e-6  # 1 / s\n",
    "\n",
    "r = optimize.brentq(\n",
    "    a=1,\n",
    "    b=R - 1,\n",
    "    f=lambda r: constants.G * M / r ** 2\n",
    "    - constants.G * m / (R - r) ** 2\n",
    "    - omega ** 2 * r,\n",
    ")\n",
    "\n",
    "print(\"r = %e\" % r)"
   ]
  },
  {
   "cell_type": "markdown",
   "metadata": {},
   "source": [
    "In terms of $R$, we have"
   ]
  },
  {
   "cell_type": "code",
   "execution_count": null,
   "metadata": {},
   "outputs": [],
   "source": [
    "print(\"r = %.2fR\" % (r / R))"
   ]
  },
  {
   "cell_type": "markdown",
   "metadata": {},
   "source": [
    "## Particle in a finite square well"
   ]
  },
  {
   "cell_type": "markdown",
   "metadata": {},
   "source": [
    "For a particle of mass $m$ in a finite potential well with \"walls\" of height $V$ and a length $L$, the allowed energies $E$ ($0 < E < V$) are given by\n",
    "\n",
    "\\begin{align}\n",
    "    \\tan \\left( \\sqrt{\\frac{L^2 m E}{2 \\hslash^2} } \\right)\n",
    "        &= \\sqrt{ \\frac{V - E}{E} } \\qquad \\text{(for even numbered states)}, \\\\\n",
    "    \\tan \\left( \\sqrt{\\frac{L^2 m E}{2 \\hslash^2} } \\right)\n",
    "        &= - \\sqrt{ \\frac{E}{V - E} } \\qquad \\text{(for odd numbered states)},\n",
    "\\end{align}\n",
    "\n",
    "where $\\hslash$ is the reduced Planck constant."
   ]
  },
  {
   "cell_type": "markdown",
   "metadata": {},
   "source": [
    "Let's plot the left and right hand sides of the equations."
   ]
  },
  {
   "cell_type": "code",
   "execution_count": null,
   "metadata": {},
   "outputs": [],
   "source": [
    "L = 1e-9  # m\n",
    "V = 5  # eV"
   ]
  },
  {
   "cell_type": "code",
   "execution_count": null,
   "metadata": {},
   "outputs": [],
   "source": [
    "# Define functions for the above equations first\n",
    "ev_to_joule = 1.60218e-19\n",
    "\n",
    "lhs_fun = lambda E: np.tan(\n",
    "    np.sqrt(L ** 2 * constants.m_e * E * ev_to_joule / (2 * constants.hbar ** 2))\n",
    ")\n",
    "rhs_even_fun = lambda E: np.sqrt((V - E) / E)\n",
    "rhs_odd_fun = lambda E: -np.sqrt(E / (V - E))"
   ]
  },
  {
   "cell_type": "code",
   "execution_count": null,
   "metadata": {},
   "outputs": [],
   "source": [
    "# Energy range (in eV)\n",
    "start_e_val = 0\n",
    "end_e_val = 5\n",
    "\n",
    "# Get function vals (expect errors here, it's fine)\n",
    "e_vals = np.linspace(start_e_val, end_e_val, 140)\n",
    "\n",
    "lhs_vals = lhs_fun(e_vals)\n",
    "rhs_even_vals = rhs_even_fun(e_vals)\n",
    "rhs_odd_vals = rhs_odd_fun(e_vals)"
   ]
  },
  {
   "cell_type": "markdown",
   "metadata": {},
   "source": [
    "There may be a few errors that appear from the above calculations. These are expected and can be ignored."
   ]
  },
  {
   "cell_type": "code",
   "execution_count": null,
   "metadata": {
    "scrolled": false
   },
   "outputs": [],
   "source": [
    "# Set up figure\n",
    "_, ax = plt.subplots()\n",
    "\n",
    "# Plot\n",
    "plt.scatter(e_vals, lhs_vals, c=\"teal\")\n",
    "plt.plot(e_vals, rhs_even_vals)\n",
    "plt.plot(e_vals, rhs_odd_vals);\n",
    "plt.grid(alpha=0.4)\n",
    "\n",
    "# Limits\n",
    "ax.set_ylim(-6, 6)\n",
    "\n",
    "# Labels\n",
    "ax.set_xlabel(r\"$E$ (eV)\")\n",
    "\n",
    "# Legend\n",
    "ax.legend([\"RHS (even)\", \"RHS (odd)\", \"LHS\"]);"
   ]
  },
  {
   "cell_type": "markdown",
   "metadata": {},
   "source": [
    "For even numbered states, there appear to be two solutions, while there appear to be three solutions for odd numbered states. The solutions for the even numbered case appear to be at $E \\approx 0.3, 2.5 \\text{ eV}$, and for the odd numbered states, at $E \\approx 1.1, 4.1 \\text{ eV}$. Note that $E = 0$ can not be a solution (even though it appears to be in the plot), because odd numbered states cannot have zero energy!"
   ]
  },
  {
   "cell_type": "markdown",
   "metadata": {},
   "source": [
    "### Finding the roots"
   ]
  },
  {
   "cell_type": "markdown",
   "metadata": {},
   "source": [
    "Now let's find these roots using Newton's method. We'll first find both roots in the even case."
   ]
  },
  {
   "cell_type": "code",
   "execution_count": null,
   "metadata": {},
   "outputs": [],
   "source": [
    "func = lambda E: lhs_fun(E) - rhs_even_fun(E)\n",
    "\n",
    "# Find the root near 0.3 eV\n",
    "_, r = optimize.newton(func=func, x0=0.3, full_output=True,)\n",
    "print(r, \"\\n\")\n",
    "\n",
    "# Find the root near 2.5 eV\n",
    "_, r = optimize.newton(func=func, x0=2.5, full_output=True,)\n",
    "print(r)"
   ]
  },
  {
   "cell_type": "markdown",
   "metadata": {},
   "source": [
    "Now we'll find both roots in the odd case."
   ]
  },
  {
   "cell_type": "code",
   "execution_count": null,
   "metadata": {},
   "outputs": [],
   "source": [
    "func = lambda E: lhs_fun(E) - rhs_odd_fun(E)\n",
    "\n",
    "# Find the root near 1.1 eV\n",
    "_, r = optimize.newton(func=func, x0=1.1, full_output=True,)\n",
    "print(r, \"\\n\")\n",
    "\n",
    "# Find the root near 4.1 eV\n",
    "_, r = optimize.newton(func=func, x0=4.1, full_output=True,)\n",
    "print(r)"
   ]
  },
  {
   "cell_type": "markdown",
   "metadata": {},
   "source": [
    "# Extremization"
   ]
  },
  {
   "cell_type": "markdown",
   "metadata": {},
   "source": [
    "Here we'll use a few different minimization methods to find the global minimum of the polynomial $f(x) = 2.1 x^2 - 3.4 x + 2.6$."
   ]
  },
  {
   "cell_type": "code",
   "execution_count": null,
   "metadata": {},
   "outputs": [],
   "source": [
    "func = lambda x: 2.1 * x ** 2 - 3.4 * x + 2.6"
   ]
  },
  {
   "cell_type": "markdown",
   "metadata": {},
   "source": [
    "Before finding the minimum of $f$, let's plot it on an interval where it achieves its minimum."
   ]
  },
  {
   "cell_type": "code",
   "execution_count": null,
   "metadata": {},
   "outputs": [],
   "source": [
    "# Set up figure\n",
    "_, ax = plt.subplots()\n",
    "\n",
    "# Plot function\n",
    "xs = np.linspace(-4, 4, 500)\n",
    "\n",
    "plt.plot(xs, func(xs))\n",
    "\n",
    "plt.grid(alpha=0.4)\n",
    "\n",
    "ax.set_xlabel(r\"$x$\");"
   ]
  },
  {
   "cell_type": "markdown",
   "metadata": {},
   "source": [
    "## Brent method"
   ]
  },
  {
   "cell_type": "markdown",
   "metadata": {},
   "source": [
    "First we'll use the \"Brent\" method."
   ]
  },
  {
   "cell_type": "code",
   "execution_count": null,
   "metadata": {},
   "outputs": [],
   "source": [
    "res = optimize.minimize_scalar(fun=func, method=\"Brent\")\n",
    "\n",
    "print(res)"
   ]
  },
  {
   "cell_type": "markdown",
   "metadata": {},
   "source": [
    "## Golden search method"
   ]
  },
  {
   "cell_type": "markdown",
   "metadata": {},
   "source": [
    "Next we'll use the \"golden search\" method."
   ]
  },
  {
   "cell_type": "code",
   "execution_count": null,
   "metadata": {},
   "outputs": [],
   "source": [
    "res = optimize.minimize_scalar(fun=func, method=\"Golden\")\n",
    "\n",
    "print(res)"
   ]
  },
  {
   "cell_type": "markdown",
   "metadata": {},
   "source": [
    "We can see here that the Brent method uses far less iterations and function evaluations than the golden search method."
   ]
  },
  {
   "cell_type": "markdown",
   "metadata": {},
   "source": [
    "## SciPy's minimize"
   ]
  },
  {
   "cell_type": "markdown",
   "metadata": {},
   "source": [
    "Next we'll use SciPy's `minimize` function. This function requires us to pass in an initial guess; looking at the above plot $x = 1$ seems like a reasonable guess."
   ]
  },
  {
   "cell_type": "code",
   "execution_count": null,
   "metadata": {},
   "outputs": [],
   "source": [
    "res = optimize.minimize(fun=func, x0=1)\n",
    "\n",
    "print(res)"
   ]
  },
  {
   "cell_type": "markdown",
   "metadata": {},
   "source": [
    "This only took one iteration!"
   ]
  },
  {
   "cell_type": "markdown",
   "metadata": {},
   "source": [
    "# Extremization applications"
   ]
  },
  {
   "cell_type": "markdown",
   "metadata": {},
   "source": [
    "## Landau free energy of phase transitions"
   ]
  },
  {
   "cell_type": "markdown",
   "metadata": {},
   "source": [
    "The description of this problem is long and somewhat complicated, so see the lab script for full details. The sort version is that we're going to be considering the Landau free energy for a ferromagnet in terms of its bulk magnetization (order parameter), $M$. The free energy $F$ is given by\n",
    "\n",
    "\\begin{equation}\n",
    "    F(M) = a M^2 + b M^4 + H M\n",
    "    ,\n",
    "\\end{equation}\n",
    "\n",
    "where $b$ is a positive constant; $H$ is the external magnetic field; and $a = a_0 (T - T_c)$, where $T$ is the temperature, $T_c$ is the critical temperature, and $a_0$ is another constant."
   ]
  },
  {
   "cell_type": "markdown",
   "metadata": {},
   "source": [
    "First we'll rescale the free energy $F$ to a scaled form $\\tilde{f}$ which will be in terms of $t = \\frac{T}{T_c}$, $\\tilde{b} = \\frac{b}{a_0 T_c}$, and $\\tilde{h} = \\frac{H}{a_0 T_C}$:\n",
    "\n",
    "\\begin{align}\n",
    "    &F(M) = a M^2 + b M^4 + H M \\\\\n",
    "    &\\iff F(M) = a_0 (T - T_c) M^2 + b M^4 + H M \\\\\n",
    "    &\\iff \\tilde{f}(M) = (t - 1) M^2 + \\tilde{b} M^4 + \\tilde{h} M\n",
    "    .\n",
    "\\end{align}"
   ]
  },
  {
   "cell_type": "markdown",
   "metadata": {},
   "source": [
    "Let's plot $\\tilde{f}$, at $t = 0.4, 0.8. 1.0, 1.4$, with $\\tilde{b} = 0.07, \\tilde{h} = 0$."
   ]
  },
  {
   "cell_type": "code",
   "execution_count": null,
   "metadata": {},
   "outputs": [],
   "source": [
    "ts = [0.4, 0.8, 1.0, 1.4]\n",
    "b = 0.07\n",
    "h = 0\n",
    "\n",
    "f_tilde = lambda m, b, h, t: (t - 1) * m ** 2 + b * m ** 4 + h * m"
   ]
  },
  {
   "cell_type": "code",
   "execution_count": null,
   "metadata": {},
   "outputs": [],
   "source": [
    "# Generate data to plot\n",
    "ms = np.linspace(-3, 3, 500)\n",
    "\n",
    "data = np.zeros((len(ts), len(ms)))\n",
    "\n",
    "for idx, t in enumerate(ts):\n",
    "    data[idx] = f_tilde(ms, b, h, t)"
   ]
  },
  {
   "cell_type": "code",
   "execution_count": null,
   "metadata": {},
   "outputs": [],
   "source": [
    "# Set up figure\n",
    "_, ax = plt.subplots()\n",
    "\n",
    "# Plot data\n",
    "for row in range(len(ts)):\n",
    "    plt.plot(ms, data[row])\n",
    "    \n",
    "plt.grid(alpha=0.4)\n",
    "\n",
    "# Labels\n",
    "ax.set_xlabel(r\"$M$\")\n",
    "ax.set_ylabel(r\"$\\tilde{f}$\")\n",
    "\n",
    "# Legend\n",
    "ax.legend([\"$t$ = %.1f\" % t for t in ts]);"
   ]
  },
  {
   "cell_type": "markdown",
   "metadata": {},
   "source": [
    "For $T \\geq T_c$ we have one zero of $\\tilde{f}$ at $M = 0$ and the function stays non-negative. However for $T < T_c$ there are three zeros and the function also takes on negative values."
   ]
  },
  {
   "cell_type": "markdown",
   "metadata": {},
   "source": [
    "### Finding the equilibrium magnetizations"
   ]
  },
  {
   "cell_type": "markdown",
   "metadata": {},
   "source": [
    "Now we'll plot the equilibrium magnetizations, still using $\\tilde{b} = 0.07$ and $\\tilde{h} = 0$."
   ]
  },
  {
   "cell_type": "code",
   "execution_count": null,
   "metadata": {},
   "outputs": [],
   "source": [
    "b = 0.07\n",
    "h = 0\n",
    "ts = np.arange(0.1, 1.5, 0.1)\n",
    "\n",
    "equilibrium_ms = np.array(\n",
    "    [\n",
    "        optimize.minimize_scalar(fun=lambda m: f_tilde(m, b, h, t), bracket=(-10, 10)).x\n",
    "        for t in ts\n",
    "    ]\n",
    ")"
   ]
  },
  {
   "cell_type": "code",
   "execution_count": null,
   "metadata": {},
   "outputs": [],
   "source": [
    "# Set up figure\n",
    "_, ax = plt.subplots()\n",
    "\n",
    "# Plot data\n",
    "plt.plot(ts, equilibrium_ms, '*-')\n",
    "    \n",
    "plt.grid(alpha=0.4)\n",
    "\n",
    "# Labels\n",
    "ax.set_xlabel(r\"$\\tilde{t}$\")\n",
    "ax.set_ylabel(r\"equilibrium $M$\");"
   ]
  },
  {
   "cell_type": "markdown",
   "metadata": {},
   "source": [
    "$M$ is discontinuous in its derivative, so it does *not* satisfy the conditions of a second order phase transition in this model."
   ]
  },
  {
   "cell_type": "markdown",
   "metadata": {},
   "source": [
    "### Adding a magnetic field"
   ]
  },
  {
   "cell_type": "markdown",
   "metadata": {},
   "source": [
    "Now let's plot $\\tilde{f}$ at $t = 0.6$, $\\tilde{b} = 0.07$, and $\\tilde{h} = -1.0, 0.0, 1.0$."
   ]
  },
  {
   "cell_type": "code",
   "execution_count": null,
   "metadata": {},
   "outputs": [],
   "source": [
    "t = 0.6\n",
    "b = 0.07\n",
    "hs = [-1.0, 0.0, 1.0]"
   ]
  },
  {
   "cell_type": "code",
   "execution_count": null,
   "metadata": {},
   "outputs": [],
   "source": [
    "# Generate data to plot\n",
    "ms = np.linspace(-3, 3, 500)\n",
    "\n",
    "data = np.zeros((len(hs), len(ms)))\n",
    "\n",
    "for idx, h in enumerate(hs):\n",
    "    data[idx] = f_tilde(ms, b, h, t)"
   ]
  },
  {
   "cell_type": "code",
   "execution_count": null,
   "metadata": {},
   "outputs": [],
   "source": [
    "# Set up figure\n",
    "_, ax = plt.subplots()\n",
    "\n",
    "# Plot data\n",
    "for row in range(len(hs)):\n",
    "    plt.plot(ms, data[row])\n",
    "    \n",
    "plt.grid(alpha=0.4)\n",
    "\n",
    "# Labels\n",
    "ax.set_xlabel(r\"$M$\")\n",
    "ax.set_ylabel(r\"$\\tilde{f}$\")\n",
    "\n",
    "# Legend\n",
    "ax.legend([r\"$\\tilde{h}$ = %.1f\" % h for h in hs]);"
   ]
  },
  {
   "cell_type": "markdown",
   "metadata": {},
   "source": [
    "Now the shape of $\\tilde{f}$ has changed to be \"weighted down\" on either the left or right side (depending on the sign of $\\tilde{h}$). If we drove the system from $\\tilde{h} = -1$ to $1$ and back again, it would appear that the equilibrium magnetization would be positive in the \"right\" well. However, for a certain periods of time during this process, even though one well may be more favourable energetically at the time, the system will be \"stuck\" in a less favourable well due to hysteresis."
   ]
  },
  {
   "cell_type": "markdown",
   "metadata": {},
   "source": [
    "### Finding the equilibrium magnetizations (again)"
   ]
  },
  {
   "cell_type": "markdown",
   "metadata": {},
   "source": [
    "#### Forward sweep"
   ]
  },
  {
   "cell_type": "markdown",
   "metadata": {},
   "source": [
    "Now we'll drive the system from $\\tilde{h} = 1.0$ to $-1.0$, taking the starting magnetization as $M_0 = -1.0$."
   ]
  },
  {
   "cell_type": "code",
   "execution_count": null,
   "metadata": {},
   "outputs": [],
   "source": [
    "# Set up params\n",
    "t = 0.6\n",
    "b = 0.07\n",
    "hs_forward = np.flip(np.arange(-1.0, 1.1, 0.1))\n",
    "m_0_forward = -1.0"
   ]
  },
  {
   "cell_type": "code",
   "execution_count": null,
   "metadata": {},
   "outputs": [],
   "source": [
    "# Run the sweep\n",
    "equilibrium_ms_forward = np.zeros(len(hs_forward))\n",
    "equilibrium_ms_forward[0] = m_0_forward\n",
    "\n",
    "for idx, h in enumerate(hs_forward[1:], 1):\n",
    "    equilibrium_ms_forward[idx] = optimize.minimize(\n",
    "        fun=lambda m: f_tilde(m, b, h, t), x0=equilibrium_ms_forward[idx - 1]\n",
    "    ).x"
   ]
  },
  {
   "cell_type": "code",
   "execution_count": null,
   "metadata": {},
   "outputs": [],
   "source": [
    "# Set up figure\n",
    "_, ax = plt.subplots()\n",
    "\n",
    "# Plot data\n",
    "plt.plot(hs_forward, equilibrium_ms_forward, '*-')\n",
    "    \n",
    "plt.grid(alpha=0.4)\n",
    "\n",
    "# Labels\n",
    "ax.set_xlabel(r\"$\\tilde{h}$\")\n",
    "ax.set_ylabel(r\"equilibrium $M$\");"
   ]
  },
  {
   "cell_type": "markdown",
   "metadata": {},
   "source": [
    "#### Backward sweep"
   ]
  },
  {
   "cell_type": "markdown",
   "metadata": {},
   "source": [
    "Now we'll drive the system back from $\\tilde{h} = -1.0$ to $1.0$, taking the starting magnetization as the last magnetization value we had in the last problem."
   ]
  },
  {
   "cell_type": "code",
   "execution_count": null,
   "metadata": {},
   "outputs": [],
   "source": [
    "# Set up params\n",
    "t = 0.6\n",
    "b = 0.07\n",
    "hs_backward = np.flip(hs_forward)\n",
    "m_0_backward = equilibrium_ms_forward[-1]"
   ]
  },
  {
   "cell_type": "code",
   "execution_count": null,
   "metadata": {},
   "outputs": [],
   "source": [
    "# Run the sweep\n",
    "equilibrium_ms_backward = np.zeros(len(hs_backward))\n",
    "equilibrium_ms_backward[0] = m_0_backward\n",
    "\n",
    "for idx, h in enumerate(hs_backward[1:], 1):\n",
    "    equilibrium_ms_backward[idx] = optimize.minimize(\n",
    "        fun=lambda m: f_tilde(m, b, h, t), x0=equilibrium_ms_backward[idx - 1]\n",
    "    ).x"
   ]
  },
  {
   "cell_type": "code",
   "execution_count": null,
   "metadata": {},
   "outputs": [],
   "source": [
    "# Set up figure\n",
    "_, ax = plt.subplots()\n",
    "\n",
    "# Plot data\n",
    "plt.plot(hs_backward, equilibrium_ms_backward, \"*-\")\n",
    "\n",
    "plt.grid(alpha=0.4)\n",
    "\n",
    "# Labels\n",
    "ax.set_xlabel(r\"$\\tilde{h}$\")\n",
    "ax.set_ylabel(r\"equilibrium $M$\");"
   ]
  },
  {
   "cell_type": "markdown",
   "metadata": {},
   "source": [
    "#### Discussion"
   ]
  },
  {
   "cell_type": "markdown",
   "metadata": {},
   "source": [
    "We can clearly see the effects of hysteresis here. As was described above, during both the forward and backward sweep the system spent time in less energetically favourable states because of the states it was previously in. The system is clearly not \"time-reversible\"."
   ]
  },
  {
   "cell_type": "markdown",
   "metadata": {},
   "source": [
    "## Ode to incandescent light"
   ]
  },
  {
   "cell_type": "markdown",
   "metadata": {},
   "source": [
    "The description for this problem is also long, so again see the lab script for the full details."
   ]
  },
  {
   "cell_type": "markdown",
   "metadata": {},
   "source": [
    "The power radiated $I$ by an object at temperature $T$ and wavelength $\\lambda$ is given by Plank's law:\n",
    "\n",
    "\\begin{equation}\n",
    "    I(\\lambda, T) = 2 \\pi A h c^2 \\frac{\\lambda^5}{\\exp \\left( \\frac{hc}{\\lambda k_B T} \\right) - 1}\n",
    "    ,\n",
    "\\end{equation}\n",
    "\n",
    "where $A$ is the area of the object, $h$ is Plank's constant, $c$ is the speed of light, and $k_B$ is Boltzmann's constant. Note that visible light corresponds to wavelengths between $\\lambda_1 = 390 \\text{ nm}$ and $\\lambda_2 = 750 \\text{ nm}$. Thus the total power radiated across the spectrum at temperature $T$ is given by\n",
    "\n",
    "\\begin{equation}\n",
    "    \\int_{\\lambda_1}^{\\lambda_2} I(\\lambda, T) d \\lambda\n",
    "    ,\n",
    "\\end{equation}\n",
    "\n",
    "while the total power radiated is given by\n",
    "\n",
    "\\begin{equation}\n",
    "    \\int_{0}^{\\infty} I(\\lambda, T) d \\lambda\n",
    "    .\n",
    "\\end{equation}\n",
    "\n",
    "Dividing the first integral by the second, we can determine the efficiency of visible light emitted $\\eta(T)$. It turns out that we can express $\\eta$ by\n",
    "\n",
    "\\begin{equation}\n",
    "    \\eta(T) = \\frac{15}{\\pi^4} \\int_{\\frac{hc}{\\lambda_2 k_B T}}^{\\frac{hc}{\\lambda_1 k_B T}}\n",
    "        \\frac{x^3}{e^x - 1}\n",
    "        d x\n",
    "    .\n",
    "\\end{equation}"
   ]
  },
  {
   "cell_type": "markdown",
   "metadata": {},
   "source": [
    "First, let's write a function that calculates $\\eta(T)$."
   ]
  },
  {
   "cell_type": "code",
   "execution_count": null,
   "metadata": {},
   "outputs": [],
   "source": [
    "def efficiency_of_light(T: float) -> float:\n",
    "    \"\"\"Calculate \\eta(T).\"\"\"\n",
    "    # Endpoints of visible light\n",
    "    lambda_1 = 390e-9  # m\n",
    "    lambda_2 = 750e-9  # m\n",
    "\n",
    "    return (\n",
    "        15\n",
    "        / np.pi ** 4\n",
    "        * integrate.quad(\n",
    "            func=lambda x: x ** 3 / (np.exp(x) - 1),\n",
    "            a=constants.h * constants.c / (lambda_2 * constants.k * T),\n",
    "            b=constants.h * constants.c / (lambda_1 * constants.k * T),\n",
    "        )[0]\n",
    "    )"
   ]
  },
  {
   "cell_type": "markdown",
   "metadata": {},
   "source": [
    "Now let's plot the function for $\\eta$ we just wrote."
   ]
  },
  {
   "cell_type": "code",
   "execution_count": null,
   "metadata": {},
   "outputs": [],
   "source": [
    "# Set up figure\n",
    "_, ax = plt.subplots()\n",
    "\n",
    "# Plot function\n",
    "ts = np.linspace(300, 10 ** 4)\n",
    "\n",
    "plt.plot(ts, [efficiency_of_light(t) for t in ts])\n",
    "\n",
    "plt.grid(alpha=0.4)\n",
    "\n",
    "plt.xscale(\"log\")\n",
    "\n",
    "ax.set_xlabel(r\"$T$ (K)\")\n",
    "ax.set_ylabel(r\"$\\eta$\");"
   ]
  },
  {
   "cell_type": "markdown",
   "metadata": {},
   "source": [
    "It appears there is maximum efficiency at $T \\approx 6500 \\text{ K}$."
   ]
  },
  {
   "cell_type": "markdown",
   "metadata": {},
   "source": [
    "Let's find out what the temperature that leads to maximum efficiency precisely is (as well as what this maximum efficiency is)."
   ]
  },
  {
   "cell_type": "code",
   "execution_count": null,
   "metadata": {},
   "outputs": [],
   "source": [
    "res = optimize.minimize(fun=lambda x: -efficiency_of_light(x), x0=6.5e3)\n",
    "\n",
    "print(res)"
   ]
  },
  {
   "cell_type": "markdown",
   "metadata": {},
   "source": [
    "Here we see that maximum efficiency occurs at around 6767 K, with an efficiency of about 45%."
   ]
  },
  {
   "cell_type": "markdown",
   "metadata": {},
   "source": [
    "Now, incandescent lightbulbs use tungsten as a filament. The melting temperature of tungsten is around 3695 K. This means that we cannot achieve the theoretical maximum efficiency we determined above."
   ]
  },
  {
   "cell_type": "markdown",
   "metadata": {},
   "source": [
    "Let's determine the efficiency at the melting point of tungsten."
   ]
  },
  {
   "cell_type": "code",
   "execution_count": null,
   "metadata": {},
   "outputs": [],
   "source": [
    "print(efficiency_of_light(3695))"
   ]
  },
  {
   "cell_type": "markdown",
   "metadata": {},
   "source": [
    "Hence we can expect at most around 21% efficiency from a tungsten lightbulb."
   ]
  }
 ],
 "metadata": {
  "kernelspec": {
   "display_name": "Python 3",
   "language": "python",
   "name": "python3"
  },
  "language_info": {
   "codemirror_mode": {
    "name": "ipython",
    "version": 3
   },
   "file_extension": ".py",
   "mimetype": "text/x-python",
   "name": "python",
   "nbconvert_exporter": "python",
   "pygments_lexer": "ipython3",
   "version": "3.8.1"
  }
 },
 "nbformat": 4,
 "nbformat_minor": 2
}
