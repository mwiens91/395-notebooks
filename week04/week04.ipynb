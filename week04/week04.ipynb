{
 "cells": [
  {
   "cell_type": "code",
   "execution_count": null,
   "metadata": {},
   "outputs": [],
   "source": [
    "%matplotlib inline"
   ]
  },
  {
   "cell_type": "code",
   "execution_count": null,
   "metadata": {
    "scrolled": true
   },
   "outputs": [],
   "source": [
    "from typing import Callable\n",
    "import matplotlib.pyplot as plt\n",
    "import numpy as np\n",
    "import pandas as pd\n",
    "from scipy import constants\n",
    "from scipy import integrate\n",
    "from scipy import optimize"
   ]
  },
  {
   "cell_type": "markdown",
   "metadata": {},
   "source": [
    "# PHYS 395 - week 4\n",
    "\n",
    "**Matt Wiens - #301294492**\n",
    "\n",
    "This notebook will be organized similarly to the lab script, with major headings corresponding to the headings on the lab script.\n",
    "\n",
    "*The TA's name (Ignacio) will be shortened to \"IC\" whenever used.*"
   ]
  },
  {
   "cell_type": "markdown",
   "metadata": {},
   "source": [
    "## Setup"
   ]
  },
  {
   "cell_type": "code",
   "execution_count": null,
   "metadata": {
    "scrolled": true
   },
   "outputs": [],
   "source": [
    "# Set default plot size\n",
    "plt.rcParams[\"figure.figsize\"] = (10, 7)"
   ]
  },
  {
   "cell_type": "code",
   "execution_count": null,
   "metadata": {},
   "outputs": [],
   "source": [
    "%%javascript\n",
    "IPython.OutputArea.auto_scroll_threshold = 9999"
   ]
  },
  {
   "cell_type": "markdown",
   "metadata": {},
   "source": [
    "# Root finding"
   ]
  },
  {
   "cell_type": "markdown",
   "metadata": {},
   "source": [
    "Before looking at examples where root finding is useful, we're going to consider a number of root finding methods."
   ]
  },
  {
   "cell_type": "markdown",
   "metadata": {},
   "source": [
    "## Bisection method"
   ]
  },
  {
   "cell_type": "markdown",
   "metadata": {},
   "source": [
    "Here we will use the bisection method to find a root of $f(x) = \\sin(\\cosh(2 x))$ on the interval $[0, 1]$."
   ]
  },
  {
   "cell_type": "code",
   "execution_count": null,
   "metadata": {},
   "outputs": [],
   "source": [
    "func = lambda x: np.sin(np.cosh(2 * x))"
   ]
  },
  {
   "cell_type": "markdown",
   "metadata": {},
   "source": [
    "Let's first look at $f$ on the interval."
   ]
  },
  {
   "cell_type": "code",
   "execution_count": null,
   "metadata": {},
   "outputs": [],
   "source": [
    "# Set up figure\n",
    "_, ax = plt.subplots()\n",
    "\n",
    "# Plot function\n",
    "xs = np.linspace(0, 1, 500)\n",
    "\n",
    "plt.plot(xs, func(xs))\n",
    "\n",
    "plt.grid(alpha=0.4)\n",
    "\n",
    "ax.set_xlabel(r\"$x$\");"
   ]
  },
  {
   "cell_type": "markdown",
   "metadata": {},
   "source": [
    "It looks like $f$ has one root on this interval at $x \\approx 0.9$."
   ]
  },
  {
   "cell_type": "markdown",
   "metadata": {},
   "source": [
    "Let's code our own version of the bisection algorithm."
   ]
  },
  {
   "cell_type": "code",
   "execution_count": null,
   "metadata": {},
   "outputs": [],
   "source": [
    "def bisection_method(\n",
    "    start: float, end: float, f: Callable[[float], float], tol: float = 1e-14\n",
    ") -> float:\n",
    "    \"\"\"Find a root of an interval using the bisection method.\n",
    "    \n",
    "    Note that this can be made a bit more efficient, but there's\n",
    "    no real need since there's already an existing SciPy method\n",
    "    that implements this more efficiently.\n",
    "    \"\"\"\n",
    "    # Evaluate endpoints\n",
    "    f_start = f(start)\n",
    "    f_end = f(end)\n",
    "\n",
    "    # Check if either of the endpoints are zeros\n",
    "    if f_start == 0:\n",
    "        return start\n",
    "\n",
    "    if f_end == 0:\n",
    "        return end\n",
    "\n",
    "    # If difference of endpoints is within tolerance,\n",
    "    # return the start val\n",
    "    if end - start < tol:\n",
    "        return start\n",
    "\n",
    "    # Get middle point and evaluate it\n",
    "    middle = (start + end) / 2\n",
    "    f_middle = f(middle)\n",
    "\n",
    "    # Check if the middle is zero\n",
    "    if f_middle == 0:\n",
    "        return middle\n",
    "\n",
    "    # Now bisect\n",
    "    if f_start * f_middle < 0:\n",
    "        return bisection_method(start, middle, f, tol)\n",
    "\n",
    "    return bisection_method(middle, end, f, tol)"
   ]
  },
  {
   "cell_type": "markdown",
   "metadata": {},
   "source": [
    "Let's try using the above function to find the root of $f$."
   ]
  },
  {
   "cell_type": "code",
   "execution_count": null,
   "metadata": {},
   "outputs": [],
   "source": [
    "x = bisection_method(0, 1, func)\n",
    "\n",
    "print(\"x = %.10f\" % x)"
   ]
  },
  {
   "cell_type": "markdown",
   "metadata": {},
   "source": [
    "This is consistent with our guess. Now let's try finding the root using SciPy's version of the bisection algorithm."
   ]
  },
  {
   "cell_type": "code",
   "execution_count": null,
   "metadata": {},
   "outputs": [],
   "source": [
    "_, r = optimize.bisect(a=0, b=1, f=func, full_output=True)\n",
    "\n",
    "print(r)"
   ]
  },
  {
   "cell_type": "markdown",
   "metadata": {},
   "source": [
    "## Newton-Raphson method"
   ]
  },
  {
   "cell_type": "markdown",
   "metadata": {},
   "source": [
    "For the Newton-Raphson (NR) method, instead of passing in a range in which to find a root, we pass in an initial guess. Going back to the plot of $f$ above, anything near $x = 0.5$ would be a bad initial guess, where the derivative of $f$ is either small or zero."
   ]
  },
  {
   "cell_type": "markdown",
   "metadata": {},
   "source": [
    "We also need to pass in the derivative to the NR method. Using the chain rule, we have\n",
    "\n",
    "\\begin{equation}\n",
    "    \\frac{df}{dx} = 2 \\sinh (2 x) \\cos( \\cosh(2 x))\n",
    "    .\n",
    "\\end{equation}"
   ]
  },
  {
   "cell_type": "markdown",
   "metadata": {},
   "source": [
    "Let's use the NR method to find the root of $f$, giving it our initial guess of $x = 0.9$."
   ]
  },
  {
   "cell_type": "code",
   "execution_count": null,
   "metadata": {},
   "outputs": [],
   "source": [
    "_, r = optimize.newton(\n",
    "    func=func,\n",
    "    fprime=lambda x: 2 * np.sinh(2 * x) * np.cos(np.cosh(2 * x)),\n",
    "    x0=0.9,\n",
    "    full_output=True,\n",
    ")\n",
    "\n",
    "print(r)"
   ]
  },
  {
   "cell_type": "markdown",
   "metadata": {},
   "source": [
    "As we can see by the number of iterations taken, NH is much faster than bisection! "
   ]
  },
  {
   "cell_type": "markdown",
   "metadata": {},
   "source": [
    "## Secant method"
   ]
  },
  {
   "cell_type": "markdown",
   "metadata": {},
   "source": [
    "For the secant method, we essentially perform the NR method, but instead of explicitly using the derivative, we use a linear approximation of it. Let's see how well it performs."
   ]
  },
  {
   "cell_type": "code",
   "execution_count": null,
   "metadata": {},
   "outputs": [],
   "source": [
    "_, r = optimize.newton(func=func, x0=0.9, full_output=True,)\n",
    "\n",
    "print(r)"
   ]
  },
  {
   "cell_type": "markdown",
   "metadata": {},
   "source": [
    "For our function, it only required one more iteration, but also used one fewer function call."
   ]
  },
  {
   "cell_type": "markdown",
   "metadata": {},
   "source": [
    "## Brent's method"
   ]
  },
  {
   "cell_type": "markdown",
   "metadata": {},
   "source": [
    "Now we'll try using Brent's method."
   ]
  },
  {
   "cell_type": "code",
   "execution_count": null,
   "metadata": {},
   "outputs": [],
   "source": [
    "_, r = optimize.brentq(a=0, b=1, f=func, full_output=True)\n",
    "\n",
    "print(r)"
   ]
  },
  {
   "cell_type": "markdown",
   "metadata": {},
   "source": [
    "This is much faster than the bisection method, but still slower than the NR or secant method. However, this has the advantage in that we don't have to provide an initial guess."
   ]
  },
  {
   "cell_type": "markdown",
   "metadata": {},
   "source": [
    "## General purpose root finding routine"
   ]
  },
  {
   "cell_type": "markdown",
   "metadata": {},
   "source": [
    "Now we'll use SciPy's general purpose routine. We need to provide an initial guess for this, so we'll use the same one we used before."
   ]
  },
  {
   "cell_type": "code",
   "execution_count": null,
   "metadata": {},
   "outputs": [],
   "source": [
    "sol = optimize.root(fun=func, x0=0.9)\n",
    "\n",
    "print(sol)"
   ]
  },
  {
   "cell_type": "markdown",
   "metadata": {},
   "source": [
    "Unfortunately I don't know how to interpret the output of this function, so I can't write about how well it performed."
   ]
  },
  {
   "cell_type": "markdown",
   "metadata": {},
   "source": [
    "# Root finding applications"
   ]
  },
  {
   "cell_type": "markdown",
   "metadata": {},
   "source": [
    "Now we'll look at several applications of root finding."
   ]
  },
  {
   "cell_type": "markdown",
   "metadata": {},
   "source": [
    "## Lagrange points"
   ]
  },
  {
   "cell_type": "markdown",
   "metadata": {},
   "source": [
    "For the setup for this problem, see the lab script. Essentially what we need to do is find $r$ such that the following equation holds:\n",
    "\n",
    "\\begin{equation}\n",
    "    \\frac{G M}{r^2} - \\frac{G m}{(R - r)^2} = \\omega^2 r\n",
    "    ,\n",
    "\\end{equation}\n",
    "\n",
    "where $G$ is the gravitational constant; $M$ and $m$ are the masses of the Earth and Moon, respectively; $R$ is the  distance between the Earth and Moon; and $\\omega$ is the angular frequency of the satellite."
   ]
  },
  {
   "cell_type": "code",
   "execution_count": null,
   "metadata": {},
   "outputs": [],
   "source": [
    "M = 5.974e24  # kg\n",
    "m = 7.348e22  # kg\n",
    "R = 3.844e8  # m\n",
    "omega = 2.662e-6  # 1 / s\n",
    "\n",
    "r = optimize.brentq(\n",
    "    a=1,\n",
    "    b=R - 1,\n",
    "    f=lambda r: constants.G * M / r ** 2\n",
    "    - constants.G * m / (R - r) ** 2\n",
    "    - omega ** 2 * r,\n",
    ")\n",
    "\n",
    "print(\"r = %e\" % r)"
   ]
  },
  {
   "cell_type": "markdown",
   "metadata": {},
   "source": [
    "In terms of $R$, we have"
   ]
  },
  {
   "cell_type": "code",
   "execution_count": null,
   "metadata": {},
   "outputs": [],
   "source": [
    "print(\"r = %.2fR\" % (r / R))"
   ]
  },
  {
   "cell_type": "markdown",
   "metadata": {},
   "source": [
    "## Particle in a finite square well"
   ]
  },
  {
   "cell_type": "markdown",
   "metadata": {},
   "source": [
    "For a particle of mass $m$ in a finite potential well with \"walls\" of height $V$ and a length $L$, the allowed energies $E$ ($0 < E < V$) are given by\n",
    "\n",
    "\\begin{align}\n",
    "    \\tan \\left( \\sqrt{\\frac{L^2 m E}{2 \\hslash} } \\right)\n",
    "        &= \\sqrt{ \\frac{V - E}{E} } \\qquad \\text{(for even numbered states)}, \\\\\n",
    "    \\tan \\left( \\sqrt{\\frac{L^2 m E}{2 \\hslash} } \\right)\n",
    "        &= - \\sqrt{ \\frac{E}{V - E} } \\qquad \\text{(for odd numbered states)},\n",
    "\\end{align}\n",
    "\n",
    "where $\\hslash$ is the reduced Planck constant."
   ]
  },
  {
   "cell_type": "markdown",
   "metadata": {},
   "source": [
    "Let's plot the left and right hand sides of the equations."
   ]
  },
  {
   "cell_type": "code",
   "execution_count": null,
   "metadata": {},
   "outputs": [],
   "source": [
    "L = 1e-9  # m\n",
    "V = 5  # eV"
   ]
  },
  {
   "cell_type": "code",
   "execution_count": null,
   "metadata": {},
   "outputs": [],
   "source": [
    "# Energy range (in eV)\n",
    "start_e_val = -6\n",
    "end_e_val = 6\n",
    "\n",
    "# Get function vals (expect errors here)\n",
    "e_vals = np.linspace(start_e_val, end_e_val)\n",
    "lhs_vals = np.tan(\n",
    "    np.sqrt(\n",
    "        L ** 2\n",
    "        * constants.m_e\n",
    "        * e_vals\n",
    "        / (2 * constants.physical_constants[\"reduced Planck constant in eV s\"][0])\n",
    "    )\n",
    ")\n",
    "rhs_even_vals = np.sqrt((V - e_vals) / e_vals)\n",
    "rhs_odd_vals = -np.sqrt(e_vals / (V - e_vals))"
   ]
  },
  {
   "cell_type": "code",
   "execution_count": null,
   "metadata": {
    "scrolled": false
   },
   "outputs": [],
   "source": [
    "# Set up figure\n",
    "_, ax = plt.subplots()\n",
    "\n",
    "# Plot\n",
    "plt.scatter(e_vals, lhs_vals)\n",
    "plt.plot(e_vals, rhs_even_vals)\n",
    "plt.plot(e_vals, rhs_odd_vals);"
   ]
  },
  {
   "cell_type": "markdown",
   "metadata": {},
   "source": [
    "**FIGURE THIS OUT AND FINISH IT**"
   ]
  },
  {
   "cell_type": "markdown",
   "metadata": {},
   "source": [
    "# Extremization"
   ]
  },
  {
   "cell_type": "markdown",
   "metadata": {},
   "source": [
    "Here we'll use a few different minimization methods to find the global minimum of the polynomial $f(x) = 2.1 x^2 - 3.4 x + 2.6$."
   ]
  },
  {
   "cell_type": "code",
   "execution_count": null,
   "metadata": {},
   "outputs": [],
   "source": [
    "func = lambda x: 2.1 * x ** 2 - 3.4 * x + 2.6"
   ]
  },
  {
   "cell_type": "markdown",
   "metadata": {},
   "source": [
    "Before finding the minimum of $f$, let's plot it on an interval where it achieves its minimum."
   ]
  },
  {
   "cell_type": "code",
   "execution_count": null,
   "metadata": {},
   "outputs": [],
   "source": [
    "# Set up figure\n",
    "_, ax = plt.subplots()\n",
    "\n",
    "# Plot function\n",
    "xs = np.linspace(-4, 4, 500)\n",
    "\n",
    "plt.plot(xs, func(xs))\n",
    "\n",
    "plt.grid(alpha=0.4)\n",
    "\n",
    "ax.set_xlabel(r\"$x$\");"
   ]
  },
  {
   "cell_type": "markdown",
   "metadata": {},
   "source": [
    "## Brent method"
   ]
  },
  {
   "cell_type": "markdown",
   "metadata": {},
   "source": [
    "First we'll use the \"Brent\" method."
   ]
  },
  {
   "cell_type": "code",
   "execution_count": null,
   "metadata": {},
   "outputs": [],
   "source": [
    "res = optimize.minimize_scalar(fun=func, method=\"Brent\")\n",
    "\n",
    "print(res)"
   ]
  },
  {
   "cell_type": "markdown",
   "metadata": {},
   "source": [
    "## Golden search method"
   ]
  },
  {
   "cell_type": "markdown",
   "metadata": {},
   "source": [
    "Next we'll use the \"golden search\" method."
   ]
  },
  {
   "cell_type": "code",
   "execution_count": null,
   "metadata": {},
   "outputs": [],
   "source": [
    "res = optimize.minimize_scalar(fun=func, method=\"Golden\")\n",
    "\n",
    "print(res)"
   ]
  },
  {
   "cell_type": "markdown",
   "metadata": {},
   "source": [
    "We can see here that the Brent method uses far less iterations and function evaluations than the golden search method."
   ]
  },
  {
   "cell_type": "markdown",
   "metadata": {},
   "source": [
    "## SciPy's minimize"
   ]
  },
  {
   "cell_type": "markdown",
   "metadata": {},
   "source": [
    "Next we'll use SciPy's `minimize` function. This function requires us to pass in an initial guess; looking at the above plot $x = 1$ seems like a reasonable guess."
   ]
  },
  {
   "cell_type": "code",
   "execution_count": null,
   "metadata": {},
   "outputs": [],
   "source": [
    "res = optimize.minimize(fun=func, x0=1)\n",
    "\n",
    "print(res)"
   ]
  },
  {
   "cell_type": "markdown",
   "metadata": {},
   "source": [
    "This only took one iteration!"
   ]
  },
  {
   "cell_type": "markdown",
   "metadata": {},
   "source": [
    "# Extremization applications"
   ]
  },
  {
   "cell_type": "markdown",
   "metadata": {},
   "source": [
    "## Landau free energy of phase transitions"
   ]
  },
  {
   "cell_type": "markdown",
   "metadata": {},
   "source": [
    "The description of this problem is long and somewhat complicated, so see the lab script for full details. The sort version is that we're going to be considering the Landau free energy for a ferromagnet in terms of its bulk magnetization (order parameter), $M$. The free energy $F$ is given by\n",
    "\n",
    "\\begin{equation}\n",
    "    F(M) = a M^2 + b M^4 + H M\n",
    "    ,\n",
    "\\end{equation}\n",
    "\n",
    "where $b$ is a positive constant; $H$ is the external magnetic field; and $a = a_0 (T - T_c)$, where $T$ is the temperature, $T_c$ is the critical temperature, and $a_0$ is another constant."
   ]
  },
  {
   "cell_type": "markdown",
   "metadata": {},
   "source": [
    "First we'll rescale the free energy $F$ to a scaled form $\\tilde{f}$ which will be in terms of $t = \\frac{T}{T_c}$, $\\tilde{b} = \\frac{b}{a_0 T_c}$, and $\\tilde{h} = \\frac{H}{a_0 T_C}$:\n",
    "\n",
    "\\begin{align}\n",
    "    &F(M) = a M^2 + b M^4 + H M \\\\\n",
    "    &\\iff F(M) = a_0 (T - T_c) M^2 + b M^4 + H M \\\\\n",
    "    &\\iff \\tilde{f}(M) = (t - 1) M^2 + \\tilde{b} M^4 + \\tilde{h} M\n",
    "    .\n",
    "\\end{align}"
   ]
  },
  {
   "cell_type": "markdown",
   "metadata": {},
   "source": [
    "Let's plot $\\tilde{f}$, at $t = 0.4, 0.8. 1.0, 1.4$ with"
   ]
  },
  {
   "cell_type": "markdown",
   "metadata": {},
   "source": [
    "**Instructions unclear here**"
   ]
  },
  {
   "cell_type": "markdown",
   "metadata": {},
   "source": [
    "## Ode to incandescent light"
   ]
  },
  {
   "cell_type": "markdown",
   "metadata": {},
   "source": [
    "The description for this problem is also long, so again see the lab script for the full details."
   ]
  },
  {
   "cell_type": "markdown",
   "metadata": {},
   "source": [
    "The power radiated $I$ by an object at temperature $T$ and wavelength $\\lambda$ is given by Plank's law:\n",
    "\n",
    "\\begin{equation}\n",
    "    I(\\lambda, T) = 2 \\pi A h c^2 \\frac{\\lambda^5}{\\exp \\left( \\frac{hc}{\\lambda k_B T} \\right) - 1}\n",
    "    ,\n",
    "\\end{equation}\n",
    "\n",
    "where $A$ is the area of the object, $h$ is Plank's constant, $c$ is the speed of light, and $k_B$ is Boltzmann's constant. Note that visible light corresponds to wavelengths between $\\lambda_1 = 390 \\text{ nm}$ and $\\lambda_2 = 750 \\text{ nm}$. Thus the total power radiated across the spectrum at temperature $T$ is given by\n",
    "\n",
    "\\begin{equation}\n",
    "    \\int_{\\lambda_1}^{\\lambda_2} I(\\lambda, T) d \\lambda\n",
    "    ,\n",
    "\\end{equation}\n",
    "\n",
    "while the total power radiated is given by\n",
    "\n",
    "\\begin{equation}\n",
    "    \\int_{0}^{\\infty} I(\\lambda, T) d \\lambda\n",
    "    .\n",
    "\\end{equation}\n",
    "\n",
    "Dividing the first integral by the second, we can determine the efficiency of visible light emitted $\\eta(T)$. It turns out that we can express $\\eta$ by\n",
    "\n",
    "\\begin{equation}\n",
    "    \\eta(T) = \\frac{15}{\\pi^4} \\int_{\\frac{hc}{\\lambda_2 k_B T}}^{\\frac{hc}{\\lambda_1 k_B T}}\n",
    "        \\frac{x^3}{e^x - 1}\n",
    "        d x\n",
    "    .\n",
    "\\end{equation}"
   ]
  },
  {
   "cell_type": "markdown",
   "metadata": {},
   "source": [
    "First, let's write a function that calculates $\\eta(T)$."
   ]
  },
  {
   "cell_type": "code",
   "execution_count": null,
   "metadata": {},
   "outputs": [],
   "source": [
    "def efficiency_of_light(T: float) -> float:\n",
    "    \"\"\"Calculate \\eta(T).\"\"\"\n",
    "    # Endpoints of visible light\n",
    "    lambda_1 = 390e-9  # m\n",
    "    lambda_2 = 750e-9  # m\n",
    "\n",
    "    return (\n",
    "        15\n",
    "        / np.pi ** 4\n",
    "        * integrate.quad(\n",
    "            func=lambda x: x ** 3 / (np.exp(x) - 1),\n",
    "            a=constants.h * constants.c / (lambda_2 * constants.k * T),\n",
    "            b=constants.h * constants.c / (lambda_1 * constants.k * T),\n",
    "        )[0]\n",
    "    )"
   ]
  },
  {
   "cell_type": "markdown",
   "metadata": {},
   "source": [
    "Now let's plot the function for $\\eta$ we just wrote."
   ]
  },
  {
   "cell_type": "code",
   "execution_count": null,
   "metadata": {},
   "outputs": [],
   "source": [
    "# Set up figure\n",
    "_, ax = plt.subplots()\n",
    "\n",
    "# Plot function\n",
    "ts = np.linspace(300, 10 ** 4)\n",
    "\n",
    "plt.plot(ts, [efficiency_of_light(t) for t in ts])\n",
    "\n",
    "plt.xscale(\"log\")\n",
    "\n",
    "ax.set_xlabel(r\"$T$\")\n",
    "ax.set_ylabel(r\"$\\eta$\");"
   ]
  },
  {
   "cell_type": "markdown",
   "metadata": {},
   "source": [
    "It appears there is maximum efficiency at $T \\approx 6500 \\text{ K}$."
   ]
  },
  {
   "cell_type": "markdown",
   "metadata": {},
   "source": [
    "Let's find out what the temperature that leads to maximum efficiency precisely is (as well as what this maximum efficiency is)."
   ]
  },
  {
   "cell_type": "markdown",
   "metadata": {},
   "source": [
    "**FINISH ME**"
   ]
  }
 ],
 "metadata": {
  "kernelspec": {
   "display_name": "Python 3",
   "language": "python",
   "name": "python3"
  },
  "language_info": {
   "codemirror_mode": {
    "name": "ipython",
    "version": 3
   },
   "file_extension": ".py",
   "mimetype": "text/x-python",
   "name": "python",
   "nbconvert_exporter": "python",
   "pygments_lexer": "ipython3",
   "version": "3.8.1"
  }
 },
 "nbformat": 4,
 "nbformat_minor": 2
}
