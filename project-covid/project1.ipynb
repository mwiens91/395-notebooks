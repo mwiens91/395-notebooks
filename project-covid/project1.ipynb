{
 "cells": [
  {
   "cell_type": "code",
   "execution_count": null,
   "metadata": {},
   "outputs": [],
   "source": [
    "%matplotlib inline"
   ]
  },
  {
   "cell_type": "code",
   "execution_count": null,
   "metadata": {
    "scrolled": true
   },
   "outputs": [],
   "source": [
    "from pprint import pprint\n",
    "import matplotlib.pyplot as plt\n",
    "import numpy as np\n",
    "import pandas as pd\n",
    "import symfit"
   ]
  },
  {
   "cell_type": "markdown",
   "metadata": {},
   "source": [
    "# Analysis of COVID-19 time series data\n",
    "\n",
    "**PHYS 395 project 1; **\n",
    "**Matt Wiens - #301294492**"
   ]
  },
  {
   "cell_type": "markdown",
   "metadata": {},
   "source": [
    "## Notebook setup "
   ]
  },
  {
   "cell_type": "markdown",
   "metadata": {},
   "source": [
    "The first command here sets the default figure size to be a bit larger than normal. The second command sets it so all figure output areas are expanded by default."
   ]
  },
  {
   "cell_type": "code",
   "execution_count": null,
   "metadata": {},
   "outputs": [],
   "source": [
    "# Set default plot size\n",
    "plt.rcParams[\"figure.figsize\"] = (12, 9)"
   ]
  },
  {
   "cell_type": "code",
   "execution_count": null,
   "metadata": {},
   "outputs": [],
   "source": [
    "%%javascript\n",
    "IPython.OutputArea.auto_scroll_threshold = 9999"
   ]
  },
  {
   "cell_type": "markdown",
   "metadata": {},
   "source": [
    "# Introduction"
   ]
  },
  {
   "cell_type": "markdown",
   "metadata": {},
   "source": [
    "In this notebook we will be interested in how the basic reproduction number $R_0$ varies across countries grouped by several different metrics. The basic reproduction number is the average number of people one person infects given that they have COVID-19. The metrics we will consider in this notebook are (i) population density, (ii) GDP, and (iii) the EIU Democracy Index, which is a measure of how \"democratic\" countries are. However, the analysis in this notebook can easily be extended to comparing additional metrics."
   ]
  },
  {
   "cell_type": "markdown",
   "metadata": {},
   "source": [
    "# Methods"
   ]
  },
  {
   "cell_type": "markdown",
   "metadata": {},
   "source": [
    "The first part of analysis will provide an argument for us to *not* consider China's data, as it is highly suspect and I presume it to be unreliable.\n",
    "\n",
    "The remainder of our analysis will be geared towards finding the basic reproduction numbers $R_0$ of different countries using the SIR model, and then using this $R_0$ value to compare countries based on the metrics listed in the introduction. The SIR model models the temporal behavior of an infectious outbreak through the equations\n",
    "\n",
    "\\begin{align}\n",
    "     \\frac{dS}{dt} &= - \\frac{\\beta I S}{N}, \\\\\n",
    "     \\frac{dI}{dt} &= \\frac{\\beta I S}{N} - \\gamma I, \\\\\n",
    "     \\frac{dR}{dt} &= \\gamma I,\n",
    "\\end{align}\n",
    "\n",
    "where\n",
    "\n",
    "+ $\\beta$, $\\gamma$ are constants\n",
    "+ $S$ is the size of the susceptible population\n",
    "+ $I$ is the size of the infected population\n",
    "+ $R$ is the size of the recovered population\n",
    "+ $N = S + I + R$ is total size of the population being considered\n",
    "\n",
    "The basic reproductive number $R_0$ is related to the constants $\\beta$ and $\\gamma$ through\n",
    "\n",
    "\\begin{equation}\n",
    "    R_0 = \\frac{\\beta}{\\gamma}\n",
    "    .\n",
    "\\end{equation}\n",
    "\n",
    "Because we only have data for $I$ and $R$ (where in $R$ we will include recovered *and* deaths data), we can reformulate the above system of differential equations to be\n",
    "\n",
    "\\begin{align}\n",
    "     \\frac{dI}{dt} &= \\frac{\\beta I (N - I - R)}{N} - \\gamma I, \\\\\n",
    "     \\frac{dR}{dt} &= \\gamma I.\n",
    "\\end{align}\n",
    "\n",
    "Having the data for $I$ and $R$ and the above differential equations, we can then estimate the parameters $\\beta$, $\\gamma$ and $N$ (and thus $R_0$) using [symfit](https://symfit.readthedocs.io/en/stable/index.html), which is a Python library which combines the power of [SciPy optimize](https://docs.scipy.org/doc/scipy/reference/optimize.html) and [SymPy](https://www.sympy.org/en/index.html) to perform curve fitting with the power of symbolic math."
   ]
  },
  {
   "cell_type": "markdown",
   "metadata": {},
   "source": [
    "# Analysis"
   ]
  },
  {
   "cell_type": "markdown",
   "metadata": {},
   "source": [
    "## Fetching data"
   ]
  },
  {
   "cell_type": "markdown",
   "metadata": {},
   "source": [
    "Here, we'll fetch the latest COVID-19 data from John Hopkins CSSE."
   ]
  },
  {
   "cell_type": "code",
   "execution_count": null,
   "metadata": {},
   "outputs": [],
   "source": [
    "# URLs to fetch\n",
    "url_confirmed_csv = \"https://raw.githubusercontent.com/CSSEGISandData/COVID-19/master/csse_covid_19_data/csse_covid_19_time_series/time_series_covid19_confirmed_global.csv\"\n",
    "url_deaths_csv = \"https://raw.githubusercontent.com/CSSEGISandData/COVID-19/master/csse_covid_19_data/csse_covid_19_time_series/time_series_covid19_deaths_global.csv\"\n",
    "url_recovered_csv = \"https://raw.githubusercontent.com/CSSEGISandData/COVID-19/master/csse_covid_19_data/csse_covid_19_time_series/time_series_covid19_recovered_global.csv\""
   ]
  },
  {
   "cell_type": "code",
   "execution_count": null,
   "metadata": {},
   "outputs": [],
   "source": [
    "# Get data\n",
    "df_confirmed = pd.read_csv(url_confirmed_csv, sep=\",\")\n",
    "df_deaths = pd.read_csv(url_deaths_csv, sep=\",\")\n",
    "df_recovered = pd.read_csv(url_recovered_csv, sep=\",\")"
   ]
  },
  {
   "cell_type": "markdown",
   "metadata": {},
   "source": [
    "## Defining a function to \"massage\" the data"
   ]
  },
  {
   "cell_type": "markdown",
   "metadata": {},
   "source": [
    "Here we'll define a function to \"massage\" the data into a useful form for our analysis. Here we will take the above dataframes (possibly filtered down by country) and then transform it to a dataframe which has two columns: dates (as `datetime.datetime`s) which column label `date`, and total cases for that date, with column label `cases`."
   ]
  },
  {
   "cell_type": "code",
   "execution_count": null,
   "metadata": {},
   "outputs": [],
   "source": [
    "def massage_dataframe(df: pd.DataFrame) -> pd.DataFrame:\n",
    "    # Drop columns we don't need\n",
    "    df = df.drop([\"Province/State\", \"Country/Region\", \"Lat\", \"Long\"], axis=1)\n",
    "\n",
    "    # Collapse all provinces/regions into single row\n",
    "    df = df.sum(axis=0).to_frame(\"cases\")\n",
    "\n",
    "    # Move dates into a column\n",
    "    df.index.name = \"date\"\n",
    "    df.reset_index(inplace=True)\n",
    "\n",
    "    # Parse dates to datetime\n",
    "    df.date = pd.to_datetime(df.date)\n",
    "\n",
    "    return df"
   ]
  },
  {
   "cell_type": "markdown",
   "metadata": {},
   "source": [
    "## Plotting confirmed cases, deaths, and recovered"
   ]
  },
  {
   "cell_type": "markdown",
   "metadata": {},
   "source": [
    "Now we'll plot the number of confirmed cases, death, and recovered for both China and the rest of the world (excluding China)."
   ]
  },
  {
   "cell_type": "markdown",
   "metadata": {},
   "source": [
    "### Confirmed cases"
   ]
  },
  {
   "cell_type": "code",
   "execution_count": null,
   "metadata": {},
   "outputs": [],
   "source": [
    "# Filter by China/rest of world\n",
    "df_confirmed_total_china = massage_dataframe(\n",
    "    df_confirmed[df_confirmed[\"Country/Region\"].eq(\"China\")]\n",
    ")\n",
    "df_confirmed_total_remaining = massage_dataframe(\n",
    "    df_confirmed[~df_confirmed[\"Country/Region\"].eq(\"China\")]\n",
    ")"
   ]
  },
  {
   "cell_type": "code",
   "execution_count": null,
   "metadata": {
    "scrolled": false
   },
   "outputs": [],
   "source": [
    "fig, ax = plt.subplots()\n",
    "\n",
    "# Plot data\n",
    "ax.plot_date(\n",
    "    x=df_confirmed_total_china.date.values,\n",
    "    y=df_confirmed_total_china.cases.values,\n",
    "    fmt=\"-*\",\n",
    "    xdate=True,\n",
    ")\n",
    "ax.plot_date(\n",
    "    x=df_confirmed_total_remaining.date.values,\n",
    "    y=df_confirmed_total_remaining.cases.values,\n",
    "    fmt=\"-*\",\n",
    "    xdate=True,\n",
    ")\n",
    "\n",
    "# Add cosmetics\n",
    "ax.set_title(\"Confirmed COVID-19 cases\")\n",
    "ax.set_xlabel(\"date\")\n",
    "ax.set_ylabel(\"count\")\n",
    "ax.ticklabel_format(axis=\"y\", style=\"sci\", scilimits=(0, 0))\n",
    "\n",
    "ax.legend([\"China\", \"rest of the world\"])\n",
    "\n",
    "ax.grid(alpha=0.3)"
   ]
  },
  {
   "cell_type": "markdown",
   "metadata": {},
   "source": [
    "### Deaths"
   ]
  },
  {
   "cell_type": "code",
   "execution_count": null,
   "metadata": {},
   "outputs": [],
   "source": [
    "# Filter by China/rest of world\n",
    "df_deaths_total_china = massage_dataframe(\n",
    "    df_deaths[df_deaths[\"Country/Region\"].eq(\"China\")]\n",
    ")\n",
    "df_deaths_total_remaining = massage_dataframe(\n",
    "    df_deaths[~df_deaths[\"Country/Region\"].eq(\"China\")]\n",
    ")"
   ]
  },
  {
   "cell_type": "code",
   "execution_count": null,
   "metadata": {
    "scrolled": false
   },
   "outputs": [],
   "source": [
    "fig, ax = plt.subplots()\n",
    "\n",
    "# Plot data\n",
    "ax.plot_date(\n",
    "    x=df_deaths_total_china.date.values,\n",
    "    y=df_deaths_total_china.cases.values,\n",
    "    fmt=\"-*\",\n",
    "    xdate=True,\n",
    ")\n",
    "ax.plot_date(\n",
    "    x=df_deaths_total_remaining.date.values,\n",
    "    y=df_deaths_total_remaining.cases.values,\n",
    "    fmt=\"-*\",\n",
    "    xdate=True,\n",
    ")\n",
    "\n",
    "# Add cosmetics\n",
    "ax.set_title(\"COVID-19 Deaths\")\n",
    "ax.set_xlabel(\"date\")\n",
    "ax.set_ylabel(\"count\")\n",
    "ax.ticklabel_format(axis=\"y\", style=\"sci\", scilimits=(0, 0))\n",
    "\n",
    "ax.legend([\"China\", \"rest of the world\"])\n",
    "\n",
    "ax.grid(alpha=0.3)"
   ]
  },
  {
   "cell_type": "markdown",
   "metadata": {},
   "source": [
    "### Recovered cases"
   ]
  },
  {
   "cell_type": "code",
   "execution_count": null,
   "metadata": {},
   "outputs": [],
   "source": [
    "# Filter by China/rest of world\n",
    "df_recovered_total_china = massage_dataframe(\n",
    "    df_recovered[df_recovered[\"Country/Region\"].eq(\"China\")]\n",
    ")\n",
    "df_recovered_total_remaining = massage_dataframe(\n",
    "    df_recovered[~df_recovered[\"Country/Region\"].eq(\"China\")]\n",
    ")"
   ]
  },
  {
   "cell_type": "code",
   "execution_count": null,
   "metadata": {
    "scrolled": false
   },
   "outputs": [],
   "source": [
    "fig, ax = plt.subplots()\n",
    "\n",
    "# Plot data\n",
    "ax.plot_date(\n",
    "    x=df_recovered_total_china.date.values,\n",
    "    y=df_recovered_total_china.cases.values,\n",
    "    fmt=\"-*\",\n",
    "    xdate=True,\n",
    ")\n",
    "ax.plot_date(\n",
    "    x=df_recovered_total_remaining.date.values,\n",
    "    y=df_recovered_total_remaining.cases.values,\n",
    "    fmt=\"-*\",\n",
    "    xdate=True,\n",
    ")\n",
    "\n",
    "# Add cosmetics\n",
    "ax.set_title(\"Recovered COVID-19 cases\")\n",
    "ax.set_xlabel(\"date\")\n",
    "ax.set_ylabel(\"count\")\n",
    "ax.ticklabel_format(axis=\"y\", style=\"sci\", scilimits=(0, 0))\n",
    "\n",
    "ax.legend([\"China\", \"rest of the world\"])\n",
    "\n",
    "ax.grid(alpha=0.3)"
   ]
  },
  {
   "cell_type": "markdown",
   "metadata": {},
   "source": [
    "### Brief discussion of plots (on why China's data makes no sense)"
   ]
  },
  {
   "cell_type": "markdown",
   "metadata": {},
   "source": [
    "The above plots are pretty good justification to not even take China's data into consideration. The data shows that there was no exponential growth phase (including in Hubei province which contains Wuhan), which makes no sense given that they didn't immediately start quarantining."
   ]
  },
  {
   "cell_type": "markdown",
   "metadata": {},
   "source": [
    "## Fitting the world's data to an SIR model"
   ]
  },
  {
   "cell_type": "markdown",
   "metadata": {},
   "source": [
    "Now let's try to fit the world's data (excluding China) to the \"modified\" SIR model written in the introduction. For the purposes of the SIR model we will take\n",
    "\n",
    "+ infected = confirmed data - recovered data - deaths data\n",
    "+ recovered = recovered data + deaths data\n",
    "\n",
    "Our goal is to determine $\\beta$, $\\gamma$, and $N$ for the data; using this, we can determine the $S$ data and the basic reproduction number $R_0$."
   ]
  },
  {
   "cell_type": "markdown",
   "metadata": {},
   "source": [
    "### Defining a fitting function"
   ]
  },
  {
   "cell_type": "markdown",
   "metadata": {},
   "source": [
    "The below function takes in data for $I$, $R$ and returns a tuple which contains\n",
    "\n",
    "+ The symfit fit results (an instance of `symfit.core.fit_results.FitResults`). This, importantly, has a `params` attribute which is an ordered dictionary containing the estimated parameters $\\beta$, $\\gamma$, and $N$;\n",
    "\n",
    "+ A function which evaluates the SIR system of differential equations given time data and the parameter estimates (an instance of `symfit.core.models.ODEModel`);\n",
    "\n",
    "+ An array containing the time data used when fitting. The function makes the simplifying assumption that one day is equal to one unit of time.\n",
    "\n",
    "The function also (optionally) takes in initial estimates for $\\beta$, $\\gamma$, and $N$. Note that having *reasonable* estimates is extremely important to having the fit produce good parameter estimates.\n",
    "\n",
    "One other important point is that the data supplied to the fit should start when the infection data becomes non-negligible. Producing data prior to any infections will result in a worse fit."
   ]
  },
  {
   "cell_type": "code",
   "execution_count": null,
   "metadata": {},
   "outputs": [],
   "source": [
    "def estimate_SIR_constants(\n",
    "    i_data: np.ndarray,\n",
    "    r_data: np.ndarray,\n",
    "    beta_est: float = 0.00001,\n",
    "    gamma_est: float = 0.01,\n",
    "    N_est: float = 150000,\n",
    ") -> tuple:\n",
    "    # Set up data for time\n",
    "    t_data = np.arange(i_data.shape[0], dtype=float)\n",
    "\n",
    "    # Set up variables and parameters\n",
    "    I, R, t = symfit.variables(\"I, R, t\")\n",
    "    beta = symfit.Parameter(\"beta\")\n",
    "    gamma = symfit.Parameter(\"gamma\", gamma_est)\n",
    "    N = symfit.Parameter(\"N\", N_est)\n",
    "\n",
    "    # Set up and run the model\n",
    "    model_dict = {\n",
    "        symfit.D(I, t): beta * I * (N - I - R) / N - gamma * I,\n",
    "        symfit.D(R, t): gamma * I,\n",
    "    }\n",
    "    ode_model = symfit.ODEModel(\n",
    "        model_dict, initial={t: 0.0, I: i_data[0], R: r_data[0]}\n",
    "    )\n",
    "\n",
    "    fit = symfit.Fit(ode_model, t=t_data, I=i_data, R=r_data)\n",
    "\n",
    "    # Run\n",
    "    res = fit.execute()\n",
    "\n",
    "    return (res, ode_model, t_data)"
   ]
  },
  {
   "cell_type": "markdown",
   "metadata": {},
   "source": [
    "### Choosing the data to fit"
   ]
  },
  {
   "cell_type": "markdown",
   "metadata": {},
   "source": [
    "Now we need to determine which data we want to use for the fit. By inspecting the plots in the \"Plotting confirmed cases, deaths, and recovered\" section above, we can decide at what data point we should start at. Looking at the points, starting in late February seems reasonable"
   ]
  },
  {
   "cell_type": "code",
   "execution_count": null,
   "metadata": {},
   "outputs": [],
   "source": [
    "# Choose where to start the data\n",
    "remaining_start_idx = 35"
   ]
  },
  {
   "cell_type": "code",
   "execution_count": null,
   "metadata": {},
   "outputs": [],
   "source": [
    "# Collect infected and recovered data using our above definitions\n",
    "i_data = (\n",
    "    df_confirmed_total_remaining.cases.values\n",
    "    - df_recovered_total_remaining.cases.values\n",
    "    - df_deaths_total_remaining.cases.values\n",
    ")[remaining_start_idx:]\n",
    "r_data = (\n",
    "    df_recovered_total_remaining.cases.values + df_deaths_total_remaining.cases.values\n",
    ")[remaining_start_idx:]"
   ]
  },
  {
   "cell_type": "markdown",
   "metadata": {},
   "source": [
    "### Estimating parameters using our fitting function"
   ]
  },
  {
   "cell_type": "markdown",
   "metadata": {},
   "source": [
    "Now we'll use the function we defined to predict the SIR constants."
   ]
  },
  {
   "cell_type": "code",
   "execution_count": null,
   "metadata": {},
   "outputs": [],
   "source": [
    "res, ode_model, t_data = estimate_SIR_constants(i_data, r_data)"
   ]
  },
  {
   "cell_type": "markdown",
   "metadata": {},
   "source": [
    "Let's look what the estimated parameters are."
   ]
  },
  {
   "cell_type": "code",
   "execution_count": null,
   "metadata": {},
   "outputs": [],
   "source": [
    "pprint(dict(res.params.items()))"
   ]
  },
  {
   "cell_type": "markdown",
   "metadata": {},
   "source": [
    "And let's look at well this agrees with the data we supplied to the fitting function."
   ]
  },
  {
   "cell_type": "code",
   "execution_count": null,
   "metadata": {},
   "outputs": [],
   "source": [
    "# Get I and R from our ODE model and determine S\n",
    "I, R = ode_model(t=t_data, **res.params)\n",
    "S = res.params[\"N\"] - I - R\n",
    "\n",
    "# Get the dates corresponding to our time data\n",
    "t_data_dates = df_confirmed_total_remaining.date.values[remaining_start_idx:]"
   ]
  },
  {
   "cell_type": "code",
   "execution_count": null,
   "metadata": {
    "scrolled": false
   },
   "outputs": [],
   "source": [
    "fig, ax = plt.subplots(figsize=(15, 13))\n",
    "\n",
    "# Plot data\n",
    "ax.plot_date(\n",
    "    x=t_data_dates, y=S, fmt=\"-*\", xdate=True,\n",
    ")\n",
    "ax.plot_date(\n",
    "    x=t_data_dates, y=I, fmt=\"-*\", xdate=True,\n",
    ")\n",
    "ax.plot_date(\n",
    "    x=t_data_dates, y=R, fmt=\"-*\", xdate=True,\n",
    ")\n",
    "ax.plot_date(\n",
    "    x=t_data_dates, y=i_data, fmt=\"o\", xdate=True,\n",
    ")\n",
    "ax.plot_date(\n",
    "    x=t_data_dates, y=r_data, fmt=\"o\", xdate=True,\n",
    ")\n",
    "\n",
    "# Add cosmetics\n",
    "ax.set_title(\"World (excluding China) SIR curves\")\n",
    "ax.set_xlabel(\"date\")\n",
    "ax.set_ylabel(\"count\")\n",
    "ax.ticklabel_format(axis=\"y\", style=\"sci\", scilimits=(0, 0))\n",
    "\n",
    "ax.legend([\"S (estimated)\", \"I (estimated)\", \"R (estimated)\", \"I (data)\", \"R (data)\"])\n",
    "\n",
    "ax.grid(alpha=0.3)"
   ]
  },
  {
   "cell_type": "markdown",
   "metadata": {},
   "source": [
    "We can see here that our estimated parameters are extremely accurate in their agreement with the data."
   ]
  },
  {
   "cell_type": "markdown",
   "metadata": {},
   "source": [
    "### Determine the basic reproductive number "
   ]
  },
  {
   "cell_type": "markdown",
   "metadata": {},
   "source": [
    "Now that we've found that our parameter estimates our reasonable, we can determine the basic reproductive number for our data."
   ]
  },
  {
   "cell_type": "code",
   "execution_count": null,
   "metadata": {},
   "outputs": [],
   "source": [
    "print(\"R0 = %.2f\" % (res.params[\"beta\"] / res.params[\"gamma\"]))"
   ]
  },
  {
   "cell_type": "markdown",
   "metadata": {},
   "source": [
    "For the data used when I ran this computation (on 2020-03-30), the basic reproductive number $R_0$ was approximately 8. This means, as a global average, each infected person will infect an additional 8 non-infected people, which is quite worrying!"
   ]
  },
  {
   "cell_type": "markdown",
   "metadata": {},
   "source": [
    "## Determine the basic reproductive number for a sample of countries"
   ]
  },
  {
   "cell_type": "markdown",
   "metadata": {},
   "source": [
    "Now we will determine the basic reproductive number $R_0$ for a number of different countries, so we can see how this number varies based on the metrics discussed in the introduction.\n",
    "\n",
    "Because we need to provide good estimates for\n",
    "\n",
    "+ what data to supply to the fitting function\n",
    "+ the parameters $\\beta$, $\\gamma$, and $N$\n",
    "\n",
    "we will need to plot the data for each country we consider prior to fitting."
   ]
  },
  {
   "cell_type": "markdown",
   "metadata": {},
   "source": [
    "### Choosing which countries to sample"
   ]
  },
  {
   "cell_type": "markdown",
   "metadata": {},
   "source": [
    "Here we will choose for which countries we will determine the basic reproductive number $R_0$."
   ]
  },
  {
   "cell_type": "markdown",
   "metadata": {},
   "source": [
    "Below are a list of all countries we have data for."
   ]
  },
  {
   "cell_type": "code",
   "execution_count": null,
   "metadata": {},
   "outputs": [],
   "source": [
    "pprint(list(np.unique(df_confirmed[\"Country/Region\"])))"
   ]
  },
  {
   "cell_type": "markdown",
   "metadata": {},
   "source": [
    "I'll choose 16 of these countries to include in our analysis."
   ]
  },
  {
   "cell_type": "code",
   "execution_count": null,
   "metadata": {},
   "outputs": [],
   "source": [
    "included_countries = np.array(\n",
    "    [\n",
    "        \"Angola\",\n",
    "        \"Argentina\",\n",
    "        \"Brazil\",\n",
    "        \"Canada\",\n",
    "        \"Chile\",\n",
    "        \"Columbia\",\n",
    "        \"Egypt\",\n",
    "        \"Germany\",\n",
    "        \"Indonesia\",\n",
    "        \"Iran\",\n",
    "        \"Jordan\",\n",
    "        \"Korea, South\",\n",
    "        \"Mexico\",\n",
    "        \"Spain\",\n",
    "        \"Thailand\",\n",
    "        \"Ukraine\",\n",
    "    ]\n",
    ")"
   ]
  },
  {
   "cell_type": "markdown",
   "metadata": {},
   "source": [
    "Let's plot their confirmed cases so that we can come up with good parameter estimates for our fitting function."
   ]
  },
  {
   "cell_type": "code",
   "execution_count": null,
   "metadata": {},
   "outputs": [],
   "source": [
    "fig, ax = plt.subplots()\n",
    "\n",
    "# Plot data for each country\n",
    "for country in included_countries:\n",
    "    df_massaged = massage_dataframe(\n",
    "        df_confirmed[df_confirmed[\"Country/Region\"].eq(country)]\n",
    "    )\n",
    "    ax.plot_date(\n",
    "        x=df_massaged.date.values, y=df_massaged.cases.values, fmt=\"-*\", xdate=True,\n",
    "    )\n",
    "\n",
    "# Add cosmetics\n",
    "ax.set_title(\"Confirmed COVID-19 cases\")\n",
    "ax.set_xlabel(\"date\")\n",
    "ax.set_ylabel(\"count\")\n",
    "ax.ticklabel_format(axis=\"y\", style=\"sci\", scilimits=(0, 0))\n",
    "\n",
    "ax.legend(included_countries)\n",
    "\n",
    "ax.grid(alpha=0.3)"
   ]
  },
  {
   "cell_type": "markdown",
   "metadata": {},
   "source": [
    "It's a little hard to see what's going on with some of the countries with lower numbers of confirmed cases, so let's plot those separately."
   ]
  },
  {
   "cell_type": "code",
   "execution_count": null,
   "metadata": {},
   "outputs": [],
   "source": [
    "included_countries_plot_2 = np.array(\n",
    "    [\n",
    "        \"Angola\",\n",
    "        \"Argentina\",\n",
    "        \"Brazil\",\n",
    "        \"Canada\",\n",
    "        \"Chile\",\n",
    "        \"Columbia\",\n",
    "        \"Egypt\",\n",
    "        \"Germany\",\n",
    "        \"Indonesia\",\n",
    "        \"Iran\",\n",
    "        \"Jordan\",\n",
    "        \"Korea, South\",\n",
    "        \"Mexico\",\n",
    "        \"Spain\",\n",
    "        \"Thailand\",\n",
    "        \"Ukraine\",\n",
    "    ]\n",
    ")\n",
    "\n",
    "fig, ax = plt.subplots()\n",
    "\n",
    "# Plot data for each country\n",
    "for country in included_countries_plot_2:\n",
    "    df_massaged = massage_dataframe(\n",
    "        df_confirmed[df_confirmed[\"Country/Region\"].eq(country)]\n",
    "    )\n",
    "    ax.plot_date(\n",
    "        x=df_massaged.date.values, y=df_massaged.cases.values, fmt=\"-*\", xdate=True,\n",
    "    )\n",
    "\n",
    "# Add cosmetics\n",
    "ax.set_title(\"Confirmed COVID-19 cases\")\n",
    "ax.set_xlabel(\"date\")\n",
    "ax.set_ylabel(\"count\")\n",
    "ax.ticklabel_format(axis=\"y\", style=\"sci\", scilimits=(0, 0))\n",
    "\n",
    "ax.legend(included_countries_plot_2)\n",
    "\n",
    "ax.grid(alpha=0.3)"
   ]
  },
  {
   "cell_type": "markdown",
   "metadata": {},
   "source": [
    "### Initializing data frame to store data"
   ]
  },
  {
   "cell_type": "markdown",
   "metadata": {},
   "source": [
    "Before we start computing parameters, let's set up a dataframe to store our results. "
   ]
  },
  {
   "cell_type": "markdown",
   "metadata": {},
   "source": [
    "# Discussion"
   ]
  },
  {
   "cell_type": "markdown",
   "metadata": {},
   "source": [
    "TODO: add discussion and move this BELOW analysis"
   ]
  }
 ],
 "metadata": {
  "kernelspec": {
   "display_name": "Python 3",
   "language": "python",
   "name": "python3"
  },
  "language_info": {
   "codemirror_mode": {
    "name": "ipython",
    "version": 3
   },
   "file_extension": ".py",
   "mimetype": "text/x-python",
   "name": "python",
   "nbconvert_exporter": "python",
   "pygments_lexer": "ipython3",
   "version": "3.6.9"
  }
 },
 "nbformat": 4,
 "nbformat_minor": 2
}
