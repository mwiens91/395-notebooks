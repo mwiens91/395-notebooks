{
 "cells": [
  {
   "cell_type": "code",
   "execution_count": null,
   "metadata": {},
   "outputs": [],
   "source": [
    "%matplotlib inline"
   ]
  },
  {
   "cell_type": "code",
   "execution_count": null,
   "metadata": {
    "scrolled": true
   },
   "outputs": [],
   "source": [
    "import matplotlib.pyplot as plt\n",
    "import numpy as np\n",
    "import pandas as pd"
   ]
  },
  {
   "cell_type": "markdown",
   "metadata": {},
   "source": [
    "# Analysis of COVID-19 time series data\n",
    "\n",
    "**PHYS 395 project 1; **\n",
    "**Matt Wiens - #301294492**"
   ]
  },
  {
   "cell_type": "markdown",
   "metadata": {},
   "source": [
    "## Notebook setup "
   ]
  },
  {
   "cell_type": "markdown",
   "metadata": {},
   "source": [
    "The first command here sets the default figure size to be a bit larger than normal. The second command sets it so all figure output areas are expanded by default."
   ]
  },
  {
   "cell_type": "code",
   "execution_count": null,
   "metadata": {},
   "outputs": [],
   "source": [
    "# Set default plot size\n",
    "plt.rcParams[\"figure.figsize\"] = (12, 9)"
   ]
  },
  {
   "cell_type": "code",
   "execution_count": null,
   "metadata": {},
   "outputs": [],
   "source": [
    "%%javascript\n",
    "IPython.OutputArea.auto_scroll_threshold = 9999"
   ]
  },
  {
   "cell_type": "markdown",
   "metadata": {},
   "source": [
    "# Introduction"
   ]
  },
  {
   "cell_type": "markdown",
   "metadata": {},
   "source": [
    "In this notebook we will be interested in how the basic reproduction number $R_0$ varies across countries grouped by several different metrics. The basic reproduction number is the average number of people one person infects given that they have COVID-19. The metrics we will consider in this notebook are (i) population density, (ii) GDP, and (iii) the EIU Democracy Index, which is a measure of how \"democratic\" countries are."
   ]
  },
  {
   "cell_type": "markdown",
   "metadata": {},
   "source": [
    "# Methods"
   ]
  },
  {
   "cell_type": "markdown",
   "metadata": {},
   "source": [
    "The first part of analysis will provide an argument for us to *not* consider China's data, as it is highly suspect and presumably unreliable.\n",
    "\n",
    "The remainder of our analysis will be geared towards finding the basic reproduction numbers $R_0$ of different countries using the SIR model, and then using this $R_0$ value to compare countries based on the metrics listed in the introduction. The SIR model models the temporal behavior of an infectious outbreak through the equations\n",
    "\n",
    "\\begin{align}\n",
    "     \\frac{dS}{dt} &= - \\frac{\\beta I S}{N}, \\\\\n",
    "     \\frac{dI}{dt} &= \\frac{\\beta I S}{N} - \\gamma I, \\\\\n",
    "     \\frac{dR}{dt} &= \\gamma I,\n",
    "\\end{align}\n",
    "\n",
    "where\n",
    "\n",
    "+ $\\beta$, $\\gamma$ are constants\n",
    "+ $S$ is the size of the susceptible population\n",
    "+ $I$ is the size of the infected population\n",
    "+ $R$ is the size of the recovered population\n",
    "+ $N = S + I + R$ is total size of the population being considered\n",
    "\n",
    "The basic reproductive number $R_0$ is related to the constants $\\beta$ and $\\gamma$ through\n",
    "\n",
    "\\begin{equation}\n",
    "    R_0 = \\frac{\\beta}{\\gamma}\n",
    "    .\n",
    "\\end{equation}"
   ]
  },
  {
   "cell_type": "markdown",
   "metadata": {},
   "source": [
    "# Analysis"
   ]
  },
  {
   "cell_type": "markdown",
   "metadata": {},
   "source": [
    "## Fetching data"
   ]
  },
  {
   "cell_type": "markdown",
   "metadata": {},
   "source": [
    "Here, we'll fetch the latest COVID-19 data from John Hopkins CSSE."
   ]
  },
  {
   "cell_type": "code",
   "execution_count": null,
   "metadata": {},
   "outputs": [],
   "source": [
    "# URLs to fetch\n",
    "url_confirmed_csv = \"https://raw.githubusercontent.com/CSSEGISandData/COVID-19/master/csse_covid_19_data/csse_covid_19_time_series/time_series_covid19_confirmed_global.csv\"\n",
    "url_deaths_csv = \"https://raw.githubusercontent.com/CSSEGISandData/COVID-19/master/csse_covid_19_data/csse_covid_19_time_series/time_series_covid19_deaths_global.csv\"\n",
    "url_recovered_csv = \"https://raw.githubusercontent.com/CSSEGISandData/COVID-19/master/csse_covid_19_data/csse_covid_19_time_series/time_series_covid19_recovered_global.csv\""
   ]
  },
  {
   "cell_type": "code",
   "execution_count": null,
   "metadata": {},
   "outputs": [],
   "source": [
    "# Get data\n",
    "df_confirmed = pd.read_csv(url_confirmed_csv, sep=\",\")\n",
    "df_deaths = pd.read_csv(url_deaths_csv, sep=\",\")\n",
    "df_recovered = pd.read_csv(url_recovered_csv, sep=\",\")"
   ]
  },
  {
   "cell_type": "markdown",
   "metadata": {},
   "source": [
    "## Plotting confirmed cases, deaths, and recovered"
   ]
  },
  {
   "cell_type": "markdown",
   "metadata": {},
   "source": [
    "Now we'll plot the number of confirmed cases, death, and recovered for both China and the rest of the world (excluding China)."
   ]
  },
  {
   "cell_type": "markdown",
   "metadata": {},
   "source": [
    "### Confirmed cases"
   ]
  },
  {
   "cell_type": "code",
   "execution_count": null,
   "metadata": {},
   "outputs": [],
   "source": [
    "# Filter by China/rest of world\n",
    "df_confirmed_total_china = df_confirmed[df_confirmed[\"Country/Region\"].eq(\"China\")]\n",
    "df_confirmed_total_remaining = df_confirmed[~df_confirmed[\"Country/Region\"].eq(\"China\")]\n",
    "\n",
    "# Drop columns we don't need\n",
    "df_confirmed_total_china = df_confirmed_total_china.drop(\n",
    "    [\"Province/State\", \"Country/Region\", \"Lat\", \"Long\"], axis=1\n",
    ")\n",
    "df_confirmed_total_remaining = df_confirmed_total_remaining.drop(\n",
    "    [\"Province/State\", \"Country/Region\", \"Lat\", \"Long\"], axis=1\n",
    ")\n",
    "\n",
    "# Collapse all provinces/regions into single row\n",
    "df_confirmed_total_china = df_confirmed_total_china.sum(axis=0).to_frame(\"cases\")\n",
    "df_confirmed_total_remaining = df_confirmed_total_remaining.sum(axis=0).to_frame(\n",
    "    \"cases\"\n",
    ")\n",
    "\n",
    "# Move dates into a column\n",
    "df_confirmed_total_china.index.name = \"date\"\n",
    "df_confirmed_total_china.reset_index(inplace=True)\n",
    "\n",
    "df_confirmed_total_remaining.index.name = \"date\"\n",
    "df_confirmed_total_remaining.reset_index(inplace=True)\n",
    "\n",
    "# Parse dates to datetime\n",
    "df_confirmed_total_china.date = pd.to_datetime(df_confirmed_total_china.date)\n",
    "df_confirmed_total_remaining.date = pd.to_datetime(df_confirmed_total_remaining.date)"
   ]
  },
  {
   "cell_type": "code",
   "execution_count": null,
   "metadata": {
    "scrolled": false
   },
   "outputs": [],
   "source": [
    "fig, ax = plt.subplots()\n",
    "\n",
    "# Plot data\n",
    "ax.plot_date(\n",
    "    x=df_confirmed_total_china.date.values,\n",
    "    y=df_confirmed_total_china.cases.values,\n",
    "    fmt=\"-*\",\n",
    "    xdate=True,\n",
    ")\n",
    "ax.plot_date(\n",
    "    x=df_confirmed_total_remaining.date.values,\n",
    "    y=df_confirmed_total_remaining.cases.values,\n",
    "    fmt=\"-*\",\n",
    "    xdate=True,\n",
    ")\n",
    "\n",
    "# Add cosmetics\n",
    "ax.set_title(\"Confirmed COVID-19 cases\")\n",
    "ax.set_xlabel(\"date\")\n",
    "ax.set_ylabel(\"count\")\n",
    "ax.ticklabel_format(axis=\"y\", style=\"sci\", scilimits=(0, 0))\n",
    "\n",
    "ax.legend([\"China\", \"rest of the world\"])\n",
    "\n",
    "ax.grid(alpha=0.3)"
   ]
  },
  {
   "cell_type": "markdown",
   "metadata": {},
   "source": [
    "### Deaths"
   ]
  },
  {
   "cell_type": "code",
   "execution_count": null,
   "metadata": {},
   "outputs": [],
   "source": [
    "# Filter by China/rest of world\n",
    "df_deaths_total_china = df_deaths[df_deaths[\"Country/Region\"].eq(\"China\")]\n",
    "df_deaths_total_remaining = df_deaths[~df_deaths[\"Country/Region\"].eq(\"China\")]\n",
    "\n",
    "# Drop columns we don't need\n",
    "df_deaths_total_china = df_deaths_total_china.drop(\n",
    "    [\"Province/State\", \"Country/Region\", \"Lat\", \"Long\"], axis=1\n",
    ")\n",
    "df_deaths_total_remaining = df_deaths_total_remaining.drop(\n",
    "    [\"Province/State\", \"Country/Region\", \"Lat\", \"Long\"], axis=1\n",
    ")\n",
    "\n",
    "# Collapse all provinces/regions into single row\n",
    "df_deaths_total_china = df_deaths_total_china.sum(axis=0).to_frame(\"cases\")\n",
    "df_deaths_total_remaining = df_deaths_total_remaining.sum(axis=0).to_frame(\n",
    "    \"cases\"\n",
    ")\n",
    "\n",
    "# Move dates into a column\n",
    "df_deaths_total_china.index.name = \"date\"\n",
    "df_deaths_total_china.reset_index(inplace=True)\n",
    "\n",
    "df_deaths_total_remaining.index.name = \"date\"\n",
    "df_deaths_total_remaining.reset_index(inplace=True)\n",
    "\n",
    "# Parse dates to datetime\n",
    "df_deaths_total_china.date = pd.to_datetime(df_deaths_total_china.date)\n",
    "df_deaths_total_remaining.date = pd.to_datetime(df_deaths_total_remaining.date)"
   ]
  },
  {
   "cell_type": "code",
   "execution_count": null,
   "metadata": {
    "scrolled": false
   },
   "outputs": [],
   "source": [
    "fig, ax = plt.subplots()\n",
    "\n",
    "# Plot data\n",
    "ax.plot_date(\n",
    "    x=df_deaths_total_china.date.values,\n",
    "    y=df_deaths_total_china.cases.values,\n",
    "    fmt=\"-*\",\n",
    "    xdate=True,\n",
    ")\n",
    "ax.plot_date(\n",
    "    x=df_deaths_total_remaining.date.values,\n",
    "    y=df_deaths_total_remaining.cases.values,\n",
    "    fmt=\"-*\",\n",
    "    xdate=True,\n",
    ")\n",
    "\n",
    "# Add cosmetics\n",
    "ax.set_title(\"COVID-19 Deaths\")\n",
    "ax.set_xlabel(\"date\")\n",
    "ax.set_ylabel(\"count\")\n",
    "ax.ticklabel_format(axis=\"y\", style=\"sci\", scilimits=(0, 0))\n",
    "\n",
    "ax.legend([\"China\", \"rest of the world\"])\n",
    "\n",
    "ax.grid(alpha=0.3)"
   ]
  },
  {
   "cell_type": "markdown",
   "metadata": {},
   "source": [
    "### Recovered cases"
   ]
  },
  {
   "cell_type": "code",
   "execution_count": null,
   "metadata": {},
   "outputs": [],
   "source": [
    "# Filter by China/rest of world\n",
    "df_recovered_total_china = df_recovered[df_recovered[\"Country/Region\"].eq(\"China\")]\n",
    "df_recovered_total_remaining = df_recovered[~df_recovered[\"Country/Region\"].eq(\"China\")]\n",
    "\n",
    "# Drop columns we don't need\n",
    "df_recovered_total_china = df_recovered_total_china.drop(\n",
    "    [\"Province/State\", \"Country/Region\", \"Lat\", \"Long\"], axis=1\n",
    ")\n",
    "df_recovered_total_remaining = df_recovered_total_remaining.drop(\n",
    "    [\"Province/State\", \"Country/Region\", \"Lat\", \"Long\"], axis=1\n",
    ")\n",
    "\n",
    "# Collapse all provinces/regions into single row\n",
    "df_recovered_total_china = df_recovered_total_china.sum(axis=0).to_frame(\"cases\")\n",
    "df_recovered_total_remaining = df_recovered_total_remaining.sum(axis=0).to_frame(\n",
    "    \"cases\"\n",
    ")\n",
    "\n",
    "# Move dates into a column\n",
    "df_recovered_total_china.index.name = \"date\"\n",
    "df_recovered_total_china.reset_index(inplace=True)\n",
    "\n",
    "df_recovered_total_remaining.index.name = \"date\"\n",
    "df_recovered_total_remaining.reset_index(inplace=True)\n",
    "\n",
    "# Parse dates to datetime\n",
    "df_recovered_total_china.date = pd.to_datetime(df_recovered_total_china.date)\n",
    "df_recovered_total_remaining.date = pd.to_datetime(df_recovered_total_remaining.date)"
   ]
  },
  {
   "cell_type": "code",
   "execution_count": null,
   "metadata": {
    "scrolled": false
   },
   "outputs": [],
   "source": [
    "fig, ax = plt.subplots()\n",
    "\n",
    "# Plot data\n",
    "ax.plot_date(\n",
    "    x=df_recovered_total_china.date.values,\n",
    "    y=df_recovered_total_china.cases.values,\n",
    "    fmt=\"-*\",\n",
    "    xdate=True,\n",
    ")\n",
    "ax.plot_date(\n",
    "    x=df_recovered_total_remaining.date.values,\n",
    "    y=df_recovered_total_remaining.cases.values,\n",
    "    fmt=\"-*\",\n",
    "    xdate=True,\n",
    ")\n",
    "\n",
    "# Add cosmetics\n",
    "ax.set_title(\"Recovered COVID-19 cases\")\n",
    "ax.set_xlabel(\"date\")\n",
    "ax.set_ylabel(\"count\")\n",
    "ax.ticklabel_format(axis=\"y\", style=\"sci\", scilimits=(0, 0))\n",
    "\n",
    "ax.legend([\"China\", \"rest of the world\"])\n",
    "\n",
    "ax.grid(alpha=0.3)"
   ]
  },
  {
   "cell_type": "markdown",
   "metadata": {},
   "source": [
    "### Brief discussion of plots (on why China's data makes no sense)"
   ]
  },
  {
   "cell_type": "markdown",
   "metadata": {},
   "source": [
    "The above plots are pretty good justification to not even take China's data into consideration. The data shows that there was no exponential growth phase (including in Hubei province which contains Wuhan), which makes no sense given that they didn't immediately start quarantining."
   ]
  },
  {
   "cell_type": "markdown",
   "metadata": {},
   "source": [
    "## Fitting the world's data to an SIR model"
   ]
  },
  {
   "cell_type": "markdown",
   "metadata": {},
   "source": [
    "Now let's try to fit the world's data (excluding China) to the SIR model. For the purposes of the SIR model we will take\n",
    "\n",
    "+ susceptible = unknown\n",
    "+ infected = confirmed data - recovered data - deaths data\n",
    "+ recovered = recovered data + deaths data"
   ]
  },
  {
   "cell_type": "markdown",
   "metadata": {},
   "source": [
    "# Discussion"
   ]
  },
  {
   "cell_type": "markdown",
   "metadata": {},
   "source": [
    "TODO: add discussion and move this BELOW analysis"
   ]
  }
 ],
 "metadata": {
  "kernelspec": {
   "display_name": "Python 3",
   "language": "python",
   "name": "python3"
  },
  "language_info": {
   "codemirror_mode": {
    "name": "ipython",
    "version": 3
   },
   "file_extension": ".py",
   "mimetype": "text/x-python",
   "name": "python",
   "nbconvert_exporter": "python",
   "pygments_lexer": "ipython3",
   "version": "3.6.9"
  }
 },
 "nbformat": 4,
 "nbformat_minor": 2
}
