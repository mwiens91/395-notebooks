{
 "cells": [
  {
   "cell_type": "code",
   "execution_count": null,
   "metadata": {},
   "outputs": [],
   "source": [
    "%matplotlib inline"
   ]
  },
  {
   "cell_type": "code",
   "execution_count": null,
   "metadata": {
    "scrolled": true
   },
   "outputs": [],
   "source": [
    "import matplotlib.pyplot as plt\n",
    "import numpy as np\n",
    "import pandas as pd"
   ]
  },
  {
   "cell_type": "markdown",
   "metadata": {},
   "source": [
    "# Analysis of COVID-19 time series data\n",
    "\n",
    "**PHYS 395 project 1; **\n",
    "**Matt Wiens - #301294492**"
   ]
  },
  {
   "cell_type": "markdown",
   "metadata": {},
   "source": [
    "## Notebook setup "
   ]
  },
  {
   "cell_type": "markdown",
   "metadata": {},
   "source": [
    "The first command here sets the default figure size to be a bit larger than normal. The second command sets it so all figure output areas are expanded by default."
   ]
  },
  {
   "cell_type": "code",
   "execution_count": null,
   "metadata": {},
   "outputs": [],
   "source": [
    "# Set default plot size\n",
    "plt.rcParams[\"figure.figsize\"] = (12, 9)"
   ]
  },
  {
   "cell_type": "code",
   "execution_count": null,
   "metadata": {},
   "outputs": [],
   "source": [
    "%%javascript\n",
    "IPython.OutputArea.auto_scroll_threshold = 9999"
   ]
  },
  {
   "cell_type": "markdown",
   "metadata": {},
   "source": [
    "# Introduction"
   ]
  },
  {
   "cell_type": "markdown",
   "metadata": {},
   "source": [
    "TODO: Add short introduction here."
   ]
  },
  {
   "cell_type": "markdown",
   "metadata": {},
   "source": [
    "# Methods"
   ]
  },
  {
   "cell_type": "markdown",
   "metadata": {},
   "source": [
    "TODO: discuss methods"
   ]
  },
  {
   "cell_type": "markdown",
   "metadata": {},
   "source": [
    "# Discussion"
   ]
  },
  {
   "cell_type": "markdown",
   "metadata": {},
   "source": [
    "TODO: add discussion and move this BELOW analysis"
   ]
  },
  {
   "cell_type": "markdown",
   "metadata": {},
   "source": [
    "# Analysis"
   ]
  },
  {
   "cell_type": "markdown",
   "metadata": {},
   "source": [
    "## Fetching data"
   ]
  },
  {
   "cell_type": "markdown",
   "metadata": {},
   "source": [
    "Here, we'll fetch the latest COVID-19 data from John Hopkins CSSE."
   ]
  },
  {
   "cell_type": "code",
   "execution_count": null,
   "metadata": {},
   "outputs": [],
   "source": [
    "# URLs to fetch\n",
    "url_confirmed_csv = \"https://raw.githubusercontent.com/CSSEGISandData/COVID-19/master/csse_covid_19_data/csse_covid_19_time_series/time_series_covid19_confirmed_global.csv\"\n",
    "url_deaths_csv = \"https://raw.githubusercontent.com/CSSEGISandData/COVID-19/master/csse_covid_19_data/csse_covid_19_time_series/time_series_covid19_deaths_global.csv\"\n",
    "url_recovered_csv = \"https://raw.githubusercontent.com/CSSEGISandData/COVID-19/master/csse_covid_19_data/csse_covid_19_time_series/time_series_covid19_recovered_global.csv\""
   ]
  },
  {
   "cell_type": "code",
   "execution_count": null,
   "metadata": {},
   "outputs": [],
   "source": [
    "# Get data\n",
    "df_confirmed = pd.read_csv(url_confirmed_csv, sep=\",\")\n",
    "df_deaths = pd.read_csv(url_deaths_csv, sep=\",\")\n",
    "df_recovered = pd.read_csv(url_recovered_csv, sep=\",\")"
   ]
  },
  {
   "cell_type": "markdown",
   "metadata": {},
   "source": [
    "## Plotting confirmed cases, deaths, and recovered"
   ]
  },
  {
   "cell_type": "markdown",
   "metadata": {},
   "source": [
    "Now we'll plot the number of confirmed cases, death, and recovered for both China and the rest of the world (excluding China)."
   ]
  },
  {
   "cell_type": "markdown",
   "metadata": {},
   "source": [
    "### Confirmed cases"
   ]
  },
  {
   "cell_type": "code",
   "execution_count": null,
   "metadata": {},
   "outputs": [],
   "source": [
    "# Filter by China/rest of world\n",
    "df_confirmed_total_china = df_confirmed[df_confirmed[\"Country/Region\"].eq(\"China\")]\n",
    "df_confirmed_total_remaining = df_confirmed[~df_confirmed[\"Country/Region\"].eq(\"China\")]\n",
    "\n",
    "# Drop columns we don't need\n",
    "df_confirmed_total_china = df_confirmed_total_china.drop(\n",
    "    [\"Province/State\", \"Country/Region\", \"Lat\", \"Long\"], axis=1\n",
    ")\n",
    "df_confirmed_total_remaining = df_confirmed_total_remaining.drop(\n",
    "    [\"Province/State\", \"Country/Region\", \"Lat\", \"Long\"], axis=1\n",
    ")\n",
    "\n",
    "# Collapse all provinces/regions into single row\n",
    "df_confirmed_total_china = df_confirmed_total_china.sum(axis=0).to_frame(\"cases\")\n",
    "df_confirmed_total_remaining = df_confirmed_total_remaining.sum(axis=0).to_frame(\n",
    "    \"cases\"\n",
    ")\n",
    "\n",
    "# Move dates into a column\n",
    "df_confirmed_total_china.index.name = \"date\"\n",
    "df_confirmed_total_china.reset_index(inplace=True)\n",
    "\n",
    "df_confirmed_total_remaining.index.name = \"date\"\n",
    "df_confirmed_total_remaining.reset_index(inplace=True)\n",
    "\n",
    "# Parse dates to datetime\n",
    "df_confirmed_total_china.date = pd.to_datetime(df_confirmed_total_china.date)\n",
    "df_confirmed_total_remaining.date = pd.to_datetime(df_confirmed_total_remaining.date)"
   ]
  },
  {
   "cell_type": "code",
   "execution_count": null,
   "metadata": {
    "scrolled": false
   },
   "outputs": [],
   "source": [
    "fig, ax = plt.subplots()\n",
    "\n",
    "# Plot data\n",
    "ax.plot_date(\n",
    "    x=df_confirmed_total_china.date.values,\n",
    "    y=df_confirmed_total_china.cases.values,\n",
    "    fmt=\"-*\",\n",
    "    xdate=True,\n",
    ")\n",
    "ax.plot_date(\n",
    "    x=df_confirmed_total_remaining.date.values,\n",
    "    y=df_confirmed_total_remaining.cases.values,\n",
    "    fmt=\"-*\",\n",
    "    xdate=True,\n",
    ")\n",
    "\n",
    "# Add cosmetics\n",
    "ax.set_title(\"Confirmed COVID-19 cases\")\n",
    "ax.set_xlabel(\"date\")\n",
    "ax.set_ylabel(\"count\")\n",
    "ax.ticklabel_format(axis=\"y\", style=\"sci\", scilimits=(0, 0))\n",
    "\n",
    "ax.legend([\"China\", \"rest of the world\"])\n",
    "\n",
    "ax.grid(alpha=0.3)"
   ]
  },
  {
   "cell_type": "markdown",
   "metadata": {},
   "source": [
    "### Deaths"
   ]
  },
  {
   "cell_type": "code",
   "execution_count": null,
   "metadata": {},
   "outputs": [],
   "source": [
    "# Filter by China/rest of world\n",
    "df_deaths_total_china = df_deaths[df_deaths[\"Country/Region\"].eq(\"China\")]\n",
    "df_deaths_total_remaining = df_deaths[~df_deaths[\"Country/Region\"].eq(\"China\")]\n",
    "\n",
    "# Drop columns we don't need\n",
    "df_deaths_total_china = df_deaths_total_china.drop(\n",
    "    [\"Province/State\", \"Country/Region\", \"Lat\", \"Long\"], axis=1\n",
    ")\n",
    "df_deaths_total_remaining = df_deaths_total_remaining.drop(\n",
    "    [\"Province/State\", \"Country/Region\", \"Lat\", \"Long\"], axis=1\n",
    ")\n",
    "\n",
    "# Collapse all provinces/regions into single row\n",
    "df_deaths_total_china = df_deaths_total_china.sum(axis=0).to_frame(\"cases\")\n",
    "df_deaths_total_remaining = df_deaths_total_remaining.sum(axis=0).to_frame(\n",
    "    \"cases\"\n",
    ")\n",
    "\n",
    "# Move dates into a column\n",
    "df_deaths_total_china.index.name = \"date\"\n",
    "df_deaths_total_china.reset_index(inplace=True)\n",
    "\n",
    "df_deaths_total_remaining.index.name = \"date\"\n",
    "df_deaths_total_remaining.reset_index(inplace=True)\n",
    "\n",
    "# Parse dates to datetime\n",
    "df_deaths_total_china.date = pd.to_datetime(df_deaths_total_china.date)\n",
    "df_deaths_total_remaining.date = pd.to_datetime(df_deaths_total_remaining.date)"
   ]
  },
  {
   "cell_type": "code",
   "execution_count": null,
   "metadata": {
    "scrolled": false
   },
   "outputs": [],
   "source": [
    "fig, ax = plt.subplots()\n",
    "\n",
    "# Plot data\n",
    "ax.plot_date(\n",
    "    x=df_deaths_total_china.date.values,\n",
    "    y=df_deaths_total_china.cases.values,\n",
    "    fmt=\"-*\",\n",
    "    xdate=True,\n",
    ")\n",
    "ax.plot_date(\n",
    "    x=df_deaths_total_remaining.date.values,\n",
    "    y=df_deaths_total_remaining.cases.values,\n",
    "    fmt=\"-*\",\n",
    "    xdate=True,\n",
    ")\n",
    "\n",
    "# Add cosmetics\n",
    "ax.set_title(\"COVID-19 Deaths\")\n",
    "ax.set_xlabel(\"date\")\n",
    "ax.set_ylabel(\"count\")\n",
    "ax.ticklabel_format(axis=\"y\", style=\"sci\", scilimits=(0, 0))\n",
    "\n",
    "ax.legend([\"China\", \"rest of the world\"])\n",
    "\n",
    "ax.grid(alpha=0.3)"
   ]
  },
  {
   "cell_type": "markdown",
   "metadata": {},
   "source": [
    "### Recovered cases"
   ]
  },
  {
   "cell_type": "code",
   "execution_count": null,
   "metadata": {},
   "outputs": [],
   "source": [
    "# Filter by China/rest of world\n",
    "df_recovered_total_china = df_recovered[df_recovered[\"Country/Region\"].eq(\"China\")]\n",
    "df_recovered_total_remaining = df_recovered[~df_recovered[\"Country/Region\"].eq(\"China\")]\n",
    "\n",
    "# Drop columns we don't need\n",
    "df_recovered_total_china = df_recovered_total_china.drop(\n",
    "    [\"Province/State\", \"Country/Region\", \"Lat\", \"Long\"], axis=1\n",
    ")\n",
    "df_recovered_total_remaining = df_recovered_total_remaining.drop(\n",
    "    [\"Province/State\", \"Country/Region\", \"Lat\", \"Long\"], axis=1\n",
    ")\n",
    "\n",
    "# Collapse all provinces/regions into single row\n",
    "df_recovered_total_china = df_recovered_total_china.sum(axis=0).to_frame(\"cases\")\n",
    "df_recovered_total_remaining = df_recovered_total_remaining.sum(axis=0).to_frame(\n",
    "    \"cases\"\n",
    ")\n",
    "\n",
    "# Move dates into a column\n",
    "df_recovered_total_china.index.name = \"date\"\n",
    "df_recovered_total_china.reset_index(inplace=True)\n",
    "\n",
    "df_recovered_total_remaining.index.name = \"date\"\n",
    "df_recovered_total_remaining.reset_index(inplace=True)\n",
    "\n",
    "# Parse dates to datetime\n",
    "df_recovered_total_china.date = pd.to_datetime(df_recovered_total_china.date)\n",
    "df_recovered_total_remaining.date = pd.to_datetime(df_recovered_total_remaining.date)"
   ]
  },
  {
   "cell_type": "code",
   "execution_count": null,
   "metadata": {
    "scrolled": false
   },
   "outputs": [],
   "source": [
    "fig, ax = plt.subplots()\n",
    "\n",
    "# Plot data\n",
    "ax.plot_date(\n",
    "    x=df_recovered_total_china.date.values,\n",
    "    y=df_recovered_total_china.cases.values,\n",
    "    fmt=\"-*\",\n",
    "    xdate=True,\n",
    ")\n",
    "ax.plot_date(\n",
    "    x=df_recovered_total_remaining.date.values,\n",
    "    y=df_recovered_total_remaining.cases.values,\n",
    "    fmt=\"-*\",\n",
    "    xdate=True,\n",
    ")\n",
    "\n",
    "# Add cosmetics\n",
    "ax.set_title(\"Recovered COVID-19 cases\")\n",
    "ax.set_xlabel(\"date\")\n",
    "ax.set_ylabel(\"count\")\n",
    "ax.ticklabel_format(axis=\"y\", style=\"sci\", scilimits=(0, 0))\n",
    "\n",
    "ax.legend([\"China\", \"rest of the world\"])\n",
    "\n",
    "ax.grid(alpha=0.3)"
   ]
  }
 ],
 "metadata": {
  "kernelspec": {
   "display_name": "Python 3",
   "language": "python",
   "name": "python3"
  },
  "language_info": {
   "codemirror_mode": {
    "name": "ipython",
    "version": 3
   },
   "file_extension": ".py",
   "mimetype": "text/x-python",
   "name": "python",
   "nbconvert_exporter": "python",
   "pygments_lexer": "ipython3",
   "version": "3.6.9"
  }
 },
 "nbformat": 4,
 "nbformat_minor": 2
}
