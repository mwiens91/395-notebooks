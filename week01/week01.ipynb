{
 "cells": [
  {
   "cell_type": "code",
   "execution_count": null,
   "metadata": {
    "scrolled": true
   },
   "outputs": [],
   "source": [
    "import math\n",
    "import matplotlib.pyplot as plt\n",
    "import numpy as np\n",
    "import pandas as pd\n",
    "import seaborn as sns\n",
    "from tqdm import tqdm_notebook"
   ]
  },
  {
   "cell_type": "markdown",
   "metadata": {},
   "source": [
    "# PHYS 395 - week 1\n",
    "\n",
    "Matt Wiens - #301294492\n",
    "\n",
    "This notebook will be organized similarly to the lab script, with major headings corresponding to the headings on the lab script.\n",
    "\n",
    "The TA's name (Ignacio) will be shortened to \"IC\" whenever used."
   ]
  },
  {
   "cell_type": "markdown",
   "metadata": {},
   "source": [
    "## Setup"
   ]
  },
  {
   "cell_type": "code",
   "execution_count": null,
   "metadata": {
    "scrolled": true
   },
   "outputs": [],
   "source": [
    "# Set default plot size\n",
    "plt.rcParams['figure.figsize'] = (10, 7)"
   ]
  },
  {
   "cell_type": "code",
   "execution_count": null,
   "metadata": {},
   "outputs": [],
   "source": [
    "%%javascript\n",
    "IPython.OutputArea.auto_scroll_threshold = 9999;"
   ]
  },
  {
   "cell_type": "markdown",
   "metadata": {},
   "source": [
    "# Session 1"
   ]
  },
  {
   "cell_type": "markdown",
   "metadata": {},
   "source": [
    "# Introduction to Python and the Jupyter environment\n",
    "\n",
    "With permission from IC, I've used the import style I'm used to instead of `%pylab notebook`."
   ]
  },
  {
   "cell_type": "code",
   "execution_count": null,
   "metadata": {
    "scrolled": true
   },
   "outputs": [],
   "source": [
    "# Print \"hello world\"\n",
    "print(\"hello world\")"
   ]
  },
  {
   "cell_type": "code",
   "execution_count": null,
   "metadata": {
    "scrolled": true
   },
   "outputs": [],
   "source": [
    "# Print pi with numbers of significant digits\n",
    "for i in [3, 8, 16]:\n",
    "    # IC: is there a cleaner way of formatting than what I've done here?\n",
    "    print(\"%.*f\" % (i, math.pi))"
   ]
  },
  {
   "cell_type": "markdown",
   "metadata": {},
   "source": [
    "# Defining functions and plotting"
   ]
  },
  {
   "cell_type": "markdown",
   "metadata": {},
   "source": [
    "## Lennard Jones Potential\n",
    "\n",
    "The Lennard-Jones potential models interactions between pairs of neutral atoms or molecules. One equation for the Lennard-Jones potential $V_{\\text{LJ}}$ is\n",
    "\n",
    "\\begin{equation}\n",
    "    V_{\\text{LJ}} =\n",
    "        4 \\epsilon\n",
    "        \\left(\n",
    "            \\left(\\frac{\\sigma}{r}\\right)^{12} - \\left(\\frac{\\sigma}{r}\\right)^6 \n",
    "        \\right),\n",
    "\\end{equation}\n",
    "\n",
    "where $\\epsilon$ is the depth of the potential well, $\\sigma$ is the finite distance at which the inter-particle potential is zero, and $r$ is the distance between the particles."
   ]
  },
  {
   "cell_type": "markdown",
   "metadata": {},
   "source": [
    "Note that if we express the distance between particles $r$ in terms of $\\sigma$ we can remove the $\\sigma$ parameter above.\n",
    "\n",
    "The first function below gives the LJ potential with $r$ and $\\sigma$ having the same units of length. The second function gives the LJ potential where $r$ is expressed in terms of $\\sigma$ (and hence does not requre $\\sigma$ as an argument)."
   ]
  },
  {
   "cell_type": "code",
   "execution_count": null,
   "metadata": {
    "scrolled": true
   },
   "outputs": [],
   "source": [
    "def lj_potential_1(r: float, sigma: float, eps: float):\n",
    "    \"\"\"Computes the L-J potential.\n",
    "\n",
    "    r and sigma must be expressed in the same units of length.\n",
    "    \"\"\"\n",
    "    l = sigma / r\n",
    "\n",
    "    return 4 * eps * (l ** 12 - l ** 6)\n",
    "\n",
    "\n",
    "def lj_potential_2(r: float, eps: float):\n",
    "    \"\"\"Computes the L-J potential.\n",
    "\n",
    "    r must be expressed in terms of sigma.\n",
    "    \"\"\"\n",
    "    return lj_potential_1(r, 1, eps)"
   ]
  },
  {
   "cell_type": "markdown",
   "metadata": {},
   "source": [
    "## Plotting the LJ potential\n",
    "\n",
    "First we will plot with $\\epsilon = 1$, then we will plot with multiple values of $\\epsilon$."
   ]
  },
  {
   "cell_type": "code",
   "execution_count": null,
   "metadata": {
    "scrolled": true
   },
   "outputs": [],
   "source": [
    "# Note: these values are expressed in terms of sigma\n",
    "r_vals = np.linspace(0.99, 15, 500)"
   ]
  },
  {
   "cell_type": "code",
   "execution_count": null,
   "metadata": {
    "scrolled": false
   },
   "outputs": [],
   "source": [
    "fig = plt.plot(r_vals, [lj_potential_2(r, 1) for r in r_vals])"
   ]
  },
  {
   "cell_type": "markdown",
   "metadata": {},
   "source": [
    "Now we'll plot with different values of $\\epsilon$. We'll keep using the same $r$ values as above."
   ]
  },
  {
   "cell_type": "code",
   "execution_count": null,
   "metadata": {
    "scrolled": true
   },
   "outputs": [],
   "source": [
    "eps_vals = range(1, 4)"
   ]
  },
  {
   "cell_type": "code",
   "execution_count": null,
   "metadata": {},
   "outputs": [],
   "source": [
    "fig = plt.figure()\n",
    "\n",
    "# Plot\n",
    "for eps in eps_vals:\n",
    "    plt.plot(r_vals, [lj_potential_2(r, eps) for r in r_vals])\n",
    "\n",
    "# Legend\n",
    "ax = fig.axes[0]\n",
    "ax.legend([r\"$\\epsilon$ = %d\" % eps for eps in eps_vals])\n",
    "\n",
    "# Labels\n",
    "ax.set_xlabel(r\"$r$/$\\sigma$\")\n",
    "ax.set_ylabel(r\"V/$\\epsilon$\")\n",
    "\n",
    "# Save the figure\n",
    "fig.savefig('ljplot.png', bbox_inches='tight')"
   ]
  },
  {
   "cell_type": "markdown",
   "metadata": {},
   "source": [
    "# Reading in data"
   ]
  },
  {
   "cell_type": "markdown",
   "metadata": {},
   "source": [
    "## Trajectory analysis"
   ]
  },
  {
   "cell_type": "markdown",
   "metadata": {},
   "source": [
    "The data provided has many snapshots of a droid's position (in metres). Snapshots were taken every second."
   ]
  },
  {
   "cell_type": "code",
   "execution_count": null,
   "metadata": {
    "scrolled": true
   },
   "outputs": [],
   "source": [
    "# Read in CSV to a dataframe\n",
    "relative_file_path = \"droid_traj.csv\"\n",
    "\n",
    "df = pd.read_csv(relative_file_path, names=[\"x\", \"y\"])"
   ]
  },
  {
   "cell_type": "markdown",
   "metadata": {},
   "source": [
    "The data loaded in is contained in a Pandas dataframe which has 250 rows and 2 columns."
   ]
  },
  {
   "cell_type": "code",
   "execution_count": null,
   "metadata": {
    "scrolled": true
   },
   "outputs": [],
   "source": [
    "num_rows, num_cols = df.shape\n",
    "\n",
    "print(\"rows: %d; cols: %d\" % (num_rows, num_cols))"
   ]
  },
  {
   "cell_type": "markdown",
   "metadata": {},
   "source": [
    "## Plotting the trajectory"
   ]
  },
  {
   "cell_type": "code",
   "execution_count": null,
   "metadata": {
    "scrolled": false
   },
   "outputs": [],
   "source": [
    "ax = df.plot.scatter(x=\"x\", y=\"y\")"
   ]
  },
  {
   "cell_type": "markdown",
   "metadata": {},
   "source": [
    "## Path length\n",
    "\n",
    "We will now calculate the path length traversed for each second. The path lengths will be stored in an array, where the indices correspond to the time (0-indexed)."
   ]
  },
  {
   "cell_type": "code",
   "execution_count": null,
   "metadata": {
    "scrolled": true
   },
   "outputs": [],
   "source": [
    "path_lengths = np.zeros(num_rows)\n",
    "\n",
    "for t in range(1, num_rows):\n",
    "    path_lengths[t] = path_lengths[t - 1] + np.linalg.norm(df.iloc[t] - df.iloc[t - 1])\n",
    "\n",
    "# Also create a function for this, as an alternative interface\n",
    "def s(t: int):\n",
    "    \"\"\"Returns path length traversed at time t (0-indexed).\"\"\"\n",
    "    return path_lengths[t]"
   ]
  },
  {
   "cell_type": "markdown",
   "metadata": {},
   "source": [
    "The total path length is approximately 129 units."
   ]
  },
  {
   "cell_type": "code",
   "execution_count": null,
   "metadata": {},
   "outputs": [],
   "source": [
    "print(path_lengths[-1])"
   ]
  },
  {
   "cell_type": "markdown",
   "metadata": {},
   "source": [
    "## Speed\n",
    "\n",
    "We will now estimate the speed of the droid at each second (we will assume the droid starts at rest). Since the time step between each data point is a second, we can simply take the difference of the path lengths."
   ]
  },
  {
   "cell_type": "code",
   "execution_count": null,
   "metadata": {
    "scrolled": true
   },
   "outputs": [],
   "source": [
    "speeds = np.zeros(num_rows)\n",
    "\n",
    "for t in range(1, num_rows):\n",
    "    speeds[t] = s(t) - s(t - 1)\n",
    "\n",
    "# Again we'll define a function for this\n",
    "def v(t: int):\n",
    "    \"\"\"Returns estimated speed at time t (0-indexed).\"\"\"\n",
    "    return speeds[t]"
   ]
  },
  {
   "cell_type": "markdown",
   "metadata": {},
   "source": [
    "## Tangential acceleration\n",
    "\n",
    "We will now estimate the tangential acceleration of the droid at each second."
   ]
  },
  {
   "cell_type": "code",
   "execution_count": null,
   "metadata": {},
   "outputs": [],
   "source": [
    "accels = np.zeros(num_rows)\n",
    "\n",
    "for t in range(1, num_rows):\n",
    "    accels[t] = v(t) - v(t - 1)\n",
    "\n",
    "def a(t: int):\n",
    "    \"\"\"Returns estimated acceleration at time t (0-indexed).\"\"\"\n",
    "    return accels[t]"
   ]
  },
  {
   "cell_type": "markdown",
   "metadata": {},
   "source": [
    "## Plotting path length, speed, and tangential acceleration"
   ]
  },
  {
   "cell_type": "code",
   "execution_count": null,
   "metadata": {},
   "outputs": [],
   "source": [
    "# Create figure and axes\n",
    "fig, (ax1, ax2, ax3) = plt.subplots(3, 1)\n",
    "fig.set_size_inches(10, 15)\n",
    "fig.subplots_adjust(hspace=0.25)\n",
    "\n",
    "# Add titles\n",
    "ax1.title.set_text(\"path length\")\n",
    "ax2.title.set_text(\"speed\")\n",
    "ax3.title.set_text(\"tangential acceleration\")\n",
    "\n",
    "# Add labels\n",
    "for ax in (ax1, ax2, ax3):\n",
    "    ax.set_xlabel(r\"$t$ (s)\")\n",
    "    ax.xaxis.set_label_coords(0.5, -0.05)\n",
    "\n",
    "ax1.set_ylabel(\"m\")\n",
    "ax2.set_ylabel(\"m/s\")\n",
    "ax3.set_ylabel(r\"m/$\\mathrm{s}^2$\")\n",
    "\n",
    "# Plot\n",
    "ts = list(range(num_rows))\n",
    "ax1.plot(ts, path_lengths)\n",
    "ax2.plot(ts, speeds)\n",
    "ax3.plot(ts, accels)\n",
    "\n",
    "# Tighten x-axis limits\n",
    "for ax in (ax1, ax2, ax3):\n",
    "    ax.set_xlim(0, num_rows)"
   ]
  },
  {
   "cell_type": "markdown",
   "metadata": {},
   "source": [
    "# Session 1 Homework"
   ]
  },
  {
   "cell_type": "markdown",
   "metadata": {},
   "source": [
    "## 1. Trajectory coloured by tangential acceleration\n",
    "\n",
    "Since I assumed the droid started at rest, I will only plot the trajectory starting from the position of the 2nd data point. This removes the extreme acceleration at the beginning, so that we have a greater range of colours for the remainder of the trajectory."
   ]
  },
  {
   "cell_type": "code",
   "execution_count": null,
   "metadata": {},
   "outputs": [],
   "source": [
    "# Trim the dataset\n",
    "df_trimmed = df.drop(np.arange(0, 3))\n",
    "df_trimmed[\"accel\"] = accels[3:]"
   ]
  },
  {
   "cell_type": "code",
   "execution_count": null,
   "metadata": {},
   "outputs": [],
   "source": [
    "# Plot\n",
    "ax = plt.scatter(\n",
    "    x=df_trimmed[\"x\"],\n",
    "    y=df_trimmed[\"y\"],\n",
    "    c=df_trimmed[\"accel\"],\n",
    "    cmap=\"viridis\"\n",
    ")\n",
    "\n",
    "plt.colorbar(ax);"
   ]
  },
  {
   "cell_type": "markdown",
   "metadata": {},
   "source": [
    "## 2. Centripedal acceleration\n",
    "\n",
    "Not sure how to do this yet."
   ]
  }
 ],
 "metadata": {
  "kernelspec": {
   "display_name": "Python 3",
   "language": "python",
   "name": "python3"
  },
  "language_info": {
   "codemirror_mode": {
    "name": "ipython",
    "version": 3
   },
   "file_extension": ".py",
   "mimetype": "text/x-python",
   "name": "python",
   "nbconvert_exporter": "python",
   "pygments_lexer": "ipython3",
   "version": "3.8.1"
  }
 },
 "nbformat": 4,
 "nbformat_minor": 2
}
