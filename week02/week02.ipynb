{
 "cells": [
  {
   "cell_type": "code",
   "execution_count": null,
   "metadata": {},
   "outputs": [],
   "source": [
    "%matplotlib inline"
   ]
  },
  {
   "cell_type": "code",
   "execution_count": null,
   "metadata": {
    "scrolled": true
   },
   "outputs": [],
   "source": [
    "import matplotlib.pyplot as plt\n",
    "import numpy as np\n",
    "import pandas as pd"
   ]
  },
  {
   "cell_type": "markdown",
   "metadata": {},
   "source": [
    "# PHYS 395 - week 2\n",
    "\n",
    "**Matt Wiens - #301294492**\n",
    "\n",
    "This notebook will be organized similarly to the lab script, with major headings corresponding to the headings on the lab script.\n",
    "\n",
    "*The TA's name (Ignacio) will be shortened to \"IC\" whenever used.*"
   ]
  },
  {
   "cell_type": "markdown",
   "metadata": {},
   "source": [
    "## Setup"
   ]
  },
  {
   "cell_type": "code",
   "execution_count": null,
   "metadata": {
    "scrolled": true
   },
   "outputs": [],
   "source": [
    "# Set default plot size\n",
    "plt.rcParams[\"figure.figsize\"] = (10, 7)"
   ]
  },
  {
   "cell_type": "code",
   "execution_count": null,
   "metadata": {},
   "outputs": [],
   "source": [
    "%%javascript\n",
    "IPython.OutputArea.auto_scroll_threshold = 9999"
   ]
  },
  {
   "cell_type": "markdown",
   "metadata": {},
   "source": [
    "# Session 1"
   ]
  },
  {
   "cell_type": "markdown",
   "metadata": {},
   "source": [
    "# Numerical error homework"
   ]
  },
  {
   "cell_type": "markdown",
   "metadata": {},
   "source": [
    "Add stuff here"
   ]
  },
  {
   "cell_type": "markdown",
   "metadata": {},
   "source": [
    "# Numerical integration "
   ]
  },
  {
   "cell_type": "markdown",
   "metadata": {},
   "source": [
    "Our goal in this section will be to investigate how we can approximate integrals according to different \"rules\".    "
   ]
  },
  {
   "cell_type": "markdown",
   "metadata": {},
   "source": [
    "## Simple rule\n",
    "\n",
    "Consider some function $f$ defined on an interval $[a, b]$. A simple rule to approximate the integral of $f$ over this interval is to take $N + 1$ evenly spaced points along the interval $\\{x_1, x_2, \\ldots, x_{N + 1}\\}$ and then add up the area of the rectangles induced by these points (see the picture in the lab script). Note that we always have $x_1 = a$ and $x_N = b$. This gives us the following approximation:\n",
    "\n",
    "\\begin{equation}\n",
    "    \\int_a^b f(x) dx \\approx \\sum_{i = 1}^N f(x_i) h\n",
    "    ,\n",
    "\\end{equation}\n",
    "\n",
    "where $h$ is the width of each rectangle given by\n",
    "\n",
    "\\begin{equation}\n",
    "    h = \\frac{b - a}{N}\n",
    "    .\n",
    "\\end{equation}"
   ]
  },
  {
   "cell_type": "code",
   "execution_count": null,
   "metadata": {},
   "outputs": [],
   "source": [
    "def integrate_left_reimann(y: np.ndarray, h: float):\n",
    "    \"\"\"Approximates an integral using the left Reimann sum.\"\"\"\n",
    "    return np.sum(y * h)"
   ]
  },
  {
   "cell_type": "markdown",
   "metadata": {},
   "source": [
    "Now we will approximate the integral of $\\sin(x)$ over $[0, \\frac{\\pi}{2}]$ using logarithmically spaced values of $N$. We will plot the absolute error as a function of the bin width $h$."
   ]
  },
  {
   "cell_type": "code",
   "execution_count": null,
   "metadata": {},
   "outputs": [],
   "source": [
    "# Generate a number of N values and the corresponding h values\n",
    "num_ns = 50\n",
    "\n",
    "# We need to be a little careful since we want the N values to\n",
    "# be logarithmically space, but we also require that each N is an integer.\n",
    "n_vals = np.round(np.logspace(1, 6, num_ns)).astype(int)\n",
    "h_vals = np.pi / (2 * n_vals)"
   ]
  },
  {
   "cell_type": "markdown",
   "metadata": {},
   "source": [
    "Before we plot the absolute errors, note that\n",
    "\n",
    "\\begin{equation}\n",
    "    \\int_0^{\\frac{\\pi}{2}} \\sin(x) dx = 1\n",
    "    .\n",
    "\\end{equation}"
   ]
  },
  {
   "cell_type": "code",
   "execution_count": null,
   "metadata": {},
   "outputs": [],
   "source": [
    "# For each N value calculate the absolute error\n",
    "errors = np.zeros(num_ns)\n",
    "\n",
    "for idx, n in enumerate(n_vals):\n",
    "    xs = np.linspace(0, np.pi / 2, n + 1)\n",
    "    ys = np.sin(xs)\n",
    "\n",
    "    errors[idx] = abs(1 - integrate_left_reimann(ys, np.pi / (2 * n)))"
   ]
  },
  {
   "cell_type": "code",
   "execution_count": null,
   "metadata": {},
   "outputs": [],
   "source": [
    "# Make a scatter plot\n",
    "_, ax = plt.subplots()\n",
    "\n",
    "plt.loglog(h_vals, errors, \"o\")\n",
    "\n",
    "# Labels\n",
    "ax.set_xlabel(r\"$h$\")\n",
    "ax.set_ylabel(\"abs error\");"
   ]
  },
  {
   "cell_type": "markdown",
   "metadata": {},
   "source": [
    "Here we see a linear relationship in the log-log plot. This means that the error E is related to $h$ through some relationship of the form\n",
    "\n",
    "\\begin{equation}\n",
    "    E = A h^\\alpha\n",
    "    .\n",
    "\\end{equation}\n",
    "\n",
    "This is because a linear relationship in log-log can be expressed as\n",
    "\n",
    "\\begin{align}\n",
    "    &\\log E = \\alpha \\log h + \\log A \\\\\n",
    "    &\\Rightarrow \\log E = \\log \\left( A h^\\alpha \\right) \\\\\n",
    "    &\\Rightarrow E = A h^\\alpha\n",
    "    .\n",
    "\\end{align}\n",
    "\n",
    "By inspection, I would guess that $\\alpha = 1$ and $A = 1$."
   ]
  },
  {
   "cell_type": "code",
   "execution_count": null,
   "metadata": {},
   "outputs": [],
   "source": []
  }
 ],
 "metadata": {
  "kernelspec": {
   "display_name": "Python 3",
   "language": "python",
   "name": "python3"
  },
  "language_info": {
   "codemirror_mode": {
    "name": "ipython",
    "version": 3
   },
   "file_extension": ".py",
   "mimetype": "text/x-python",
   "name": "python",
   "nbconvert_exporter": "python",
   "pygments_lexer": "ipython3",
   "version": "3.8.1"
  }
 },
 "nbformat": 4,
 "nbformat_minor": 2
}
