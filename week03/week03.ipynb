{
 "cells": [
  {
   "cell_type": "code",
   "execution_count": null,
   "metadata": {},
   "outputs": [],
   "source": [
    "%matplotlib inline"
   ]
  },
  {
   "cell_type": "code",
   "execution_count": null,
   "metadata": {
    "scrolled": true
   },
   "outputs": [],
   "source": [
    "import matplotlib.pyplot as plt\n",
    "import numpy as np\n",
    "import pandas as pd"
   ]
  },
  {
   "cell_type": "markdown",
   "metadata": {},
   "source": [
    "# PHYS 395 - week 3\n",
    "\n",
    "**Matt Wiens - #301294492**\n",
    "\n",
    "This notebook will be organized similarly to the lab script, with major headings corresponding to the headings on the lab script.\n",
    "\n",
    "*The TA's name (Ignacio) will be shortened to \"IC\" whenever used.*"
   ]
  },
  {
   "cell_type": "markdown",
   "metadata": {},
   "source": [
    "## Setup"
   ]
  },
  {
   "cell_type": "code",
   "execution_count": null,
   "metadata": {
    "scrolled": true
   },
   "outputs": [],
   "source": [
    "# Set default plot size\n",
    "plt.rcParams[\"figure.figsize\"] = (10, 7)"
   ]
  },
  {
   "cell_type": "code",
   "execution_count": null,
   "metadata": {},
   "outputs": [],
   "source": [
    "%%javascript\n",
    "IPython.OutputArea.auto_scroll_threshold = 9999"
   ]
  },
  {
   "cell_type": "markdown",
   "metadata": {},
   "source": [
    "# Molecular dynamics"
   ]
  },
  {
   "cell_type": "markdown",
   "metadata": {},
   "source": [
    "We're going to use some principle from molecular dynamics (MD), but instead of simulating many particles we're going to keep it simple and only simulate a few."
   ]
  },
  {
   "cell_type": "markdown",
   "metadata": {},
   "source": [
    "## Verlet algorithm"
   ]
  },
  {
   "cell_type": "markdown",
   "metadata": {},
   "source": [
    "Given initial data $r_i(0), v_i(0), a_i(0)$, using the Verlet algorithm we can calculate the first update in position using\n",
    "\n",
    "\\begin{equation}\n",
    "    r_i(\\Delta t) = r_i(0) + v_i(0) \\Delta t + \\frac{1}{2} a_i(0) \\Delta t^2\n",
    "    ,\n",
    "\\end{equation}\n",
    "\n",
    "and subsequent changes in position using\n",
    "\n",
    "\\begin{equation}\n",
    "    r_i(t + \\Delta t) = 2 r_i(t) - r_i(t - \\Delta t) + a_i(t) \\Delta t^2\n",
    "    ,\n",
    "\\end{equation}\n",
    "\n",
    "where $r_i, v_i, a_i$ are understood to be vector quantities."
   ]
  },
  {
   "cell_type": "markdown",
   "metadata": {},
   "source": [
    "The first equation above should be self-explanatory. The second equation we can derive by making use of Taylor series:\n",
    "\n",
    "\\begin{equation}\n",
    "    r_i(t \\pm \\Delta t)\n",
    "        = r_i(t)\n",
    "            \\pm r_i^\\prime(t) \\Delta t\n",
    "            + \\frac{1}{2} r_i^{\\prime\\prime}(t) \\Delta t ^2\n",
    "            \\pm \\frac{1}{6} r_i^{\\prime\\prime\\prime}(t) \\Delta t^3\n",
    "            + \\mathcal{O}(\\Delta t^4)\n",
    "            .\n",
    "\\end{equation}\n",
    "\n",
    "Thus\n",
    "\n",
    "\\begin{align}\n",
    "    r_i(t + \\Delta t)\n",
    "        &= r_i(t)\n",
    "            + r_i^\\prime(t) \\Delta t\n",
    "            + \\frac{1}{2} r_i^{\\prime\\prime}(t) \\Delta t ^2\n",
    "            + \\frac{1}{6} r_i^{\\prime\\prime\\prime}(t) \\Delta t^3\n",
    "            + \\mathcal{O}(\\Delta t^4) \\\\\n",
    "        &= 2 r_i(t)\n",
    "            + r_i^{\\prime\\prime}(t) \\Delta t ^2\n",
    "            - \\left(\n",
    "                r_i(t)\n",
    "                - r_i^\\prime(t) \\Delta t\n",
    "                + \\frac{1}{2} r_i^{\\prime\\prime}(t) \\Delta t ^2\n",
    "                - \\frac{1}{6} r_i^{\\prime\\prime\\prime}(t) \\Delta t^3\n",
    "            \\right)\n",
    "            + \\mathcal{O}(\\Delta t^4) \\\\\n",
    "        &= 2 r_i(t)\n",
    "            + r_i^{\\prime\\prime}(t) \\Delta t ^2\n",
    "            - r_i(t - \\Delta t)\n",
    "            + \\mathcal{O}(\\Delta t^4) \\\\          \n",
    "        &= 2 r_i(t)\n",
    "            - r_i(t - \\Delta t)\n",
    "            + a_i(t) \\Delta t ^2\n",
    "            + \\mathcal{O}(\\Delta t^4)\n",
    "        .\n",
    "\\end{align}\n",
    "\n",
    "As we can see, this is good to $\\mathcal{O}(\\Delta t^4)$. (Note that the above derivation is equivalent to one using finite-difference methods, since those are based on Taylor series anyway.)"
   ]
  },
  {
   "cell_type": "markdown",
   "metadata": {},
   "source": [
    "Let's write two functions that implement the Verlet algorithm functions."
   ]
  },
  {
   "cell_type": "code",
   "execution_count": null,
   "metadata": {},
   "outputs": [],
   "source": [
    "def verlet_1(r: np.ndarray, v: np.ndarray, a: np.ndarray, dt: float) -> np.ndarray:\n",
    "    \"\"\"Implements the first Verlet algorithm equation.\"\"\"\n",
    "    return r + dt * v + dt ** 2 / 2 * a\n",
    "\n",
    "def verlet_2(r_1: np.ndarray, r_2: np.ndarray, a: np.ndarray, dt: float) -> np.ndarray:\n",
    "    \"\"\"Implements the second Verlet algorithm equation.\n",
    "    \n",
    "    Note that the input parameter r_1 specifies the position at time t,\n",
    "    while the input parameter r_2 specifies the position at time t - dt.\n",
    "    \"\"\"\n",
    "    return 2 * r_1 - r_2 + dt ** 2 * a"
   ]
  },
  {
   "cell_type": "markdown",
   "metadata": {},
   "source": [
    "Let's test to make sure our functions do what they should do."
   ]
  },
  {
   "cell_type": "code",
   "execution_count": null,
   "metadata": {},
   "outputs": [],
   "source": [
    "# Set up initial data\n",
    "init_pos = np.array([0, 3])\n",
    "init_vel = np.array([1, 5])\n",
    "\n",
    "# These are constant\n",
    "accel = np.array([0, -9.8])\n",
    "dt = 0.1"
   ]
  },
  {
   "cell_type": "code",
   "execution_count": null,
   "metadata": {},
   "outputs": [],
   "source": [
    "# Test\n",
    "num_iters = 20\n",
    "\n",
    "t = 0\n",
    "last_pos = init_pos\n",
    "pos = init_pos\n",
    "\n",
    "print_test = lambda r, t: print(\"t=%.2f\\tx=%.2f\\ty=%.2f\" % (t, r[0], r[1]))\n",
    "\n",
    "# 0th iter\n",
    "print_test(pos, t)\n",
    "\n",
    "# 1st iter\n",
    "pos = verlet_1(pos, init_vel, accel, dt)\n",
    "t += dt\n",
    "\n",
    "print_test(pos, t)\n",
    "\n",
    "# Remaining iters\n",
    "for _ in range(num_iters - 1):\n",
    "    pos, last_pos = (verlet_2(pos, last_pos, accel, dt), pos)\n",
    "    t += dt\n",
    "    \n",
    "    print_test(pos, t)"
   ]
  }
 ],
 "metadata": {
  "kernelspec": {
   "display_name": "Python 3",
   "language": "python",
   "name": "python3"
  },
  "language_info": {
   "codemirror_mode": {
    "name": "ipython",
    "version": 3
   },
   "file_extension": ".py",
   "mimetype": "text/x-python",
   "name": "python",
   "nbconvert_exporter": "python",
   "pygments_lexer": "ipython3",
   "version": "3.8.1"
  }
 },
 "nbformat": 4,
 "nbformat_minor": 2
}
