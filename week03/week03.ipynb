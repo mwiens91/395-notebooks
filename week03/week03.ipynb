{
 "cells": [
  {
   "cell_type": "code",
   "execution_count": null,
   "metadata": {},
   "outputs": [],
   "source": [
    "%matplotlib inline"
   ]
  },
  {
   "cell_type": "code",
   "execution_count": null,
   "metadata": {
    "scrolled": true
   },
   "outputs": [],
   "source": [
    "import math\n",
    "from typing import Tuple\n",
    "import matplotlib.pyplot as plt\n",
    "import numpy as np\n",
    "from tqdm import tqdm_notebook as tqdm"
   ]
  },
  {
   "cell_type": "markdown",
   "metadata": {},
   "source": [
    "# PHYS 395 - week 3\n",
    "\n",
    "**Matt Wiens - #301294492**\n",
    "\n",
    "This notebook will be organized similarly to the lab script, with major headings corresponding to the headings on the lab script.\n",
    "\n",
    "*The TA's name (Ignacio) will be shortened to \"IC\" whenever used.*"
   ]
  },
  {
   "cell_type": "markdown",
   "metadata": {},
   "source": [
    "## Setup"
   ]
  },
  {
   "cell_type": "code",
   "execution_count": null,
   "metadata": {
    "scrolled": true
   },
   "outputs": [],
   "source": [
    "# Set default plot size\n",
    "plt.rcParams[\"figure.figsize\"] = (10, 7)"
   ]
  },
  {
   "cell_type": "code",
   "execution_count": null,
   "metadata": {},
   "outputs": [],
   "source": [
    "%%javascript\n",
    "IPython.OutputArea.auto_scroll_threshold = 9999"
   ]
  },
  {
   "cell_type": "markdown",
   "metadata": {},
   "source": [
    "# Molecular dynamics"
   ]
  },
  {
   "cell_type": "markdown",
   "metadata": {},
   "source": [
    "We're going to use some principle from molecular dynamics (MD), but instead of simulating many particles we're going to keep it simple and only simulate a few."
   ]
  },
  {
   "cell_type": "markdown",
   "metadata": {},
   "source": [
    "## Verlet algorithm"
   ]
  },
  {
   "cell_type": "markdown",
   "metadata": {},
   "source": [
    "Given initial data $r_i(0), v_i(0), a_i(0)$, using the Verlet algorithm we can calculate the first update in position using\n",
    "\n",
    "\\begin{equation}\n",
    "    r_i(\\Delta t) = r_i(0) + v_i(0) \\Delta t + \\frac{1}{2} a_i(0) \\Delta t^2\n",
    "    ,\n",
    "\\end{equation}\n",
    "\n",
    "and subsequent changes in position using\n",
    "\n",
    "\\begin{equation}\n",
    "    r_i(t + \\Delta t) = 2 r_i(t) - r_i(t - \\Delta t) + a_i(t) \\Delta t^2\n",
    "    ,\n",
    "\\end{equation}\n",
    "\n",
    "where $r_i, v_i, a_i$ are understood to be vector quantities."
   ]
  },
  {
   "cell_type": "markdown",
   "metadata": {},
   "source": [
    "The first equation above should be self-explanatory. The second equation we can derive by making use of Taylor series:\n",
    "\n",
    "\\begin{equation}\n",
    "    r_i(t \\pm \\Delta t)\n",
    "        = r_i(t)\n",
    "            \\pm r_i^\\prime(t) \\Delta t\n",
    "            + \\frac{1}{2} r_i^{\\prime\\prime}(t) \\Delta t ^2\n",
    "            \\pm \\frac{1}{6} r_i^{\\prime\\prime\\prime}(t) \\Delta t^3\n",
    "            + \\mathcal{O}(\\Delta t^4)\n",
    "            .\n",
    "\\end{equation}\n",
    "\n",
    "Thus\n",
    "\n",
    "\\begin{align}\n",
    "    r_i(t + \\Delta t)\n",
    "        &= r_i(t)\n",
    "            + r_i^\\prime(t) \\Delta t\n",
    "            + \\frac{1}{2} r_i^{\\prime\\prime}(t) \\Delta t ^2\n",
    "            + \\frac{1}{6} r_i^{\\prime\\prime\\prime}(t) \\Delta t^3\n",
    "            + \\mathcal{O}(\\Delta t^4) \\\\\n",
    "        &= 2 r_i(t)\n",
    "            + r_i^{\\prime\\prime}(t) \\Delta t ^2\n",
    "            - \\left(\n",
    "                r_i(t)\n",
    "                - r_i^\\prime(t) \\Delta t\n",
    "                + \\frac{1}{2} r_i^{\\prime\\prime}(t) \\Delta t ^2\n",
    "                - \\frac{1}{6} r_i^{\\prime\\prime\\prime}(t) \\Delta t^3\n",
    "            \\right)\n",
    "            + \\mathcal{O}(\\Delta t^4) \\\\\n",
    "        &= 2 r_i(t)\n",
    "            + r_i^{\\prime\\prime}(t) \\Delta t ^2\n",
    "            - r_i(t - \\Delta t)\n",
    "            + \\mathcal{O}(\\Delta t^4) \\\\          \n",
    "        &= 2 r_i(t)\n",
    "            - r_i(t - \\Delta t)\n",
    "            + a_i(t) \\Delta t ^2\n",
    "            + \\mathcal{O}(\\Delta t^4)\n",
    "        .\n",
    "\\end{align}\n",
    "\n",
    "As we can see, this is good to $\\mathcal{O}(\\Delta t^4)$. (Note that the above derivation is equivalent to one using finite-difference methods, since those are based on Taylor series anyway.)"
   ]
  },
  {
   "cell_type": "markdown",
   "metadata": {},
   "source": [
    "Let's write two functions that implement the Verlet algorithm functions."
   ]
  },
  {
   "cell_type": "code",
   "execution_count": null,
   "metadata": {},
   "outputs": [],
   "source": [
    "def verlet_1(r: np.ndarray, v: np.ndarray, a: np.ndarray, dt: float) -> np.ndarray:\n",
    "    \"\"\"Implements the first Verlet algorithm equation.\"\"\"\n",
    "    return r + dt * v + dt ** 2 / 2 * a\n",
    "\n",
    "def verlet_2(r_1: np.ndarray, r_2: np.ndarray, a: np.ndarray, dt: float) -> np.ndarray:\n",
    "    \"\"\"Implements the second Verlet algorithm equation.\n",
    "    \n",
    "    Note that the input parameter r_1 specifies the position at time t,\n",
    "    while the input parameter r_2 specifies the position at time t - dt.\n",
    "    \"\"\"\n",
    "    return 2 * r_1 - r_2 + dt ** 2 * a"
   ]
  },
  {
   "cell_type": "markdown",
   "metadata": {},
   "source": [
    "Let's test to make sure our functions do what they should do."
   ]
  },
  {
   "cell_type": "code",
   "execution_count": null,
   "metadata": {},
   "outputs": [],
   "source": [
    "# Set up initial data\n",
    "init_pos = np.array([0, 3])\n",
    "init_vel = np.array([1, 5])\n",
    "\n",
    "# These are constant\n",
    "accel = np.array([0, -9.8])\n",
    "dt = 0.1"
   ]
  },
  {
   "cell_type": "code",
   "execution_count": null,
   "metadata": {},
   "outputs": [],
   "source": [
    "# Test\n",
    "num_iters = 20\n",
    "\n",
    "t = 0\n",
    "last_pos = init_pos\n",
    "pos = init_pos\n",
    "\n",
    "print_test = lambda r, t: print(\"t=%.2f\\tx=%.2f\\ty=%.2f\" % (t, r[0], r[1]))\n",
    "\n",
    "# 0th iter\n",
    "print_test(pos, t)\n",
    "\n",
    "# 1st iter\n",
    "pos = verlet_1(pos, init_vel, accel, dt)\n",
    "t += dt\n",
    "\n",
    "print_test(pos, t)\n",
    "\n",
    "# Remaining iters\n",
    "for _ in range(num_iters - 1):\n",
    "    pos, last_pos = (verlet_2(pos, last_pos, accel, dt), pos)\n",
    "    t += dt\n",
    "    \n",
    "    print_test(pos, t)"
   ]
  },
  {
   "cell_type": "markdown",
   "metadata": {},
   "source": [
    "# Flight to the Moon: Apollo 8"
   ]
  },
  {
   "cell_type": "markdown",
   "metadata": {},
   "source": [
    "Now we're going to try to build a simulation around launching a rocket from Earth, with the goal of orbiting around the Moon and returning safely back to Earth."
   ]
  },
  {
   "cell_type": "markdown",
   "metadata": {},
   "source": [
    "## Setup"
   ]
  },
  {
   "cell_type": "markdown",
   "metadata": {},
   "source": [
    "First let's set up the physical constants we'll need."
   ]
  },
  {
   "cell_type": "code",
   "execution_count": null,
   "metadata": {},
   "outputs": [],
   "source": [
    "# Gravity constant in N m^2 / kg^2\n",
    "CONST_G = 6.6743015e-11\n",
    "\n",
    "# Mass of earth and moon in kg\n",
    "MASS_EARTH = 5.972e24\n",
    "MASS_MOON = 7.34767e22\n",
    "\n",
    "# Radius measurements in m\n",
    "RADIUS_MOON_EARTH_ORBIT = 3.84e8\n",
    "RADIUS_EARTH = 6.3781e6\n",
    "RADIUS_MOON = 1.74e6\n",
    "\n",
    "# Period of Moon's orbit around earth\n",
    "PERIOD_MOON_EARTH_ORBIT = math.sqrt(\n",
    "    4 * np.pi ** 2 * RADIUS_MOON_EARTH_ORBIT ** 3 / (CONST_G * MASS_EARTH)\n",
    ")\n",
    "ANGULAR_FREQ_MOON_EARTH_ORBIT = math.sqrt(\n",
    "    CONST_G * MASS_EARTH / RADIUS_MOON_EARTH_ORBIT ** 3\n",
    ")"
   ]
  },
  {
   "cell_type": "code",
   "execution_count": null,
   "metadata": {},
   "outputs": [],
   "source": [
    "# Use a class as a namespace to abbreviate the constants without\n",
    "# polluting main namespace\n",
    "class Attrs:\n",
    "    pass\n",
    "\n",
    "\n",
    "consts = Attrs()\n",
    "consts.G = CONST_G\n",
    "consts.ME = MASS_EARTH\n",
    "consts.MM = MASS_MOON\n",
    "consts.D = RADIUS_MOON_EARTH_ORBIT\n",
    "consts.RE = RADIUS_EARTH\n",
    "consts.RM = RADIUS_MOON\n",
    "consts.T = PERIOD_MOON_EARTH_ORBIT\n",
    "consts.omega = ANGULAR_FREQ_MOON_EARTH_ORBIT"
   ]
  },
  {
   "cell_type": "markdown",
   "metadata": {},
   "source": [
    "Note that in the Verlet algorithm\n",
    "\n",
    "\\begin{equation}\n",
    "    a_i(t) = \\frac{F_i(t)}{m_i}\n",
    "\\end{equation}\n",
    "\n",
    "has $m_i$ in the denominator, and the gravity force has $m_i$ in the numerator. Both masses cancel each other out, and hence we don't need to worry about the mass of the rocket when doing our simulation. This is because we're going to assume that the force exerted on the Earth/Moon by the rocket is negligibly small."
   ]
  },
  {
   "cell_type": "markdown",
   "metadata": {},
   "source": [
    "The values of the period of the Moon's orbit around earth $T$ and the corresponding angular frequency $\\omega$ are shown below."
   ]
  },
  {
   "cell_type": "code",
   "execution_count": null,
   "metadata": {},
   "outputs": [],
   "source": [
    "print(\"T\\t= %e s\" % consts.T)\n",
    "print(\"omega\\t= %e rad/s\" % consts.omega)"
   ]
  },
  {
   "cell_type": "markdown",
   "metadata": {},
   "source": [
    "## Estimating required launch speed"
   ]
  },
  {
   "cell_type": "markdown",
   "metadata": {},
   "source": [
    "In our simulation, we're going to exclusively consider three particles: the Earth, the Moon, and the rocket. The Earth will be fixed at the origin of our coordinate system, and the Moon will orbit around the Earth in a fixed trajectory."
   ]
  },
  {
   "cell_type": "markdown",
   "metadata": {},
   "source": [
    "Using conservation of energy, we can estimate the required launch velocity $v_0$ using\n",
    "\n",
    "\\begin{align}\n",
    "    &\\frac{1}{2} m v_0^2 - \\frac{G M_E m}{R_E} = - \\frac{G M_E m}{D} \\\\\n",
    "    &\\Rightarrow v_0 = \\sqrt{ 2 G M_E \\left( \\frac{1}{R_E} - \\frac{1}{D} \\right) }\n",
    "    .\n",
    "\\end{align}\n",
    "\n",
    "We estimate $v_0$ using this formula below."
   ]
  },
  {
   "cell_type": "code",
   "execution_count": null,
   "metadata": {},
   "outputs": [],
   "source": [
    "approx_v_0 = math.sqrt(2 * consts.G * consts.ME * (1 / consts.RE - (1 / consts.D)))\n",
    "\n",
    "print(\"initial required velocity estimate: %.2f m/s\" % approx_v_0)"
   ]
  },
  {
   "cell_type": "markdown",
   "metadata": {},
   "source": [
    "## Computing the rocket's acceleration"
   ]
  },
  {
   "cell_type": "markdown",
   "metadata": {},
   "source": [
    "Let's write a function that gives us the acceleration of the rocket given the position of the rocket, the Moon, and the Earth. Since the Earth is fixed at the origin, we don't need to explicitly pass it in."
   ]
  },
  {
   "cell_type": "code",
   "execution_count": null,
   "metadata": {},
   "outputs": [],
   "source": [
    "def rocket_accel(r_ship: np.ndarray, r_moon: np.ndarray) -> np.ndarray:\n",
    "    \"\"\"Find the acceleration on the rocket due to the Moon and Earth.\"\"\"\n",
    "    # Calculate displacement vectors\n",
    "    delta_r_moon = r_moon - r_ship\n",
    "    delta_r_earth = r_ship\n",
    "\n",
    "    # Calculate acceleration due to Moon and Earth\n",
    "    a_moon = -delta_r_moon * consts.G * consts.MM / np.linalg.norm(delta_r_moon) ** 3\n",
    "    a_earth = -delta_r_earth * consts.G * consts.ME / np.linalg.norm(delta_r_earth) ** 3\n",
    "\n",
    "    # Return the total acceleration\n",
    "    return a_moon + a_earth"
   ]
  },
  {
   "cell_type": "markdown",
   "metadata": {},
   "source": [
    "Let's test this acceleration function by seeing what it returns when the rocket is at position $(R_E, 0)$ and the Moon is at position $(D, 0)$."
   ]
  },
  {
   "cell_type": "code",
   "execution_count": null,
   "metadata": {},
   "outputs": [],
   "source": [
    "res = rocket_accel(np.array([consts.RE, 0]), np.array([consts.D, 0]))\n",
    "\n",
    "print(\"test acceleration: %s\" % res)"
   ]
  },
  {
   "cell_type": "markdown",
   "metadata": {},
   "source": [
    "Looks good."
   ]
  },
  {
   "cell_type": "markdown",
   "metadata": {},
   "source": [
    "## Simulation"
   ]
  },
  {
   "cell_type": "markdown",
   "metadata": {},
   "source": [
    "Now let's actually simulate the rocket. We'll try to find an appropriate $v_0$ that results in a successful trajectory given an $\\alpha$ which tells us the initial angle of the Moon."
   ]
  },
  {
   "cell_type": "code",
   "execution_count": null,
   "metadata": {},
   "outputs": [],
   "source": [
    "def run_rocket_simulation(\n",
    "    alpha: float, v_0: float, dt: float, ts: np.ndarray\n",
    ") -> Tuple[np.ndarray]:\n",
    "    \"\"\"Run the Verlet simulation for the rocket.\"\"\"\n",
    "    # Determine number of time points\n",
    "    num_ts = ts.shape[0]\n",
    "\n",
    "    # Store positions for ship\n",
    "    rs_ship = np.zeros((num_ts, 2))\n",
    "\n",
    "    # Calculate Moon positions all at once\n",
    "    rs_moon = np.zeros((num_ts, 2))\n",
    "    rs_moon[:, 0] = consts.D * np.cos(alpha + consts.omega * ts)\n",
    "    rs_moon[:, 1] = consts.D * np.sin(alpha + consts.omega * ts)\n",
    "\n",
    "    # Get first and second ship positions\n",
    "    rs_ship[0] = np.array([consts.RE, 0])\n",
    "    rs_ship[1] = verlet_1(\n",
    "        r=rs_ship[0],\n",
    "        v=np.array([v_0, 0]),\n",
    "        a=rocket_accel(r_ship=rs_ship[0], r_moon=rs_moon[0]),\n",
    "        dt=dt,\n",
    "    )\n",
    "\n",
    "    # Now get the remaining ship positions\n",
    "    for i in tqdm(range(2, num_ts)):\n",
    "        rs_ship[i] = verlet_2(\n",
    "            r_1=rs_ship[i - 1],\n",
    "            r_2=rs_ship[i - 2],\n",
    "            a=rocket_accel(r_ship=rs_ship[i - 1], r_moon=rs_moon[i - 1]),\n",
    "            dt=dt,\n",
    "        )\n",
    "\n",
    "    # Return simulation data\n",
    "    return (rs_ship, rs_moon)"
   ]
  },
  {
   "cell_type": "code",
   "execution_count": null,
   "metadata": {},
   "outputs": [],
   "source": [
    "# Initial Moon angle\n",
    "alpha = -1\n",
    "\n",
    "# Initial velocity\n",
    "v_0 = approx_v_0"
   ]
  },
  {
   "cell_type": "code",
   "execution_count": null,
   "metadata": {},
   "outputs": [],
   "source": [
    "# Times to evaluate simulation\n",
    "dt = 4 # seconds\n",
    "end_time = 10 ** 7\n",
    "\n",
    "ts = np.arange(0, end_time + dt, dt)"
   ]
  },
  {
   "cell_type": "code",
   "execution_count": null,
   "metadata": {},
   "outputs": [],
   "source": [
    "# Run the simulation\n",
    "rs_ship, rs_moon = run_rocket_simulation(alpha, v_0, dt, ts)"
   ]
  },
  {
   "cell_type": "markdown",
   "metadata": {},
   "source": [
    " ## Plotting trajectories   "
   ]
  },
  {
   "cell_type": "markdown",
   "metadata": {},
   "source": [
    "Now that we've ran the simulation, we can plot our simulation data."
   ]
  },
  {
   "cell_type": "code",
   "execution_count": null,
   "metadata": {},
   "outputs": [],
   "source": [
    "# Set up figure\n",
    "_, ax = plt.subplots()\n",
    "\n",
    "# Plot simulation data\n",
    "plt.scatter(x = rs_ship[:,0], y=rs_ship[:,1])\n",
    "plt.scatter(x = rs_moon[:,0], y=rs_moon[:,1])"
   ]
  }
 ],
 "metadata": {
  "kernelspec": {
   "display_name": "Python 3",
   "language": "python",
   "name": "python3"
  },
  "language_info": {
   "codemirror_mode": {
    "name": "ipython",
    "version": 3
   },
   "file_extension": ".py",
   "mimetype": "text/x-python",
   "name": "python",
   "nbconvert_exporter": "python",
   "pygments_lexer": "ipython3",
   "version": "3.8.1"
  }
 },
 "nbformat": 4,
 "nbformat_minor": 2
}
